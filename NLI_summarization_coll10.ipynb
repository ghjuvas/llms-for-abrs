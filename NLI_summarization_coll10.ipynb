{
  "nbformat": 4,
  "nbformat_minor": 0,
  "metadata": {
    "colab": {
      "provenance": [],
      "collapsed_sections": [
        "MhMWbg9HsR54",
        "pV5TehbmuBIQ"
      ]
    },
    "kernelspec": {
      "name": "python3",
      "display_name": "Python 3"
    },
    "language_info": {
      "name": "python"
    }
  },
  "cells": [
    {
      "cell_type": "markdown",
      "source": [
        "# Aspect-based summarization: pair classification and clustering"
      ],
      "metadata": {
        "id": "TLX3fvq0oaT3"
      }
    },
    {
      "cell_type": "markdown",
      "source": [
        "## Imports"
      ],
      "metadata": {
        "id": "q9yMlUYTodpW"
      }
    },
    {
      "cell_type": "code",
      "execution_count": 68,
      "metadata": {
        "id": "CRMnmBF5oHbk"
      },
      "outputs": [],
      "source": [
        "!pip3 install nltk stanza transformers evaluate seqeval --quiet"
      ]
    },
    {
      "cell_type": "code",
      "source": [
        "from abc import ABC, abstractmethod\n",
        "from collections import defaultdict, Counter\n",
        "from copy import deepcopy\n",
        "from google.colab import drive\n",
        "from ast import literal_eval\n",
        "import logging\n",
        "import os\n",
        "import random\n",
        "from string import punctuation\n",
        "from typing import Union\n",
        "from functools import reduce\n",
        "\n",
        "import numpy as np\n",
        "import pandas as pd\n",
        "\n",
        "import stanza\n",
        "import nltk\n",
        "from nltk import collocations\n",
        "\n",
        "import torch\n",
        "\n",
        "import transformers\n",
        "from transformers import AutoTokenizer, AutoModelForSequenceClassification\n",
        "from transformers import TrainingArguments, Trainer\n",
        "from transformers import pipeline\n",
        "\n",
        "from sklearn.cluster import AffinityPropagation\n",
        "from scipy.spatial import distance\n",
        "\n",
        "from sklearn.metrics import classification_report"
      ],
      "metadata": {
        "id": "1_gwHteDohIN"
      },
      "execution_count": 69,
      "outputs": []
    },
    {
      "cell_type": "code",
      "source": [
        "PUNCTUATION = punctuation.replace('\\'', '').replace('\"', '')"
      ],
      "metadata": {
        "id": "F2OnRPinoxdy"
      },
      "execution_count": 70,
      "outputs": []
    },
    {
      "cell_type": "code",
      "source": [
        "stanza.download('ru')\n",
        "nltk.download('popular')"
      ],
      "metadata": {
        "colab": {
          "base_uri": "https://localhost:8080/"
        },
        "id": "uN-qXAWxo0Br",
        "outputId": "3dd5c7d7-34c7-4766-c2e9-618b99ee5746"
      },
      "execution_count": 71,
      "outputs": [
        {
          "output_type": "stream",
          "name": "stderr",
          "text": [
            "[nltk_data] Downloading collection 'popular'\n",
            "[nltk_data]    | \n",
            "[nltk_data]    | Downloading package cmudict to /root/nltk_data...\n",
            "[nltk_data]    |   Package cmudict is already up-to-date!\n",
            "[nltk_data]    | Downloading package gazetteers to /root/nltk_data...\n",
            "[nltk_data]    |   Package gazetteers is already up-to-date!\n",
            "[nltk_data]    | Downloading package genesis to /root/nltk_data...\n",
            "[nltk_data]    |   Package genesis is already up-to-date!\n",
            "[nltk_data]    | Downloading package gutenberg to /root/nltk_data...\n",
            "[nltk_data]    |   Package gutenberg is already up-to-date!\n",
            "[nltk_data]    | Downloading package inaugural to /root/nltk_data...\n",
            "[nltk_data]    |   Package inaugural is already up-to-date!\n",
            "[nltk_data]    | Downloading package movie_reviews to\n",
            "[nltk_data]    |     /root/nltk_data...\n",
            "[nltk_data]    |   Package movie_reviews is already up-to-date!\n",
            "[nltk_data]    | Downloading package names to /root/nltk_data...\n",
            "[nltk_data]    |   Package names is already up-to-date!\n",
            "[nltk_data]    | Downloading package shakespeare to /root/nltk_data...\n",
            "[nltk_data]    |   Package shakespeare is already up-to-date!\n",
            "[nltk_data]    | Downloading package stopwords to /root/nltk_data...\n",
            "[nltk_data]    |   Package stopwords is already up-to-date!\n",
            "[nltk_data]    | Downloading package treebank to /root/nltk_data...\n",
            "[nltk_data]    |   Package treebank is already up-to-date!\n",
            "[nltk_data]    | Downloading package twitter_samples to\n",
            "[nltk_data]    |     /root/nltk_data...\n",
            "[nltk_data]    |   Package twitter_samples is already up-to-date!\n",
            "[nltk_data]    | Downloading package omw to /root/nltk_data...\n",
            "[nltk_data]    |   Package omw is already up-to-date!\n",
            "[nltk_data]    | Downloading package omw-1.4 to /root/nltk_data...\n",
            "[nltk_data]    |   Package omw-1.4 is already up-to-date!\n",
            "[nltk_data]    | Downloading package wordnet to /root/nltk_data...\n",
            "[nltk_data]    |   Package wordnet is already up-to-date!\n",
            "[nltk_data]    | Downloading package wordnet2021 to /root/nltk_data...\n",
            "[nltk_data]    |   Package wordnet2021 is already up-to-date!\n",
            "[nltk_data]    | Downloading package wordnet31 to /root/nltk_data...\n",
            "[nltk_data]    |   Package wordnet31 is already up-to-date!\n",
            "[nltk_data]    | Downloading package wordnet_ic to /root/nltk_data...\n",
            "[nltk_data]    |   Package wordnet_ic is already up-to-date!\n",
            "[nltk_data]    | Downloading package words to /root/nltk_data...\n",
            "[nltk_data]    |   Package words is already up-to-date!\n",
            "[nltk_data]    | Downloading package maxent_ne_chunker to\n",
            "[nltk_data]    |     /root/nltk_data...\n",
            "[nltk_data]    |   Package maxent_ne_chunker is already up-to-date!\n",
            "[nltk_data]    | Downloading package punkt to /root/nltk_data...\n",
            "[nltk_data]    |   Package punkt is already up-to-date!\n",
            "[nltk_data]    | Downloading package snowball_data to\n",
            "[nltk_data]    |     /root/nltk_data...\n",
            "[nltk_data]    |   Package snowball_data is already up-to-date!\n",
            "[nltk_data]    | Downloading package averaged_perceptron_tagger to\n",
            "[nltk_data]    |     /root/nltk_data...\n",
            "[nltk_data]    |   Package averaged_perceptron_tagger is already up-\n",
            "[nltk_data]    |       to-date!\n",
            "[nltk_data]    | \n",
            "[nltk_data]  Done downloading collection popular\n"
          ]
        },
        {
          "output_type": "execute_result",
          "data": {
            "text/plain": [
              "True"
            ]
          },
          "metadata": {},
          "execution_count": 71
        }
      ]
    },
    {
      "cell_type": "code",
      "source": [
        "RUS_SW = set(nltk.corpus.stopwords.words('russian') + ['минус', 'плюс', 'отзыв', 'достоинство', 'недостаток', 'комментарий', 'это'])"
      ],
      "metadata": {
        "id": "8TxVw-G2CtTD"
      },
      "execution_count": 72,
      "outputs": []
    },
    {
      "cell_type": "code",
      "source": [
        "def seed_everything(seed=42) -> None:\n",
        "    random.seed(seed)\n",
        "    os.environ['PYTHONHASHSEED'] = str(seed)\n",
        "    np.random.seed(seed)\n",
        "    if torch.cuda.is_available():\n",
        "        torch.cuda.manual_seed(seed)\n",
        "        torch.cuda.manual_seed_all(seed)\n",
        "        torch.backends.cudnn.benchmark = True\n",
        "        torch.backends.cudnn.deterministic = False"
      ],
      "metadata": {
        "id": "tc0NN3j6pqgp"
      },
      "execution_count": 73,
      "outputs": []
    },
    {
      "cell_type": "code",
      "source": [
        "seed_everything()"
      ],
      "metadata": {
        "id": "RF4gUmpnpq_y"
      },
      "execution_count": 74,
      "outputs": []
    },
    {
      "cell_type": "code",
      "source": [
        "device = 'cuda' if torch.cuda.is_available() else 'cpu'"
      ],
      "metadata": {
        "id": "Kxc7esbspu9X"
      },
      "execution_count": 75,
      "outputs": []
    },
    {
      "cell_type": "code",
      "source": [
        "drive.mount('/content/drive')"
      ],
      "metadata": {
        "colab": {
          "base_uri": "https://localhost:8080/"
        },
        "id": "ZXQmBV0ppw5x",
        "outputId": "63b59c4e-f53c-4638-d3cb-b2ac7e6fb418"
      },
      "execution_count": 76,
      "outputs": [
        {
          "output_type": "stream",
          "name": "stdout",
          "text": [
            "Drive already mounted at /content/drive; to attempt to forcibly remount, call drive.mount(\"/content/drive\", force_remount=True).\n"
          ]
        }
      ]
    },
    {
      "cell_type": "code",
      "source": [
        "SENTIMENT = ['neutral', 'positive', 'negative']\n",
        "id2label_sentiment = {i: label for i, label in enumerate(SENTIMENT)}\n",
        "label2id_sentiment = {v: k for k, v in id2label_sentiment.items()}"
      ],
      "metadata": {
        "id": "52mnqSiarVpp"
      },
      "execution_count": 77,
      "outputs": []
    },
    {
      "cell_type": "code",
      "source": [
        "SPECIAL_TOKENS = {\n",
        "    'bert': {\n",
        "        'cls': '[CLS]',\n",
        "        'sep': '[SEP]'\n",
        "    },\n",
        "    'xlm': {\n",
        "        'cls': '<s>',\n",
        "        'sep': '</s>'\n",
        "    }\n",
        "}"
      ],
      "metadata": {
        "id": "mFyVPZIVrZKD"
      },
      "execution_count": 78,
      "outputs": []
    },
    {
      "cell_type": "markdown",
      "source": [
        "## Data"
      ],
      "metadata": {
        "id": "MhMWbg9HsR54"
      }
    },
    {
      "cell_type": "code",
      "source": [
        "laptop_reviews = pd.read_csv('/content/drive/MyDrive/Summarization/laptop data/reviews.tsv', delimiter='\\t')\n",
        "laptop_aspects = pd.read_excel('/content/drive/MyDrive/Summarization/laptop data/datasets/aspects-surface.xlsx')"
      ],
      "metadata": {
        "id": "-JNIoFyHswXc"
      },
      "execution_count": 79,
      "outputs": []
    },
    {
      "cell_type": "code",
      "source": [
        "laptop_aspects['term_from'].astype(int)\n",
        "laptop_aspects['term_to'].astype(int);"
      ],
      "metadata": {
        "id": "vKdmirWQt6T8"
      },
      "execution_count": 80,
      "outputs": []
    },
    {
      "cell_type": "code",
      "source": [
        "laptop_reviews.head()"
      ],
      "metadata": {
        "colab": {
          "base_uri": "https://localhost:8080/",
          "height": 0
        },
        "id": "1sxeeLIp8p_Q",
        "outputId": "f6e0a92d-5727-457e-c604-04e7888ffa37"
      },
      "execution_count": 81,
      "outputs": [
        {
          "output_type": "execute_result",
          "data": {
            "text/plain": [
              "   id  product_id                                               text  \\\n",
              "0   0           0  Плюсы: Unix Трекпад Качественный экран Качеств...   \n",
              "1   1           0  Плюсы: - качество картинки на мониторе - тачпа...   \n",
              "2   2           0  Плюсы: алюминий, марка, батарейка, экран, вес,...   \n",
              "3   3           0  Плюсы: - Экран - Тачпад - Качество сборки - Фи...   \n",
              "4   4           0  Плюсы: + вес + производительность + Дизайн + у...   \n",
              "\n",
              "                                              pluses  \\\n",
              "0  Unix Трекпад Качественный экран Качество сборк...   \n",
              "1  - качество картинки на мониторе - тачпад прост...   \n",
              "2       алюминий, марка, батарейка, экран, вес, звук   \n",
              "3  - Экран - Тачпад - Качество сборки - Фишки Mac...   \n",
              "4  + вес + производительность + Дизайн + удобная ...   \n",
              "\n",
              "                                             minuses  \\\n",
              "0  Трекпад начал пощелкивать спустя 3 месяца посл...   \n",
              "1  - корпус хрупковат, чуть ударил - вмятина на а...   \n",
              "2           софт ооооооооочень дорогой и многое нет!   \n",
              "3  - Отсутствие Ethernet порта, все-таки ethernet...   \n",
              "4  - со временем появляются битые пиксели - кабел...   \n",
              "\n",
              "                                              review  stars  \n",
              "0  Я работаю разработчиком и покупал ноутбук имен...      5  \n",
              "1  Успел купить пару месяцев назад, сейчас смотрю...      5  \n",
              "2  купил, первое впечатление ВАУ . Потом когда до...      4  \n",
              "3  Отличный ноутбук. После работы за таким экрано...      5  \n",
              "4  Пользуюсь моделью 2013 года уже 2.5 года. Моде...      5  "
            ],
            "text/html": [
              "\n",
              "  <div id=\"df-0c5f51f9-99c6-4f18-9566-f86e351dce2a\">\n",
              "    <div class=\"colab-df-container\">\n",
              "      <div>\n",
              "<style scoped>\n",
              "    .dataframe tbody tr th:only-of-type {\n",
              "        vertical-align: middle;\n",
              "    }\n",
              "\n",
              "    .dataframe tbody tr th {\n",
              "        vertical-align: top;\n",
              "    }\n",
              "\n",
              "    .dataframe thead th {\n",
              "        text-align: right;\n",
              "    }\n",
              "</style>\n",
              "<table border=\"1\" class=\"dataframe\">\n",
              "  <thead>\n",
              "    <tr style=\"text-align: right;\">\n",
              "      <th></th>\n",
              "      <th>id</th>\n",
              "      <th>product_id</th>\n",
              "      <th>text</th>\n",
              "      <th>pluses</th>\n",
              "      <th>minuses</th>\n",
              "      <th>review</th>\n",
              "      <th>stars</th>\n",
              "    </tr>\n",
              "  </thead>\n",
              "  <tbody>\n",
              "    <tr>\n",
              "      <th>0</th>\n",
              "      <td>0</td>\n",
              "      <td>0</td>\n",
              "      <td>Плюсы: Unix Трекпад Качественный экран Качеств...</td>\n",
              "      <td>Unix Трекпад Качественный экран Качество сборк...</td>\n",
              "      <td>Трекпад начал пощелкивать спустя 3 месяца посл...</td>\n",
              "      <td>Я работаю разработчиком и покупал ноутбук имен...</td>\n",
              "      <td>5</td>\n",
              "    </tr>\n",
              "    <tr>\n",
              "      <th>1</th>\n",
              "      <td>1</td>\n",
              "      <td>0</td>\n",
              "      <td>Плюсы: - качество картинки на мониторе - тачпа...</td>\n",
              "      <td>- качество картинки на мониторе - тачпад прост...</td>\n",
              "      <td>- корпус хрупковат, чуть ударил - вмятина на а...</td>\n",
              "      <td>Успел купить пару месяцев назад, сейчас смотрю...</td>\n",
              "      <td>5</td>\n",
              "    </tr>\n",
              "    <tr>\n",
              "      <th>2</th>\n",
              "      <td>2</td>\n",
              "      <td>0</td>\n",
              "      <td>Плюсы: алюминий, марка, батарейка, экран, вес,...</td>\n",
              "      <td>алюминий, марка, батарейка, экран, вес, звук</td>\n",
              "      <td>софт ооооооооочень дорогой и многое нет!</td>\n",
              "      <td>купил, первое впечатление ВАУ . Потом когда до...</td>\n",
              "      <td>4</td>\n",
              "    </tr>\n",
              "    <tr>\n",
              "      <th>3</th>\n",
              "      <td>3</td>\n",
              "      <td>0</td>\n",
              "      <td>Плюсы: - Экран - Тачпад - Качество сборки - Фи...</td>\n",
              "      <td>- Экран - Тачпад - Качество сборки - Фишки Mac...</td>\n",
              "      <td>- Отсутствие Ethernet порта, все-таки ethernet...</td>\n",
              "      <td>Отличный ноутбук. После работы за таким экрано...</td>\n",
              "      <td>5</td>\n",
              "    </tr>\n",
              "    <tr>\n",
              "      <th>4</th>\n",
              "      <td>4</td>\n",
              "      <td>0</td>\n",
              "      <td>Плюсы: + вес + производительность + Дизайн + у...</td>\n",
              "      <td>+ вес + производительность + Дизайн + удобная ...</td>\n",
              "      <td>- со временем появляются битые пиксели - кабел...</td>\n",
              "      <td>Пользуюсь моделью 2013 года уже 2.5 года. Моде...</td>\n",
              "      <td>5</td>\n",
              "    </tr>\n",
              "  </tbody>\n",
              "</table>\n",
              "</div>\n",
              "      <button class=\"colab-df-convert\" onclick=\"convertToInteractive('df-0c5f51f9-99c6-4f18-9566-f86e351dce2a')\"\n",
              "              title=\"Convert this dataframe to an interactive table.\"\n",
              "              style=\"display:none;\">\n",
              "        \n",
              "  <svg xmlns=\"http://www.w3.org/2000/svg\" height=\"24px\"viewBox=\"0 0 24 24\"\n",
              "       width=\"24px\">\n",
              "    <path d=\"M0 0h24v24H0V0z\" fill=\"none\"/>\n",
              "    <path d=\"M18.56 5.44l.94 2.06.94-2.06 2.06-.94-2.06-.94-.94-2.06-.94 2.06-2.06.94zm-11 1L8.5 8.5l.94-2.06 2.06-.94-2.06-.94L8.5 2.5l-.94 2.06-2.06.94zm10 10l.94 2.06.94-2.06 2.06-.94-2.06-.94-.94-2.06-.94 2.06-2.06.94z\"/><path d=\"M17.41 7.96l-1.37-1.37c-.4-.4-.92-.59-1.43-.59-.52 0-1.04.2-1.43.59L10.3 9.45l-7.72 7.72c-.78.78-.78 2.05 0 2.83L4 21.41c.39.39.9.59 1.41.59.51 0 1.02-.2 1.41-.59l7.78-7.78 2.81-2.81c.8-.78.8-2.07 0-2.86zM5.41 20L4 18.59l7.72-7.72 1.47 1.35L5.41 20z\"/>\n",
              "  </svg>\n",
              "      </button>\n",
              "      \n",
              "  <style>\n",
              "    .colab-df-container {\n",
              "      display:flex;\n",
              "      flex-wrap:wrap;\n",
              "      gap: 12px;\n",
              "    }\n",
              "\n",
              "    .colab-df-convert {\n",
              "      background-color: #E8F0FE;\n",
              "      border: none;\n",
              "      border-radius: 50%;\n",
              "      cursor: pointer;\n",
              "      display: none;\n",
              "      fill: #1967D2;\n",
              "      height: 32px;\n",
              "      padding: 0 0 0 0;\n",
              "      width: 32px;\n",
              "    }\n",
              "\n",
              "    .colab-df-convert:hover {\n",
              "      background-color: #E2EBFA;\n",
              "      box-shadow: 0px 1px 2px rgba(60, 64, 67, 0.3), 0px 1px 3px 1px rgba(60, 64, 67, 0.15);\n",
              "      fill: #174EA6;\n",
              "    }\n",
              "\n",
              "    [theme=dark] .colab-df-convert {\n",
              "      background-color: #3B4455;\n",
              "      fill: #D2E3FC;\n",
              "    }\n",
              "\n",
              "    [theme=dark] .colab-df-convert:hover {\n",
              "      background-color: #434B5C;\n",
              "      box-shadow: 0px 1px 3px 1px rgba(0, 0, 0, 0.15);\n",
              "      filter: drop-shadow(0px 1px 2px rgba(0, 0, 0, 0.3));\n",
              "      fill: #FFFFFF;\n",
              "    }\n",
              "  </style>\n",
              "\n",
              "      <script>\n",
              "        const buttonEl =\n",
              "          document.querySelector('#df-0c5f51f9-99c6-4f18-9566-f86e351dce2a button.colab-df-convert');\n",
              "        buttonEl.style.display =\n",
              "          google.colab.kernel.accessAllowed ? 'block' : 'none';\n",
              "\n",
              "        async function convertToInteractive(key) {\n",
              "          const element = document.querySelector('#df-0c5f51f9-99c6-4f18-9566-f86e351dce2a');\n",
              "          const dataTable =\n",
              "            await google.colab.kernel.invokeFunction('convertToInteractive',\n",
              "                                                     [key], {});\n",
              "          if (!dataTable) return;\n",
              "\n",
              "          const docLinkHtml = 'Like what you see? Visit the ' +\n",
              "            '<a target=\"_blank\" href=https://colab.research.google.com/notebooks/data_table.ipynb>data table notebook</a>'\n",
              "            + ' to learn more about interactive tables.';\n",
              "          element.innerHTML = '';\n",
              "          dataTable['output_type'] = 'display_data';\n",
              "          await google.colab.output.renderOutput(dataTable, element);\n",
              "          const docLink = document.createElement('div');\n",
              "          docLink.innerHTML = docLinkHtml;\n",
              "          element.appendChild(docLink);\n",
              "        }\n",
              "      </script>\n",
              "    </div>\n",
              "  </div>\n",
              "  "
            ]
          },
          "metadata": {},
          "execution_count": 81
        }
      ]
    },
    {
      "cell_type": "code",
      "source": [
        "laptop_reviews[laptop_reviews['product_id'] == 1]"
      ],
      "metadata": {
        "colab": {
          "base_uri": "https://localhost:8080/",
          "height": 0
        },
        "id": "fXiuZiQHu9sA",
        "outputId": "cd4a02e6-1134-4a10-9c22-167c0fe8e774"
      },
      "execution_count": 82,
      "outputs": [
        {
          "output_type": "execute_result",
          "data": {
            "text/plain": [
              "    id  product_id                                               text  \\\n",
              "10  10           1  Плюсы: Unix Трекпад Качественный экран Качеств...   \n",
              "11  11           1  Плюсы: - качество картинки на мониторе - тачпа...   \n",
              "12  12           1  Плюсы: алюминий, марка, батарейка, экран, вес,...   \n",
              "13  13           1  Плюсы: - Экран - Тачпад - Качество сборки - Фи...   \n",
              "14  14           1  Плюсы: + вес + производительность + Дизайн + у...   \n",
              "15  15           1  Плюсы: Это apple, внем все на самом высше уров...   \n",
              "16  16           1  Плюсы: Дисплей -- если вы фотограф, то этот ди...   \n",
              "17  17           1  Плюсы: Всё! Трекпад Автономность (лучшая среди...   \n",
              "18  18           1  Плюсы: Все нравится. Дико рад пользованию данн...   \n",
              "19  19           1  Плюсы: + Дизайн (тонкий и красивый) + Вес устр...   \n",
              "\n",
              "                                               pluses  \\\n",
              "10  Unix Трекпад Качественный экран Качество сборк...   \n",
              "11  - качество картинки на мониторе - тачпад прост...   \n",
              "12       алюминий, марка, батарейка, экран, вес, звук   \n",
              "13  - Экран - Тачпад - Качество сборки - Фишки Mac...   \n",
              "14  + вес + производительность + Дизайн + удобная ...   \n",
              "15  Это apple, внем все на самом высше уровне! Куп...   \n",
              "16  Дисплей -- если вы фотограф, то этот дисплей д...   \n",
              "17  Всё! Трекпад Автономность (лучшая среди всех н...   \n",
              "18  Все нравится. Дико рад пользованию данным комп...   \n",
              "19  + Дизайн (тонкий и красивый) + Вес устройства ...   \n",
              "\n",
              "                                              minuses  \\\n",
              "10  Трекпад начал пощелкивать спустя 3 месяца посл...   \n",
              "11  - корпус хрупковат, чуть ударил - вмятина на а...   \n",
              "12           софт ооооооооочень дорогой и многое нет!   \n",
              "13  - Отсутствие Ethernet порта, все-таки ethernet...   \n",
              "14  - со временем появляются битые пиксели - кабел...   \n",
              "15  Цена. Цена. Цена. Но это наверное даже и +. Св...   \n",
              "16  После некоторого времени использования при раб...   \n",
              "17  Слабый корпус, многие пишут что повреждают его...   \n",
              "18                                         Таких нет.   \n",
              "19  - Цена (почти полностью оправдана) - Софт (под...   \n",
              "\n",
              "                                               review  stars  \n",
              "10  Я работаю разработчиком и покупал ноутбук имен...      5  \n",
              "11  Успел купить пару месяцев назад, сейчас смотрю...      5  \n",
              "12  купил, первое впечатление ВАУ . Потом когда до...      4  \n",
              "13  Отличный ноутбук. После работы за таким экрано...      5  \n",
              "14  Пользуюсь моделью 2013 года уже 2.5 года. Моде...      5  \n",
              "15  Думаю ноут мне года на три точно. В поездках в...      5  \n",
              "16  Конечно нужно сказать про цену. Она не маленьк...      5  \n",
              "17  Это лучший представитель рабочих ноутбуков, об...      5  \n",
              "18  Я на 2 года забыл - что такое загрузка и подви...      5  \n",
              "19                           Плюсы точно перевешивают      5  "
            ],
            "text/html": [
              "\n",
              "  <div id=\"df-a92d92bc-46c9-451d-adea-e1f1be24e600\">\n",
              "    <div class=\"colab-df-container\">\n",
              "      <div>\n",
              "<style scoped>\n",
              "    .dataframe tbody tr th:only-of-type {\n",
              "        vertical-align: middle;\n",
              "    }\n",
              "\n",
              "    .dataframe tbody tr th {\n",
              "        vertical-align: top;\n",
              "    }\n",
              "\n",
              "    .dataframe thead th {\n",
              "        text-align: right;\n",
              "    }\n",
              "</style>\n",
              "<table border=\"1\" class=\"dataframe\">\n",
              "  <thead>\n",
              "    <tr style=\"text-align: right;\">\n",
              "      <th></th>\n",
              "      <th>id</th>\n",
              "      <th>product_id</th>\n",
              "      <th>text</th>\n",
              "      <th>pluses</th>\n",
              "      <th>minuses</th>\n",
              "      <th>review</th>\n",
              "      <th>stars</th>\n",
              "    </tr>\n",
              "  </thead>\n",
              "  <tbody>\n",
              "    <tr>\n",
              "      <th>10</th>\n",
              "      <td>10</td>\n",
              "      <td>1</td>\n",
              "      <td>Плюсы: Unix Трекпад Качественный экран Качеств...</td>\n",
              "      <td>Unix Трекпад Качественный экран Качество сборк...</td>\n",
              "      <td>Трекпад начал пощелкивать спустя 3 месяца посл...</td>\n",
              "      <td>Я работаю разработчиком и покупал ноутбук имен...</td>\n",
              "      <td>5</td>\n",
              "    </tr>\n",
              "    <tr>\n",
              "      <th>11</th>\n",
              "      <td>11</td>\n",
              "      <td>1</td>\n",
              "      <td>Плюсы: - качество картинки на мониторе - тачпа...</td>\n",
              "      <td>- качество картинки на мониторе - тачпад прост...</td>\n",
              "      <td>- корпус хрупковат, чуть ударил - вмятина на а...</td>\n",
              "      <td>Успел купить пару месяцев назад, сейчас смотрю...</td>\n",
              "      <td>5</td>\n",
              "    </tr>\n",
              "    <tr>\n",
              "      <th>12</th>\n",
              "      <td>12</td>\n",
              "      <td>1</td>\n",
              "      <td>Плюсы: алюминий, марка, батарейка, экран, вес,...</td>\n",
              "      <td>алюминий, марка, батарейка, экран, вес, звук</td>\n",
              "      <td>софт ооооооооочень дорогой и многое нет!</td>\n",
              "      <td>купил, первое впечатление ВАУ . Потом когда до...</td>\n",
              "      <td>4</td>\n",
              "    </tr>\n",
              "    <tr>\n",
              "      <th>13</th>\n",
              "      <td>13</td>\n",
              "      <td>1</td>\n",
              "      <td>Плюсы: - Экран - Тачпад - Качество сборки - Фи...</td>\n",
              "      <td>- Экран - Тачпад - Качество сборки - Фишки Mac...</td>\n",
              "      <td>- Отсутствие Ethernet порта, все-таки ethernet...</td>\n",
              "      <td>Отличный ноутбук. После работы за таким экрано...</td>\n",
              "      <td>5</td>\n",
              "    </tr>\n",
              "    <tr>\n",
              "      <th>14</th>\n",
              "      <td>14</td>\n",
              "      <td>1</td>\n",
              "      <td>Плюсы: + вес + производительность + Дизайн + у...</td>\n",
              "      <td>+ вес + производительность + Дизайн + удобная ...</td>\n",
              "      <td>- со временем появляются битые пиксели - кабел...</td>\n",
              "      <td>Пользуюсь моделью 2013 года уже 2.5 года. Моде...</td>\n",
              "      <td>5</td>\n",
              "    </tr>\n",
              "    <tr>\n",
              "      <th>15</th>\n",
              "      <td>15</td>\n",
              "      <td>1</td>\n",
              "      <td>Плюсы: Это apple, внем все на самом высше уров...</td>\n",
              "      <td>Это apple, внем все на самом высше уровне! Куп...</td>\n",
              "      <td>Цена. Цена. Цена. Но это наверное даже и +. Св...</td>\n",
              "      <td>Думаю ноут мне года на три точно. В поездках в...</td>\n",
              "      <td>5</td>\n",
              "    </tr>\n",
              "    <tr>\n",
              "      <th>16</th>\n",
              "      <td>16</td>\n",
              "      <td>1</td>\n",
              "      <td>Плюсы: Дисплей -- если вы фотограф, то этот ди...</td>\n",
              "      <td>Дисплей -- если вы фотограф, то этот дисплей д...</td>\n",
              "      <td>После некоторого времени использования при раб...</td>\n",
              "      <td>Конечно нужно сказать про цену. Она не маленьк...</td>\n",
              "      <td>5</td>\n",
              "    </tr>\n",
              "    <tr>\n",
              "      <th>17</th>\n",
              "      <td>17</td>\n",
              "      <td>1</td>\n",
              "      <td>Плюсы: Всё! Трекпад Автономность (лучшая среди...</td>\n",
              "      <td>Всё! Трекпад Автономность (лучшая среди всех н...</td>\n",
              "      <td>Слабый корпус, многие пишут что повреждают его...</td>\n",
              "      <td>Это лучший представитель рабочих ноутбуков, об...</td>\n",
              "      <td>5</td>\n",
              "    </tr>\n",
              "    <tr>\n",
              "      <th>18</th>\n",
              "      <td>18</td>\n",
              "      <td>1</td>\n",
              "      <td>Плюсы: Все нравится. Дико рад пользованию данн...</td>\n",
              "      <td>Все нравится. Дико рад пользованию данным комп...</td>\n",
              "      <td>Таких нет.</td>\n",
              "      <td>Я на 2 года забыл - что такое загрузка и подви...</td>\n",
              "      <td>5</td>\n",
              "    </tr>\n",
              "    <tr>\n",
              "      <th>19</th>\n",
              "      <td>19</td>\n",
              "      <td>1</td>\n",
              "      <td>Плюсы: + Дизайн (тонкий и красивый) + Вес устр...</td>\n",
              "      <td>+ Дизайн (тонкий и красивый) + Вес устройства ...</td>\n",
              "      <td>- Цена (почти полностью оправдана) - Софт (под...</td>\n",
              "      <td>Плюсы точно перевешивают</td>\n",
              "      <td>5</td>\n",
              "    </tr>\n",
              "  </tbody>\n",
              "</table>\n",
              "</div>\n",
              "      <button class=\"colab-df-convert\" onclick=\"convertToInteractive('df-a92d92bc-46c9-451d-adea-e1f1be24e600')\"\n",
              "              title=\"Convert this dataframe to an interactive table.\"\n",
              "              style=\"display:none;\">\n",
              "        \n",
              "  <svg xmlns=\"http://www.w3.org/2000/svg\" height=\"24px\"viewBox=\"0 0 24 24\"\n",
              "       width=\"24px\">\n",
              "    <path d=\"M0 0h24v24H0V0z\" fill=\"none\"/>\n",
              "    <path d=\"M18.56 5.44l.94 2.06.94-2.06 2.06-.94-2.06-.94-.94-2.06-.94 2.06-2.06.94zm-11 1L8.5 8.5l.94-2.06 2.06-.94-2.06-.94L8.5 2.5l-.94 2.06-2.06.94zm10 10l.94 2.06.94-2.06 2.06-.94-2.06-.94-.94-2.06-.94 2.06-2.06.94z\"/><path d=\"M17.41 7.96l-1.37-1.37c-.4-.4-.92-.59-1.43-.59-.52 0-1.04.2-1.43.59L10.3 9.45l-7.72 7.72c-.78.78-.78 2.05 0 2.83L4 21.41c.39.39.9.59 1.41.59.51 0 1.02-.2 1.41-.59l7.78-7.78 2.81-2.81c.8-.78.8-2.07 0-2.86zM5.41 20L4 18.59l7.72-7.72 1.47 1.35L5.41 20z\"/>\n",
              "  </svg>\n",
              "      </button>\n",
              "      \n",
              "  <style>\n",
              "    .colab-df-container {\n",
              "      display:flex;\n",
              "      flex-wrap:wrap;\n",
              "      gap: 12px;\n",
              "    }\n",
              "\n",
              "    .colab-df-convert {\n",
              "      background-color: #E8F0FE;\n",
              "      border: none;\n",
              "      border-radius: 50%;\n",
              "      cursor: pointer;\n",
              "      display: none;\n",
              "      fill: #1967D2;\n",
              "      height: 32px;\n",
              "      padding: 0 0 0 0;\n",
              "      width: 32px;\n",
              "    }\n",
              "\n",
              "    .colab-df-convert:hover {\n",
              "      background-color: #E2EBFA;\n",
              "      box-shadow: 0px 1px 2px rgba(60, 64, 67, 0.3), 0px 1px 3px 1px rgba(60, 64, 67, 0.15);\n",
              "      fill: #174EA6;\n",
              "    }\n",
              "\n",
              "    [theme=dark] .colab-df-convert {\n",
              "      background-color: #3B4455;\n",
              "      fill: #D2E3FC;\n",
              "    }\n",
              "\n",
              "    [theme=dark] .colab-df-convert:hover {\n",
              "      background-color: #434B5C;\n",
              "      box-shadow: 0px 1px 3px 1px rgba(0, 0, 0, 0.15);\n",
              "      filter: drop-shadow(0px 1px 2px rgba(0, 0, 0, 0.3));\n",
              "      fill: #FFFFFF;\n",
              "    }\n",
              "  </style>\n",
              "\n",
              "      <script>\n",
              "        const buttonEl =\n",
              "          document.querySelector('#df-a92d92bc-46c9-451d-adea-e1f1be24e600 button.colab-df-convert');\n",
              "        buttonEl.style.display =\n",
              "          google.colab.kernel.accessAllowed ? 'block' : 'none';\n",
              "\n",
              "        async function convertToInteractive(key) {\n",
              "          const element = document.querySelector('#df-a92d92bc-46c9-451d-adea-e1f1be24e600');\n",
              "          const dataTable =\n",
              "            await google.colab.kernel.invokeFunction('convertToInteractive',\n",
              "                                                     [key], {});\n",
              "          if (!dataTable) return;\n",
              "\n",
              "          const docLinkHtml = 'Like what you see? Visit the ' +\n",
              "            '<a target=\"_blank\" href=https://colab.research.google.com/notebooks/data_table.ipynb>data table notebook</a>'\n",
              "            + ' to learn more about interactive tables.';\n",
              "          element.innerHTML = '';\n",
              "          dataTable['output_type'] = 'display_data';\n",
              "          await google.colab.output.renderOutput(dataTable, element);\n",
              "          const docLink = document.createElement('div');\n",
              "          docLink.innerHTML = docLinkHtml;\n",
              "          element.appendChild(docLink);\n",
              "        }\n",
              "      </script>\n",
              "    </div>\n",
              "  </div>\n",
              "  "
            ]
          },
          "metadata": {},
          "execution_count": 82
        }
      ]
    },
    {
      "cell_type": "markdown",
      "source": [
        "## Collocations"
      ],
      "metadata": {
        "id": "Ot8Salgpt_fn"
      }
    },
    {
      "cell_type": "markdown",
      "source": [
        "We can get collocations in two ways:\n",
        "* Get collocations from each review\n",
        "* Get collocations from the set of reviews by product"
      ],
      "metadata": {
        "id": "vZxA-h3Cuciw"
      }
    },
    {
      "cell_type": "markdown",
      "source": [
        "Let us get collocations from each review because firstly we should extract all of the aspects."
      ],
      "metadata": {
        "id": "yXtp3xpH70_U"
      }
    },
    {
      "cell_type": "code",
      "source": [
        "nlp = stanza.Pipeline('ru', proccessors='tokenize,pos,lemma', verbose=False, use_gpu=True)"
      ],
      "metadata": {
        "id": "mE7w4zh2Fg8Z"
      },
      "execution_count": 83,
      "outputs": []
    },
    {
      "cell_type": "code",
      "source": [
        "bigram_measures = collocations.BigramAssocMeasures()\n",
        "trigram_measures = collocations.TrigramAssocMeasures()"
      ],
      "metadata": {
        "id": "CftbGFiEJ56b"
      },
      "execution_count": 84,
      "outputs": []
    },
    {
      "cell_type": "code",
      "source": [
        "def get_text_info(text: str) -> list:\n",
        "    '''\n",
        "    Get info about tokens from text with stanza.\n",
        "    '''\n",
        "    doc = nlp(text)\n",
        "    lemmas = []  # verified lemmas\n",
        "    lemmas_tokens = []  # verified tokens with info\n",
        "    tokens = []  # all tokens\n",
        "    sents_with_end = {}  # sentences \n",
        "    for sent in doc.sentences:\n",
        "        for word, token in zip(sent.words, sent.tokens):\n",
        "            tokens.append((token.text, token.start_char, token.end_char))\n",
        "            lemma = word.lemma.lower()\n",
        "            if lemma not in RUS_SW and lemma not in PUNCTUATION:\n",
        "                lemmas.append(lemma)\n",
        "                lemmas_tokens.append((token.text, token.start_char, token.end_char))\n",
        "            end_idx = token.end_char  # last token in the current sentence\n",
        "            sents_with_end[end_idx] = sent.text\n",
        "\n",
        "    logging.warning('Got text info...')\n",
        "\n",
        "    return lemmas, lemmas_tokens, tokens, sents_with_end"
      ],
      "metadata": {
        "id": "gVb1H8qMILYL"
      },
      "execution_count": 85,
      "outputs": []
    },
    {
      "cell_type": "code",
      "source": [
        "def get_collocations(lemmatized: list, n: int = 10) -> list:\n",
        "    '''\n",
        "    Get list of collocations from the text.\n",
        "    '''\n",
        "    unigrams = [lemma for (lemma, count) in Counter(lemmatized).most_common(n)]\n",
        "\n",
        "    bigram_finder = collocations.BigramCollocationFinder.from_words(lemmatized)\n",
        "    bigrams = bigram_finder.nbest(bigram_measures.pmi, n)\n",
        "\n",
        "    trigram_finder = collocations.TrigramCollocationFinder.from_words(lemmatized)\n",
        "    trigrams = trigram_finder.nbest(trigram_measures.pmi, n)\n",
        "\n",
        "    logging.warning('Got collocations...')\n",
        "\n",
        "    return unigrams, bigrams, trigrams"
      ],
      "metadata": {
        "id": "rS1YbogUJdH0"
      },
      "execution_count": 86,
      "outputs": []
    },
    {
      "cell_type": "code",
      "source": [
        "def get_aspects_from_collocations(collocations: list, tokenized: list, text: str) -> list:\n",
        "    '''\n",
        "    Get aspects from tokens by lemmatized collocations.\n",
        "    '''\n",
        "    unigrams, bigrams, trigrams = collocations\n",
        "    lemmatized, lemmas_tokens, tokens, sents_with_end = tokenized\n",
        "\n",
        "    aspects = []\n",
        "\n",
        "    # unigram aspects\n",
        "    for unigram in unigrams:\n",
        "        for lemma, token in zip(lemmatized, lemmas_tokens):\n",
        "            if unigram == lemma:  # search all aspects with this lemma\n",
        "                aspects.append(token)\n",
        "\n",
        "    # n-grams aspects\n",
        "    ngrams = bigrams + trigrams\n",
        "\n",
        "    for ngram in ngrams:\n",
        "        for start_idx, start_lemma in enumerate(lemmatized):\n",
        "            if ngram[0] == start_lemma:\n",
        "                for i in range(7):  # search in the right window of 7 tokens\n",
        "                    if start_idx+i < len(lemmatized):\n",
        "                        if ngram[-1] == lemmatized[start_idx+i]:\n",
        "                            token_1, token_2 = lemmas_tokens[start_idx], lemmas_tokens[start_idx+i]\n",
        "                            ngram_tokens = tokens[tokens.index(token_1):tokens.index(token_2)+1]\n",
        "                            ngram_start = ngram_tokens[0][1]\n",
        "                            ngram_end = ngram_tokens[-1][2]\n",
        "                            full_ngram = text[ngram_start:ngram_end]\n",
        "                            ngram_tuple = (full_ngram, ngram_start, ngram_end)\n",
        "                            if ngram_tuple not in aspects:\n",
        "                                aspects.append(ngram_tuple)\n",
        "\n",
        "    aspects.sort(key=lambda x: x[1])\n",
        "\n",
        "    logging.warning('Got aspects...')\n",
        "\n",
        "    return aspects"
      ],
      "metadata": {
        "id": "zS5KTTe5JfQp"
      },
      "execution_count": 87,
      "outputs": []
    },
    {
      "cell_type": "code",
      "source": [
        "products_aspects = []\n",
        "for i in range(1, 8):\n",
        "    product_texts = laptop_reviews[laptop_reviews['product_id'] == i]['text'].values.tolist()\n",
        "    products_aspects.append(product_texts)\n",
        "    # print(len(product_texts))\n",
        "\n",
        "len(products_aspects)"
      ],
      "metadata": {
        "colab": {
          "base_uri": "https://localhost:8080/"
        },
        "id": "9UO1xb82cJhB",
        "outputId": "0388dc53-b6e1-4ec5-c8ba-9cbc5a384483"
      },
      "execution_count": 88,
      "outputs": [
        {
          "output_type": "execute_result",
          "data": {
            "text/plain": [
              "7"
            ]
          },
          "metadata": {},
          "execution_count": 88
        }
      ]
    },
    {
      "cell_type": "code",
      "source": [
        "products_aspects[0][:3]"
      ],
      "metadata": {
        "colab": {
          "base_uri": "https://localhost:8080/"
        },
        "id": "H66weCUMvhyN",
        "outputId": "dc791724-a4c8-4ff4-f0f8-428637a5c2ad"
      },
      "execution_count": 89,
      "outputs": [
        {
          "output_type": "execute_result",
          "data": {
            "text/plain": [
              "['Плюсы: Unix Трекпад Качественный экран Качество сборки Долгое время работы от аккумулятора Отличный звук от колонок Минусы: Трекпад начал пощелкивать спустя 3 месяца после покупки Аллюминиевый корпус вминается, если уронить/ударить ноутбук  Отзыв: Я работаю разработчиком и покупал ноутбук именно для работы. Пользуюсь ноутбуком уже 5-й месяц. До этого пару лет пользовался Thinkpad x220 и Linux. Очень радует то, что операционная система семейства Unix, а также то, что в интернете огромное количество информации под macOS и OS X для разработчиков, когда нужно что-то скомпилировать/собрать и т.д. Это как Linux, только очень качественный и доведенный до ума без его болячек, вроде того, что что-нибудь отвалится в процессе работы само по себе и т.д. Из недостатков: - корпус можно было бы сделать из более прочного материала - я один раз уронил ноутбук на кафель и получил неплохую вмятину на крышке. - не знаю с чем это связано, но трекпад начал немного потрескивать при касании в верхнем правом углу, работе не мешает, но портит общее впечатление Количество звёзд на отзыве: 5',\n",
              " 'Плюсы: - качество картинки на мониторе - тачпад просто нечто! - очень шустрый ssd - авторегулировка яркости и экрана и подсветки клавиатуры - нормальные разъемы USB, HDMI и отверстие для SD карточек, пока я считаю это плюс, лет 5 наверное станет скорее минусом, но через столько лет я наверное новый уже куплю, а пока у меня нет ни одного USB-С устройства - аккумулятор - нормальная POSIX операционная система, прям как Linux только с нормальным графическим интерфейсом - прекрасная интеграция с айфоном - выхлоп вентиляторов в сторону экрана - можно класть ноутбук на любой бок Минусы: - корпус хрупковат, чуть ударил - вмятина на алюминии - экран глянцевый все таки в определенных условиях отражает - отпечатки пальцев на экране и рамке очень хорошо видны - подвывает вентиляторами под нагрузкой Отзыв: Успел купить пару месяцев назад, сейчас смотрю как то из продажи стали резко исчезать, кому нужна действительно нормальная прошка - хватайте пока не поздно. До этого был thinkpad w510 и пользовался я различными линуксами. По сравнению с монстрообразным синкпадом в макбуке нет ничего лишнего, никаких диалап модемов, expresscard слотов и прочего. Зато есть самые нужные разъемы и наворотики типа датчика света. Чувствуется что когда модель разрабатывали реально думали каково будет житься пользователям и не лепили абы как все что можно влепить. Очень продуманный ноутбук до самых мелочей. Экран просто шикарен, по качеству картинки лучше монитора я не видел, немного портит все глянец на экране - легко залапывается и все таки отражает свет из окон. Тачпад с отдачей - просто простая и гениальная идея - им очень удобно пользоваться, даже мне, человеку привыкшему жить без мышки. Аккумулятор супер, тем более что 4 ядерная 15 дюймовая машина, я до 0 за два месяца использования разрядить не смог ни разу. Корпус классный в плане внешнего вида и в плане оттереть любое загрязнение - не проблема вообще. Но если ставите ноутбук на коленки, то они быстро потеют, т.к. корпус алюминиевый, прилегает хорошо и воздух не циркулирует. Еще алюминий легко мнется, я уголок крышки немного подбил. По софту просто выше всяких похвал. Интерфейс шустрый, красивый, удобный. И при этом за ним нормальная POSIX совместимая ОС, в которой можно запустить терминал и использовать тот же ssh. Интеграция с айфоном великолепная - общий буфер обмена, можно принимать звонки, видны все смски. Еще плюс, то что софт от мелкомягких(скайп, аутлук, корявый офис, RDP клиент) выпускается для маков - как бы я его бы видеть не хотел бы, но по работе нужен, не смотря на глюченость эти продуктов работать можно. Весь опенсорс софт с линукса доступен так же и под маком. Количество звёзд на отзыве: 5',\n",
              " 'Плюсы: алюминий, марка, батарейка, экран, вес, звук Минусы: софт ооооооооочень дорогой и многое нет! Отзыв: купил, первое впечатление ВАУ . Потом когда дома стал подробнее вникать, больше разочарование чем ВАУ . Софт весь дико дорого стоит . Крякнутый под новую ось почти весь не идет и многое нет в наличии . Банальный dropbox нет в appstore . Родной quicktime player это вообще тупость какая то . На винде он определенный файл проигрывает, а тут НЕТ, зато сторонний Elmedia на ура. Туповатое организация фоток . В фото все хорошо, а стоит скажем скачать и синхронизировать mail облако, так это отдельно выходит и неудобно просматривать . Игры есть более менее, можно скачать и скоротать время. Количество звёзд на отзыве: 4']"
            ]
          },
          "metadata": {},
          "execution_count": 89
        }
      ]
    },
    {
      "cell_type": "code",
      "source": [
        "gold_aspects = laptop_aspects[laptop_aspects['text_id'] == 11][['term', 'term_from', 'term_to']].values.tolist()\n",
        "\n",
        "gold_aspects"
      ],
      "metadata": {
        "colab": {
          "base_uri": "https://localhost:8080/"
        },
        "id": "XB1gj115tn86",
        "outputId": "de957ea2-336d-433a-eed2-84f8482ff738"
      },
      "execution_count": 90,
      "outputs": [
        {
          "output_type": "execute_result",
          "data": {
            "text/plain": [
              "[['монитор', 30, 38],\n",
              " ['тачпад', 41, 47],\n",
              " ['ssd', 78, 81],\n",
              " ['экрана', 110, 116],\n",
              " ['клавиатуры', 129, 139],\n",
              " ['разъемы USB, HDMI и отверстие для SD карточек', 153, 198],\n",
              " ['аккумулятор', 358, 369],\n",
              " ['операционная система', 389, 409],\n",
              " ['вентиляторов', 513, 525],\n",
              " ['экрана', 536, 542],\n",
              " ['можно класть ноутбук на любой бок', 545, 578],\n",
              " ['корпус', 589, 595],\n",
              " ['чуть ударил - вмятина на алюминии', 607, 640],\n",
              " ['экран', 643, 648],\n",
              " ['экране', 724, 730],\n",
              " ['подвывает вентиляторами под нагрузкой', 760, 797],\n",
              " ['вентиляторами', 770, 783],\n",
              " ['макбуке', 1070, 1077],\n",
              " ['есть самые нужные разъемы и наворотики', 1157, 1195],\n",
              " ['разъемы', 1175, 1182],\n",
              " ['наворотики', 1185, 1195],\n",
              " ['датчика света', 1201, 1214],\n",
              " ['ноутбук', 1369, 1376],\n",
              " ['Экран', 1395, 1400],\n",
              " ['монитора', 1444, 1452],\n",
              " ['экране', 1494, 1500],\n",
              " ['Тачпад', 1556, 1562],\n",
              " ['Аккумулятор', 1686, 1697],\n",
              " ['машина', 1741, 1747],\n",
              " ['Корпус', 1811, 1817],\n",
              " ['ноутбук', 1924, 1931],\n",
              " ['корпус', 1971, 1977],\n",
              " ['алюминий', 2037, 2045],\n",
              " ['ОС', 2213, 2215]]"
            ]
          },
          "metadata": {},
          "execution_count": 90
        }
      ]
    },
    {
      "cell_type": "code",
      "source": [
        "laptop_aspects.head()"
      ],
      "metadata": {
        "colab": {
          "base_uri": "https://localhost:8080/",
          "height": 206
        },
        "id": "TQ80D97N6h3O",
        "outputId": "1b68e699-04cf-47f9-b49b-6cb9a6d4fba7"
      },
      "execution_count": 91,
      "outputs": [
        {
          "output_type": "execute_result",
          "data": {
            "text/plain": [
              "   id  text_id         category  sent_from  sent_to sentiment          sent  \\\n",
              "0   0       10  Non-performance         12       19  positive       Трекпад   \n",
              "1   1       10  Non-performance         20       32  positive  Качественный   \n",
              "2   2       10       Appearance         48       54   neutral        сборки   \n",
              "3   3       10      Performance         78       90  positive  аккумулятора   \n",
              "4   4       10  Non-performance        108      115  positive       колонок   \n",
              "\n",
              "            sent_term normalized_sent_term  term_from  term_to          term  \\\n",
              "0             Трекпад              Трекпад         12       19       Трекпад   \n",
              "1  Качественный экран   Качественный экран         33       38         экран   \n",
              "2              сборки               сборки         48       54        сборки   \n",
              "3        аккумулятора         аккумулятора         78       90  аккумулятора   \n",
              "4             колонок              колонки        108      115       колонок   \n",
              "\n",
              "  normalized_term      type  \n",
              "0         Трекпад  explicit  \n",
              "1           экран  explicit  \n",
              "2          сборка  explicit  \n",
              "3     аккумулятор  explicit  \n",
              "4         колонки  explicit  "
            ],
            "text/html": [
              "\n",
              "  <div id=\"df-c69800b9-400c-448b-ac8e-fb1db679f5e5\">\n",
              "    <div class=\"colab-df-container\">\n",
              "      <div>\n",
              "<style scoped>\n",
              "    .dataframe tbody tr th:only-of-type {\n",
              "        vertical-align: middle;\n",
              "    }\n",
              "\n",
              "    .dataframe tbody tr th {\n",
              "        vertical-align: top;\n",
              "    }\n",
              "\n",
              "    .dataframe thead th {\n",
              "        text-align: right;\n",
              "    }\n",
              "</style>\n",
              "<table border=\"1\" class=\"dataframe\">\n",
              "  <thead>\n",
              "    <tr style=\"text-align: right;\">\n",
              "      <th></th>\n",
              "      <th>id</th>\n",
              "      <th>text_id</th>\n",
              "      <th>category</th>\n",
              "      <th>sent_from</th>\n",
              "      <th>sent_to</th>\n",
              "      <th>sentiment</th>\n",
              "      <th>sent</th>\n",
              "      <th>sent_term</th>\n",
              "      <th>normalized_sent_term</th>\n",
              "      <th>term_from</th>\n",
              "      <th>term_to</th>\n",
              "      <th>term</th>\n",
              "      <th>normalized_term</th>\n",
              "      <th>type</th>\n",
              "    </tr>\n",
              "  </thead>\n",
              "  <tbody>\n",
              "    <tr>\n",
              "      <th>0</th>\n",
              "      <td>0</td>\n",
              "      <td>10</td>\n",
              "      <td>Non-performance</td>\n",
              "      <td>12</td>\n",
              "      <td>19</td>\n",
              "      <td>positive</td>\n",
              "      <td>Трекпад</td>\n",
              "      <td>Трекпад</td>\n",
              "      <td>Трекпад</td>\n",
              "      <td>12</td>\n",
              "      <td>19</td>\n",
              "      <td>Трекпад</td>\n",
              "      <td>Трекпад</td>\n",
              "      <td>explicit</td>\n",
              "    </tr>\n",
              "    <tr>\n",
              "      <th>1</th>\n",
              "      <td>1</td>\n",
              "      <td>10</td>\n",
              "      <td>Non-performance</td>\n",
              "      <td>20</td>\n",
              "      <td>32</td>\n",
              "      <td>positive</td>\n",
              "      <td>Качественный</td>\n",
              "      <td>Качественный экран</td>\n",
              "      <td>Качественный экран</td>\n",
              "      <td>33</td>\n",
              "      <td>38</td>\n",
              "      <td>экран</td>\n",
              "      <td>экран</td>\n",
              "      <td>explicit</td>\n",
              "    </tr>\n",
              "    <tr>\n",
              "      <th>2</th>\n",
              "      <td>2</td>\n",
              "      <td>10</td>\n",
              "      <td>Appearance</td>\n",
              "      <td>48</td>\n",
              "      <td>54</td>\n",
              "      <td>neutral</td>\n",
              "      <td>сборки</td>\n",
              "      <td>сборки</td>\n",
              "      <td>сборки</td>\n",
              "      <td>48</td>\n",
              "      <td>54</td>\n",
              "      <td>сборки</td>\n",
              "      <td>сборка</td>\n",
              "      <td>explicit</td>\n",
              "    </tr>\n",
              "    <tr>\n",
              "      <th>3</th>\n",
              "      <td>3</td>\n",
              "      <td>10</td>\n",
              "      <td>Performance</td>\n",
              "      <td>78</td>\n",
              "      <td>90</td>\n",
              "      <td>positive</td>\n",
              "      <td>аккумулятора</td>\n",
              "      <td>аккумулятора</td>\n",
              "      <td>аккумулятора</td>\n",
              "      <td>78</td>\n",
              "      <td>90</td>\n",
              "      <td>аккумулятора</td>\n",
              "      <td>аккумулятор</td>\n",
              "      <td>explicit</td>\n",
              "    </tr>\n",
              "    <tr>\n",
              "      <th>4</th>\n",
              "      <td>4</td>\n",
              "      <td>10</td>\n",
              "      <td>Non-performance</td>\n",
              "      <td>108</td>\n",
              "      <td>115</td>\n",
              "      <td>positive</td>\n",
              "      <td>колонок</td>\n",
              "      <td>колонок</td>\n",
              "      <td>колонки</td>\n",
              "      <td>108</td>\n",
              "      <td>115</td>\n",
              "      <td>колонок</td>\n",
              "      <td>колонки</td>\n",
              "      <td>explicit</td>\n",
              "    </tr>\n",
              "  </tbody>\n",
              "</table>\n",
              "</div>\n",
              "      <button class=\"colab-df-convert\" onclick=\"convertToInteractive('df-c69800b9-400c-448b-ac8e-fb1db679f5e5')\"\n",
              "              title=\"Convert this dataframe to an interactive table.\"\n",
              "              style=\"display:none;\">\n",
              "        \n",
              "  <svg xmlns=\"http://www.w3.org/2000/svg\" height=\"24px\"viewBox=\"0 0 24 24\"\n",
              "       width=\"24px\">\n",
              "    <path d=\"M0 0h24v24H0V0z\" fill=\"none\"/>\n",
              "    <path d=\"M18.56 5.44l.94 2.06.94-2.06 2.06-.94-2.06-.94-.94-2.06-.94 2.06-2.06.94zm-11 1L8.5 8.5l.94-2.06 2.06-.94-2.06-.94L8.5 2.5l-.94 2.06-2.06.94zm10 10l.94 2.06.94-2.06 2.06-.94-2.06-.94-.94-2.06-.94 2.06-2.06.94z\"/><path d=\"M17.41 7.96l-1.37-1.37c-.4-.4-.92-.59-1.43-.59-.52 0-1.04.2-1.43.59L10.3 9.45l-7.72 7.72c-.78.78-.78 2.05 0 2.83L4 21.41c.39.39.9.59 1.41.59.51 0 1.02-.2 1.41-.59l7.78-7.78 2.81-2.81c.8-.78.8-2.07 0-2.86zM5.41 20L4 18.59l7.72-7.72 1.47 1.35L5.41 20z\"/>\n",
              "  </svg>\n",
              "      </button>\n",
              "      \n",
              "  <style>\n",
              "    .colab-df-container {\n",
              "      display:flex;\n",
              "      flex-wrap:wrap;\n",
              "      gap: 12px;\n",
              "    }\n",
              "\n",
              "    .colab-df-convert {\n",
              "      background-color: #E8F0FE;\n",
              "      border: none;\n",
              "      border-radius: 50%;\n",
              "      cursor: pointer;\n",
              "      display: none;\n",
              "      fill: #1967D2;\n",
              "      height: 32px;\n",
              "      padding: 0 0 0 0;\n",
              "      width: 32px;\n",
              "    }\n",
              "\n",
              "    .colab-df-convert:hover {\n",
              "      background-color: #E2EBFA;\n",
              "      box-shadow: 0px 1px 2px rgba(60, 64, 67, 0.3), 0px 1px 3px 1px rgba(60, 64, 67, 0.15);\n",
              "      fill: #174EA6;\n",
              "    }\n",
              "\n",
              "    [theme=dark] .colab-df-convert {\n",
              "      background-color: #3B4455;\n",
              "      fill: #D2E3FC;\n",
              "    }\n",
              "\n",
              "    [theme=dark] .colab-df-convert:hover {\n",
              "      background-color: #434B5C;\n",
              "      box-shadow: 0px 1px 3px 1px rgba(0, 0, 0, 0.15);\n",
              "      filter: drop-shadow(0px 1px 2px rgba(0, 0, 0, 0.3));\n",
              "      fill: #FFFFFF;\n",
              "    }\n",
              "  </style>\n",
              "\n",
              "      <script>\n",
              "        const buttonEl =\n",
              "          document.querySelector('#df-c69800b9-400c-448b-ac8e-fb1db679f5e5 button.colab-df-convert');\n",
              "        buttonEl.style.display =\n",
              "          google.colab.kernel.accessAllowed ? 'block' : 'none';\n",
              "\n",
              "        async function convertToInteractive(key) {\n",
              "          const element = document.querySelector('#df-c69800b9-400c-448b-ac8e-fb1db679f5e5');\n",
              "          const dataTable =\n",
              "            await google.colab.kernel.invokeFunction('convertToInteractive',\n",
              "                                                     [key], {});\n",
              "          if (!dataTable) return;\n",
              "\n",
              "          const docLinkHtml = 'Like what you see? Visit the ' +\n",
              "            '<a target=\"_blank\" href=https://colab.research.google.com/notebooks/data_table.ipynb>data table notebook</a>'\n",
              "            + ' to learn more about interactive tables.';\n",
              "          element.innerHTML = '';\n",
              "          dataTable['output_type'] = 'display_data';\n",
              "          await google.colab.output.renderOutput(dataTable, element);\n",
              "          const docLink = document.createElement('div');\n",
              "          docLink.innerHTML = docLinkHtml;\n",
              "          element.appendChild(docLink);\n",
              "        }\n",
              "      </script>\n",
              "    </div>\n",
              "  </div>\n",
              "  "
            ]
          },
          "metadata": {},
          "execution_count": 91
        }
      ]
    },
    {
      "cell_type": "code",
      "source": [
        "products_aspects = []\n",
        "products_sentences = []\n",
        "products_gold_sentiment = []\n",
        "\n",
        "reviews_exact_match = 0\n",
        "reviews_partial_match = 0\n",
        "for i in range(1, 8):\n",
        "    product_texts = laptop_reviews[laptop_reviews['product_id'] == i][['id', 'text']].values.tolist()\n",
        "    \n",
        "    product_aspects = []\n",
        "    product_sentences = []\n",
        "    product_gold_sentiment = []\n",
        "    for idx, text in product_texts:\n",
        "        # get_collocations\n",
        "        tokenized = get_text_info(text)\n",
        "        lemmas = tokenized[0]\n",
        "        colls = get_collocations(lemmas, n=10)\n",
        "        predicted_aspects = get_aspects_from_collocations(colls, tokenized, text)\n",
        "\n",
        "        # print(predicted_aspects)\n",
        "\n",
        "        # evaluation\n",
        "        gold_aspects = laptop_aspects[laptop_aspects['text_id'] == idx][['term', 'term_from', 'term_to']].values.tolist()\n",
        "        # print(gold_aspects)\n",
        "        gold_sentiment = laptop_aspects[laptop_aspects['text_id'] == idx]['sentiment'].values.tolist()\n",
        "\n",
        "        exact_match = len([aspect for aspect in predicted_aspects if list(aspect) in gold_aspects]) / len(predicted_aspects)\n",
        "\n",
        "        partial = []\n",
        "        sentiment = [None for _ in range(len(predicted_aspects))]\n",
        "        # print(len(sentiment))\n",
        "        for asp_idx, (aspect_1, start_1, end_1) in enumerate(predicted_aspects):\n",
        "            for (aspect_2, start_2, end_2), sent in zip(gold_aspects, gold_sentiment):\n",
        "                if (start_1 in range(start_2, end_2+1)) or \\\n",
        "                (end_1 in range(start_2, end_2+1)) or \\\n",
        "                (start_2 in range(start_1, end_1+1)) or \\\n",
        "                (end_2 in range(start_1, end_1+1)):\n",
        "                    if aspect_1 not in partial:\n",
        "                        partial.append(aspect_1)\n",
        "                        sentiment[asp_idx] = sent\n",
        "\n",
        "        partial_match = len(partial) / len(predicted_aspects)\n",
        "\n",
        "        # print('Exact match', exact_match)\n",
        "        reviews_exact_match += exact_match\n",
        "        # print('Partial match', partial_match)\n",
        "        reviews_partial_match += partial_match\n",
        "\n",
        "        # store information\n",
        "        product_aspects.append(predicted_aspects)\n",
        "        product_sentences.append(tokenized[3])\n",
        "        product_gold_sentiment.append(sentiment)\n",
        "\n",
        "    products_aspects.append(product_aspects)\n",
        "    products_sentences.append(product_sentences)\n",
        "    products_gold_sentiment.append(product_gold_sentiment)"
      ],
      "metadata": {
        "colab": {
          "base_uri": "https://localhost:8080/"
        },
        "id": "9ppM3Y5lJ--J",
        "outputId": "24599900-827a-4a2c-af67-a29d2b7036c7"
      },
      "execution_count": 92,
      "outputs": [
        {
          "output_type": "stream",
          "name": "stderr",
          "text": [
            "WARNING:root:Got text info...\n",
            "WARNING:root:Got collocations...\n",
            "WARNING:root:Got aspects...\n",
            "WARNING:root:Got text info...\n",
            "WARNING:root:Got collocations...\n",
            "WARNING:root:Got aspects...\n",
            "WARNING:root:Got text info...\n",
            "WARNING:root:Got collocations...\n",
            "WARNING:root:Got aspects...\n",
            "WARNING:root:Got text info...\n",
            "WARNING:root:Got collocations...\n",
            "WARNING:root:Got aspects...\n",
            "WARNING:root:Got text info...\n",
            "WARNING:root:Got collocations...\n",
            "WARNING:root:Got aspects...\n",
            "WARNING:root:Got text info...\n",
            "WARNING:root:Got collocations...\n",
            "WARNING:root:Got aspects...\n",
            "WARNING:root:Got text info...\n",
            "WARNING:root:Got collocations...\n",
            "WARNING:root:Got aspects...\n",
            "WARNING:root:Got text info...\n",
            "WARNING:root:Got collocations...\n",
            "WARNING:root:Got aspects...\n",
            "WARNING:root:Got text info...\n",
            "WARNING:root:Got collocations...\n",
            "WARNING:root:Got aspects...\n",
            "WARNING:root:Got text info...\n",
            "WARNING:root:Got collocations...\n",
            "WARNING:root:Got aspects...\n",
            "WARNING:root:Got text info...\n",
            "WARNING:root:Got collocations...\n",
            "WARNING:root:Got aspects...\n",
            "WARNING:root:Got text info...\n",
            "WARNING:root:Got collocations...\n",
            "WARNING:root:Got aspects...\n",
            "WARNING:root:Got text info...\n",
            "WARNING:root:Got collocations...\n",
            "WARNING:root:Got aspects...\n",
            "WARNING:root:Got text info...\n",
            "WARNING:root:Got collocations...\n",
            "WARNING:root:Got aspects...\n",
            "WARNING:root:Got text info...\n",
            "WARNING:root:Got collocations...\n",
            "WARNING:root:Got aspects...\n",
            "WARNING:root:Got text info...\n",
            "WARNING:root:Got collocations...\n",
            "WARNING:root:Got aspects...\n",
            "WARNING:root:Got text info...\n",
            "WARNING:root:Got collocations...\n",
            "WARNING:root:Got aspects...\n",
            "WARNING:root:Got text info...\n",
            "WARNING:root:Got collocations...\n",
            "WARNING:root:Got aspects...\n",
            "WARNING:root:Got text info...\n",
            "WARNING:root:Got collocations...\n",
            "WARNING:root:Got aspects...\n",
            "WARNING:root:Got text info...\n",
            "WARNING:root:Got collocations...\n",
            "WARNING:root:Got aspects...\n",
            "WARNING:root:Got text info...\n",
            "WARNING:root:Got collocations...\n",
            "WARNING:root:Got aspects...\n",
            "WARNING:root:Got text info...\n",
            "WARNING:root:Got collocations...\n",
            "WARNING:root:Got aspects...\n",
            "WARNING:root:Got text info...\n",
            "WARNING:root:Got collocations...\n",
            "WARNING:root:Got aspects...\n",
            "WARNING:root:Got text info...\n",
            "WARNING:root:Got collocations...\n",
            "WARNING:root:Got aspects...\n",
            "WARNING:root:Got text info...\n",
            "WARNING:root:Got collocations...\n",
            "WARNING:root:Got aspects...\n",
            "WARNING:root:Got text info...\n",
            "WARNING:root:Got collocations...\n",
            "WARNING:root:Got aspects...\n",
            "WARNING:root:Got text info...\n",
            "WARNING:root:Got collocations...\n",
            "WARNING:root:Got aspects...\n",
            "WARNING:root:Got text info...\n",
            "WARNING:root:Got collocations...\n",
            "WARNING:root:Got aspects...\n",
            "WARNING:root:Got text info...\n",
            "WARNING:root:Got collocations...\n",
            "WARNING:root:Got aspects...\n",
            "WARNING:root:Got text info...\n",
            "WARNING:root:Got collocations...\n",
            "WARNING:root:Got aspects...\n",
            "WARNING:root:Got text info...\n",
            "WARNING:root:Got collocations...\n",
            "WARNING:root:Got aspects...\n",
            "WARNING:root:Got text info...\n",
            "WARNING:root:Got collocations...\n",
            "WARNING:root:Got aspects...\n",
            "WARNING:root:Got text info...\n",
            "WARNING:root:Got collocations...\n",
            "WARNING:root:Got aspects...\n",
            "WARNING:root:Got text info...\n",
            "WARNING:root:Got collocations...\n",
            "WARNING:root:Got aspects...\n",
            "WARNING:root:Got text info...\n",
            "WARNING:root:Got collocations...\n",
            "WARNING:root:Got aspects...\n",
            "WARNING:root:Got text info...\n",
            "WARNING:root:Got collocations...\n",
            "WARNING:root:Got aspects...\n",
            "WARNING:root:Got text info...\n",
            "WARNING:root:Got collocations...\n",
            "WARNING:root:Got aspects...\n",
            "WARNING:root:Got text info...\n",
            "WARNING:root:Got collocations...\n",
            "WARNING:root:Got aspects...\n",
            "WARNING:root:Got text info...\n",
            "WARNING:root:Got collocations...\n",
            "WARNING:root:Got aspects...\n",
            "WARNING:root:Got text info...\n",
            "WARNING:root:Got collocations...\n",
            "WARNING:root:Got aspects...\n",
            "WARNING:root:Got text info...\n",
            "WARNING:root:Got collocations...\n",
            "WARNING:root:Got aspects...\n",
            "WARNING:root:Got text info...\n",
            "WARNING:root:Got collocations...\n",
            "WARNING:root:Got aspects...\n",
            "WARNING:root:Got text info...\n",
            "WARNING:root:Got collocations...\n",
            "WARNING:root:Got aspects...\n",
            "WARNING:root:Got text info...\n",
            "WARNING:root:Got collocations...\n",
            "WARNING:root:Got aspects...\n",
            "WARNING:root:Got text info...\n",
            "WARNING:root:Got collocations...\n",
            "WARNING:root:Got aspects...\n",
            "WARNING:root:Got text info...\n",
            "WARNING:root:Got collocations...\n",
            "WARNING:root:Got aspects...\n",
            "WARNING:root:Got text info...\n",
            "WARNING:root:Got collocations...\n",
            "WARNING:root:Got aspects...\n",
            "WARNING:root:Got text info...\n",
            "WARNING:root:Got collocations...\n",
            "WARNING:root:Got aspects...\n",
            "WARNING:root:Got text info...\n",
            "WARNING:root:Got collocations...\n",
            "WARNING:root:Got aspects...\n",
            "WARNING:root:Got text info...\n",
            "WARNING:root:Got collocations...\n",
            "WARNING:root:Got aspects...\n",
            "WARNING:root:Got text info...\n",
            "WARNING:root:Got collocations...\n",
            "WARNING:root:Got aspects...\n",
            "WARNING:root:Got text info...\n",
            "WARNING:root:Got collocations...\n",
            "WARNING:root:Got aspects...\n",
            "WARNING:root:Got text info...\n",
            "WARNING:root:Got collocations...\n",
            "WARNING:root:Got aspects...\n",
            "WARNING:root:Got text info...\n",
            "WARNING:root:Got collocations...\n",
            "WARNING:root:Got aspects...\n",
            "WARNING:root:Got text info...\n",
            "WARNING:root:Got collocations...\n",
            "WARNING:root:Got aspects...\n",
            "WARNING:root:Got text info...\n",
            "WARNING:root:Got collocations...\n",
            "WARNING:root:Got aspects...\n",
            "WARNING:root:Got text info...\n",
            "WARNING:root:Got collocations...\n",
            "WARNING:root:Got aspects...\n",
            "WARNING:root:Got text info...\n",
            "WARNING:root:Got collocations...\n",
            "WARNING:root:Got aspects...\n",
            "WARNING:root:Got text info...\n",
            "WARNING:root:Got collocations...\n",
            "WARNING:root:Got aspects...\n",
            "WARNING:root:Got text info...\n",
            "WARNING:root:Got collocations...\n",
            "WARNING:root:Got aspects...\n",
            "WARNING:root:Got text info...\n",
            "WARNING:root:Got collocations...\n",
            "WARNING:root:Got aspects...\n",
            "WARNING:root:Got text info...\n",
            "WARNING:root:Got collocations...\n",
            "WARNING:root:Got aspects...\n",
            "WARNING:root:Got text info...\n",
            "WARNING:root:Got collocations...\n",
            "WARNING:root:Got aspects...\n",
            "WARNING:root:Got text info...\n",
            "WARNING:root:Got collocations...\n",
            "WARNING:root:Got aspects...\n",
            "WARNING:root:Got text info...\n",
            "WARNING:root:Got collocations...\n",
            "WARNING:root:Got aspects...\n",
            "WARNING:root:Got text info...\n",
            "WARNING:root:Got collocations...\n",
            "WARNING:root:Got aspects...\n",
            "WARNING:root:Got text info...\n",
            "WARNING:root:Got collocations...\n",
            "WARNING:root:Got aspects...\n",
            "WARNING:root:Got text info...\n",
            "WARNING:root:Got collocations...\n",
            "WARNING:root:Got aspects...\n",
            "WARNING:root:Got text info...\n",
            "WARNING:root:Got collocations...\n",
            "WARNING:root:Got aspects...\n",
            "WARNING:root:Got text info...\n",
            "WARNING:root:Got collocations...\n",
            "WARNING:root:Got aspects...\n"
          ]
        }
      ]
    },
    {
      "cell_type": "code",
      "source": [
        "print('Exact match:', reviews_exact_match / 70)\n",
        "print('Partial match:', reviews_partial_match / 70)"
      ],
      "metadata": {
        "colab": {
          "base_uri": "https://localhost:8080/"
        },
        "id": "KIEOHDk36aMO",
        "outputId": "b8dd89ea-d529-4d27-9480-4b03d3bd987a"
      },
      "execution_count": 93,
      "outputs": [
        {
          "output_type": "stream",
          "name": "stdout",
          "text": [
            "Exact match: 0.09534811222813337\n",
            "Partial match: 0.39966767788192453\n"
          ]
        }
      ]
    },
    {
      "cell_type": "code",
      "source": [
        "products_aspects[0][2]"
      ],
      "metadata": {
        "colab": {
          "base_uri": "https://localhost:8080/"
        },
        "id": "HmuWchvCvr8f",
        "outputId": "ffc52184-4398-4df0-a2a8-d79c197cc3ec"
      },
      "execution_count": 94,
      "outputs": [
        {
          "output_type": "execute_result",
          "data": {
            "text/plain": [
              "[('алюминий', 7, 15),\n",
              " ('алюминий, марка', 7, 22),\n",
              " ('алюминий, марка, батарейка', 7, 33),\n",
              " ('марка', 17, 22),\n",
              " ('батарейка', 24, 33),\n",
              " ('батарейка, экран', 24, 40),\n",
              " ('батарейка, экран, вес', 24, 45),\n",
              " ('экран', 35, 40),\n",
              " ('вес, звук', 42, 51),\n",
              " ('софт', 60, 64),\n",
              " ('многое', 89, 95),\n",
              " ('ВАУ', 134, 137),\n",
              " ('ВАУ', 206, 209),\n",
              " ('Софт', 212, 216),\n",
              " ('весь', 217, 221),\n",
              " ('стоит', 234, 239),\n",
              " ('весь', 272, 276),\n",
              " ('многое', 287, 293),\n",
              " ('Банальный dropbox', 310, 327),\n",
              " ('Банальный dropbox нет в appstore', 310, 342),\n",
              " ('dropbox нет в appstore', 320, 342),\n",
              " ('dropbox нет в appstore . Родной', 320, 351),\n",
              " ('appstore . Родной', 334, 351),\n",
              " ('appstore . Родной quicktime', 334, 361),\n",
              " ('quicktime player', 352, 368),\n",
              " ('quicktime player это вообще', 352, 379),\n",
              " ('player это вообще', 362, 379),\n",
              " ('player это вообще тупость', 362, 387),\n",
              " ('винде он определенный файл', 402, 428),\n",
              " ('Elmedia на ура', 468, 482),\n",
              " ('Elmedia на ура. Туповатое', 468, 493),\n",
              " ('стоит', 535, 540),\n",
              " ('скачать', 548, 555),\n",
              " ('mail облако', 575, 586),\n",
              " ('mail облако, так это отдельно', 575, 604),\n",
              " ('скачать', 669, 676)]"
            ]
          },
          "metadata": {},
          "execution_count": 94
        }
      ]
    },
    {
      "cell_type": "code",
      "source": [
        "print(len(products_aspects))\n",
        "print(len(products_aspects[0]))"
      ],
      "metadata": {
        "colab": {
          "base_uri": "https://localhost:8080/"
        },
        "id": "qFN3ulcqdeqc",
        "outputId": "2dc40570-51a4-451b-d8d0-ac1690684300"
      },
      "execution_count": 95,
      "outputs": [
        {
          "output_type": "stream",
          "name": "stdout",
          "text": [
            "7\n",
            "10\n"
          ]
        }
      ]
    },
    {
      "cell_type": "code",
      "source": [
        "print(len(products_sentences))\n",
        "print(len(products_sentences[0]))"
      ],
      "metadata": {
        "colab": {
          "base_uri": "https://localhost:8080/"
        },
        "id": "t0y9Q23fhPV1",
        "outputId": "122b5b84-3b5f-4503-cd9b-5c9bb113ab50"
      },
      "execution_count": 96,
      "outputs": [
        {
          "output_type": "stream",
          "name": "stdout",
          "text": [
            "7\n",
            "10\n"
          ]
        }
      ]
    },
    {
      "cell_type": "markdown",
      "source": [
        "## Sentiment analysis"
      ],
      "metadata": {
        "id": "pV5TehbmuBIQ"
      }
    },
    {
      "cell_type": "code",
      "source": [
        "def get_data(aspects: list, sents_with_end: dict, model: str) -> tuple:\n",
        "    '''\n",
        "    Get data for pair classification with stanza.\n",
        "    '''\n",
        "    spec_tokens = SPECIAL_TOKENS.get(model, None)\n",
        "    if not spec_tokens:\n",
        "        raise ValueError('Provide model name to get right special tokens!')\n",
        "\n",
        "    sep = spec_tokens.get('sep', None)\n",
        "    cls = spec_tokens.get('cls', None)\n",
        "\n",
        "    data = []\n",
        "\n",
        "    for asp in aspects:\n",
        "        mention_end_char = asp[2]\n",
        "\n",
        "        for end_char in sents_with_end:\n",
        "            if end_char >= mention_end_char:\n",
        "                # first sentence where end > end of mention\n",
        "                sentence = sents_with_end[end_char]\n",
        "                mention = asp[0]\n",
        "                data.append(f'{cls} {sentence} {sep} {mention} {sep}')\n",
        "\n",
        "                break  # one sentence only\n",
        "\n",
        "    return data"
      ],
      "metadata": {
        "id": "glW5yy4tvZhL"
      },
      "execution_count": 97,
      "outputs": []
    },
    {
      "cell_type": "code",
      "source": [
        "products_bert_data = []\n",
        "for product_aspects, product_sentences in zip(products_aspects, products_sentences):\n",
        "    product_data = []\n",
        "    for aspects, sentences in zip(product_aspects, product_sentences):\n",
        "        text_data = get_data(aspects, sentences, model='bert')\n",
        "        product_data.append(text_data)\n",
        "    products_bert_data.append(product_data)"
      ],
      "metadata": {
        "id": "WGzCCtuujCk9"
      },
      "execution_count": 98,
      "outputs": []
    },
    {
      "cell_type": "code",
      "source": [
        "products_bert_data[0][0][:5]"
      ],
      "metadata": {
        "colab": {
          "base_uri": "https://localhost:8080/"
        },
        "id": "ReQD292iuyjM",
        "outputId": "3aa3e8a1-265e-467a-f6ee-5162a203719b"
      },
      "execution_count": 99,
      "outputs": [
        {
          "output_type": "execute_result",
          "data": {
            "text/plain": [
              "['[CLS] Плюсы: Unix Трекпад Качественный экран Качество сборки Долгое время работы от аккумулятора Отличный звук от колонок Минусы: [SEP] Unix [SEP]',\n",
              " '[CLS] Плюсы: Unix Трекпад Качественный экран Качество сборки Долгое время работы от аккумулятора Отличный звук от колонок Минусы: [SEP] Трекпад [SEP]',\n",
              " '[CLS] Плюсы: Unix Трекпад Качественный экран Качество сборки Долгое время работы от аккумулятора Отличный звук от колонок Минусы: [SEP] Качественный [SEP]',\n",
              " '[CLS] Плюсы: Unix Трекпад Качественный экран Качество сборки Долгое время работы от аккумулятора Отличный звук от колонок Минусы: [SEP] работы [SEP]',\n",
              " '[CLS] Плюсы: Unix Трекпад Качественный экран Качество сборки Долгое время работы от аккумулятора Отличный звук от колонок Минусы: [SEP] аккумулятора Отличный [SEP]']"
            ]
          },
          "metadata": {},
          "execution_count": 99
        }
      ]
    },
    {
      "cell_type": "code",
      "source": [
        "products_xlmroberta_data = []\n",
        "for product_aspects, product_sentences in zip(products_aspects, products_sentences):\n",
        "    product_data = []\n",
        "    for aspects, sentences in zip(product_aspects, product_sentences):\n",
        "        text_data = get_data(aspects, sentences, model='xlm')\n",
        "        product_data.append(text_data)\n",
        "    products_xlmroberta_data.append(product_data)"
      ],
      "metadata": {
        "id": "iLI5kcEkg2DM"
      },
      "execution_count": 100,
      "outputs": []
    },
    {
      "cell_type": "code",
      "source": [
        "products_xlmroberta_data[0][0][:5]"
      ],
      "metadata": {
        "colab": {
          "base_uri": "https://localhost:8080/"
        },
        "id": "WnLAqcsqxplK",
        "outputId": "f1c0d1e7-d3e5-4ef7-80d6-5bc3f991978a"
      },
      "execution_count": 101,
      "outputs": [
        {
          "output_type": "execute_result",
          "data": {
            "text/plain": [
              "['<s> Плюсы: Unix Трекпад Качественный экран Качество сборки Долгое время работы от аккумулятора Отличный звук от колонок Минусы: </s> Unix </s>',\n",
              " '<s> Плюсы: Unix Трекпад Качественный экран Качество сборки Долгое время работы от аккумулятора Отличный звук от колонок Минусы: </s> Трекпад </s>',\n",
              " '<s> Плюсы: Unix Трекпад Качественный экран Качество сборки Долгое время работы от аккумулятора Отличный звук от колонок Минусы: </s> Качественный </s>',\n",
              " '<s> Плюсы: Unix Трекпад Качественный экран Качество сборки Долгое время работы от аккумулятора Отличный звук от колонок Минусы: </s> работы </s>',\n",
              " '<s> Плюсы: Unix Трекпад Качественный экран Качество сборки Долгое время работы от аккумулятора Отличный звук от колонок Минусы: </s> аккумулятора Отличный </s>']"
            ]
          },
          "metadata": {},
          "execution_count": 101
        }
      ]
    },
    {
      "cell_type": "code",
      "source": [
        "rubert_model_checkpoint = '/content/drive/MyDrive/models/rubert-sentiment-nli_both'\n",
        "mbert_model_checkpoint = '/content/drive/MyDrive/models/mbert-sentiment-nli_both'\n",
        "xlmroberta_model_checkpoint = '/content/drive/MyDrive/models/xlmroberta-sentiment-nli_both'\n",
        "rubert_tokenizer_checkpoint = 'ai-forever/ruBert-base'\n",
        "mbert_tokenizer_checkpoint = 'bert-base-multilingual-cased'\n",
        "xlmroberta_tokenizer_checkpoint = 'xlm-roberta-base'"
      ],
      "metadata": {
        "id": "YynAx2KfKNGg"
      },
      "execution_count": 102,
      "outputs": []
    },
    {
      "cell_type": "code",
      "source": [
        "def load_model_and_tokenizer(model_path: str, tokenizer_path: str) -> tuple:\n",
        "    '''\n",
        "    Load model and tokenizer from paths.\n",
        "    '''\n",
        "    model = AutoModelForSequenceClassification.from_pretrained(model_path)\n",
        "    tokenizer = AutoTokenizer.from_pretrained(tokenizer_path)\n",
        "    return model, tokenizer"
      ],
      "metadata": {
        "id": "KJc89oVYMQSy"
      },
      "execution_count": 103,
      "outputs": []
    },
    {
      "cell_type": "code",
      "source": [
        "def get_nli_sentiment(model_name: str, model: AutoModelForSequenceClassification, tokenizer: AutoTokenizer, data: list) -> list:\n",
        "    '''\n",
        "    Predict sentiment of aspect using transformer-based model.\n",
        "    '''\n",
        "    predicted_sentiment = []\n",
        "    aspects = []\n",
        "    # embeddings = []\n",
        "    for text in data:\n",
        "        tokenized = tokenizer(text, return_tensors='pt', truncation=True, max_length=100, padding=True, add_special_tokens=False)\n",
        "        sep_indexes = (tokenized['input_ids'] == tokenizer.convert_tokens_to_ids(SPECIAL_TOKENS[model_name]['sep'])).nonzero(as_tuple=True)[1]\n",
        "        tokenized = tokenized.to(device)\n",
        "        with torch.no_grad():\n",
        "            output = model(**tokenized, output_hidden_states=True)\n",
        "            classification_logits = output.logits\n",
        "            # embeddings.append(hidden_states)\n",
        "            embeddings = output.hidden_states[0][0]\n",
        "            assert len(embeddings) == len(tokenized['input_ids'][0])\n",
        "            if len(sep_indexes) == 2:\n",
        "                aspect_embeddings = embeddings[sep_indexes[0]+1:sep_indexes[1]]\n",
        "                aspect_embedding = aspect_embeddings.sum(axis=0) / len(aspect_embeddings)\n",
        "                aspects.append(aspect_embedding.numpy())\n",
        "        predicted_class_id = classification_logits.to('cpu').argmax().item()\n",
        "        predicted_sentiment.append(model.config.id2label[predicted_class_id])\n",
        "\n",
        "    return predicted_sentiment, aspects"
      ],
      "metadata": {
        "id": "vtDDzSqhIbfl"
      },
      "execution_count": 104,
      "outputs": []
    },
    {
      "cell_type": "markdown",
      "source": [
        "### ruBERT"
      ],
      "metadata": {
        "id": "Lf4wcPTbZluo"
      }
    },
    {
      "cell_type": "code",
      "source": [
        "model, tokenizer = load_model_and_tokenizer(rubert_model_checkpoint, rubert_tokenizer_checkpoint)"
      ],
      "metadata": {
        "id": "sRKFIotPPDPH"
      },
      "execution_count": 105,
      "outputs": []
    },
    {
      "cell_type": "code",
      "source": [
        "rubert_products_sentiments = []\n",
        "rubert_products_embeddings = []\n",
        "\n",
        "sentiment_references = []\n",
        "sentiment_predictions = []\n",
        "for product_data, product_gold_sentiment in zip(products_bert_data, products_gold_sentiment):\n",
        "    product_sentiment = []\n",
        "    product_embeddings = []\n",
        "    for text_data, gold_sentiment in zip(product_data, product_gold_sentiment):\n",
        "        predicted_sentiment, aspects_embeddings = get_nli_sentiment('bert', model, tokenizer, text_data)\n",
        "        product_sentiment.append(predicted_sentiment)\n",
        "        for pred_sent, gold_sent in zip(predicted_sentiment, gold_sentiment):\n",
        "            if pred_sent and gold_sent:\n",
        "                sentiment_references.append(gold_sent)\n",
        "                sentiment_predictions.append(pred_sent)\n",
        "        product_embeddings.append(aspects_embeddings)\n",
        "    rubert_products_sentiments.append(product_sentiment)\n",
        "    rubert_products_embeddings.append(product_embeddings)"
      ],
      "metadata": {
        "id": "5cNeiPHhNH4J"
      },
      "execution_count": 106,
      "outputs": []
    },
    {
      "cell_type": "code",
      "source": [
        "print(len(sentiment_references))\n",
        "print(len(sentiment_predictions))"
      ],
      "metadata": {
        "colab": {
          "base_uri": "https://localhost:8080/"
        },
        "id": "1s3MqW1cJkHS",
        "outputId": "fe27ad92-3222-49e6-9255-c8d9eb87ef9e"
      },
      "execution_count": 107,
      "outputs": [
        {
          "output_type": "stream",
          "name": "stdout",
          "text": [
            "1066\n",
            "1066\n"
          ]
        }
      ]
    },
    {
      "cell_type": "code",
      "source": [
        "for aspect, sentiment in zip(products_aspects[0][2], rubert_products_sentiments[0][2]):\n",
        "    print(aspect[0], sentiment)"
      ],
      "metadata": {
        "colab": {
          "base_uri": "https://localhost:8080/"
        },
        "id": "UTiI-zL5U8gz",
        "outputId": "0cf50732-e720-4773-995d-70f8e417a897"
      },
      "execution_count": 108,
      "outputs": [
        {
          "output_type": "stream",
          "name": "stdout",
          "text": [
            "алюминий neutral\n",
            "алюминий, марка neutral\n",
            "алюминий, марка, батарейка neutral\n",
            "марка neutral\n",
            "батарейка neutral\n",
            "батарейка, экран neutral\n",
            "батарейка, экран, вес neutral\n",
            "экран neutral\n",
            "вес, звук neutral\n",
            "софт negative\n",
            "многое negative\n",
            "ВАУ positive\n",
            "ВАУ negative\n",
            "Софт negative\n",
            "весь negative\n",
            "стоит negative\n",
            "весь negative\n",
            "многое negative\n",
            "Банальный dropbox negative\n",
            "Банальный dropbox нет в appstore negative\n",
            "dropbox нет в appstore negative\n",
            "dropbox нет в appstore . Родной negative\n",
            "appstore . Родной negative\n",
            "appstore . Родной quicktime negative\n",
            "quicktime player negative\n",
            "quicktime player это вообще negative\n",
            "player это вообще negative\n",
            "player это вообще тупость negative\n",
            "винде он определенный файл negative\n",
            "Elmedia на ура positive\n",
            "Elmedia на ура. Туповатое negative\n",
            "стоит neutral\n",
            "скачать neutral\n",
            "mail облако neutral\n",
            "mail облако, так это отдельно negative\n",
            "скачать positive\n"
          ]
        }
      ]
    },
    {
      "cell_type": "code",
      "source": [
        "print(classification_report(sentiment_references, sentiment_predictions))"
      ],
      "metadata": {
        "colab": {
          "base_uri": "https://localhost:8080/"
        },
        "id": "ZUQHvltwIyLF",
        "outputId": "85e714ee-c0c6-41af-be3a-906b45fbab2e"
      },
      "execution_count": 109,
      "outputs": [
        {
          "output_type": "stream",
          "name": "stdout",
          "text": [
            "              precision    recall  f1-score   support\n",
            "\n",
            "    negative       0.77      0.65      0.70       334\n",
            "     neutral       0.24      0.39      0.30       142\n",
            "    positive       0.81      0.76      0.79       590\n",
            "\n",
            "    accuracy                           0.68      1066\n",
            "   macro avg       0.61      0.60      0.60      1066\n",
            "weighted avg       0.72      0.68      0.70      1066\n",
            "\n"
          ]
        }
      ]
    },
    {
      "cell_type": "markdown",
      "source": [
        "### mBERT"
      ],
      "metadata": {
        "id": "vl1yRHrrZnyR"
      }
    },
    {
      "cell_type": "code",
      "source": [
        "model, tokenizer = load_model_and_tokenizer(mbert_model_checkpoint, mbert_tokenizer_checkpoint)"
      ],
      "metadata": {
        "id": "o-y0QPg32pRx"
      },
      "execution_count": 110,
      "outputs": []
    },
    {
      "cell_type": "code",
      "source": [
        "mbert_products_sentiments = []\n",
        "mbert_products_embeddings = []\n",
        "\n",
        "sentiment_references = []\n",
        "sentiment_predictions = []\n",
        "for product_data, product_gold_sentiment in zip(products_bert_data, products_gold_sentiment):\n",
        "    product_sentiment = []\n",
        "    product_embeddings = []\n",
        "    for text_data, gold_sentiment in zip(product_data, product_gold_sentiment):\n",
        "        predicted_sentiment, aspects_embeddings = get_nli_sentiment('bert', model, tokenizer, text_data)\n",
        "        product_sentiment.append(predicted_sentiment)\n",
        "        for pred_sent, gold_sent in zip(predicted_sentiment, gold_sentiment):\n",
        "            if pred_sent and gold_sent:\n",
        "                sentiment_references.append(gold_sent)\n",
        "                sentiment_predictions.append(pred_sent)\n",
        "        product_embeddings.append(aspects_embeddings)\n",
        "    mbert_products_sentiments.append(product_sentiment)\n",
        "    mbert_products_embeddings.append(product_embeddings)"
      ],
      "metadata": {
        "id": "OOJj8BXs2pRy"
      },
      "execution_count": 111,
      "outputs": []
    },
    {
      "cell_type": "code",
      "source": [
        "for aspect, sentiment in zip(products_aspects[0][2], mbert_products_sentiments[0][2]):\n",
        "    print(aspect[0], sentiment)"
      ],
      "metadata": {
        "colab": {
          "base_uri": "https://localhost:8080/"
        },
        "outputId": "909667fb-335f-4910-9953-0b3cd02ed5e7",
        "id": "yG4IZXgO2pRy"
      },
      "execution_count": 112,
      "outputs": [
        {
          "output_type": "stream",
          "name": "stdout",
          "text": [
            "алюминий positive\n",
            "алюминий, марка positive\n",
            "алюминий, марка, батарейка positive\n",
            "марка positive\n",
            "батарейка negative\n",
            "батарейка, экран negative\n",
            "батарейка, экран, вес negative\n",
            "экран negative\n",
            "вес, звук negative\n",
            "софт negative\n",
            "многое negative\n",
            "ВАУ neutral\n",
            "ВАУ negative\n",
            "Софт negative\n",
            "весь negative\n",
            "стоит negative\n",
            "весь negative\n",
            "многое negative\n",
            "Банальный dropbox negative\n",
            "Банальный dropbox нет в appstore negative\n",
            "dropbox нет в appstore negative\n",
            "dropbox нет в appstore . Родной negative\n",
            "appstore . Родной negative\n",
            "appstore . Родной quicktime negative\n",
            "quicktime player negative\n",
            "quicktime player это вообще negative\n",
            "player это вообще negative\n",
            "player это вообще тупость negative\n",
            "винде он определенный файл neutral\n",
            "Elmedia на ура negative\n",
            "Elmedia на ура. Туповатое positive\n",
            "стоит positive\n",
            "скачать negative\n",
            "mail облако neutral\n",
            "mail облако, так это отдельно negative\n",
            "скачать positive\n"
          ]
        }
      ]
    },
    {
      "cell_type": "code",
      "source": [
        "print(classification_report(sentiment_references, sentiment_predictions))"
      ],
      "metadata": {
        "colab": {
          "base_uri": "https://localhost:8080/"
        },
        "id": "29vYKl5cKvpn",
        "outputId": "5e4b89ca-69d1-4f5c-abbf-21e38fbe0be7"
      },
      "execution_count": 113,
      "outputs": [
        {
          "output_type": "stream",
          "name": "stdout",
          "text": [
            "              precision    recall  f1-score   support\n",
            "\n",
            "    negative       0.63      0.58      0.60       334\n",
            "     neutral       0.30      0.41      0.35       142\n",
            "    positive       0.79      0.76      0.77       590\n",
            "\n",
            "    accuracy                           0.66      1066\n",
            "   macro avg       0.57      0.58      0.57      1066\n",
            "weighted avg       0.68      0.66      0.66      1066\n",
            "\n"
          ]
        }
      ]
    },
    {
      "cell_type": "markdown",
      "source": [
        "### XLM-RoBERTa"
      ],
      "metadata": {
        "id": "qV6iS_GHZrG-"
      }
    },
    {
      "cell_type": "code",
      "source": [
        "model, tokenizer = load_model_and_tokenizer(xlmroberta_model_checkpoint, xlmroberta_tokenizer_checkpoint)"
      ],
      "metadata": {
        "id": "i9sOkSpN3GGC"
      },
      "execution_count": 114,
      "outputs": []
    },
    {
      "cell_type": "code",
      "source": [
        "xlmroberta_products_sentiments = []\n",
        "xlmroberta_products_embeddings = []\n",
        "\n",
        "sentiment_references = []\n",
        "sentiment_predictions = []\n",
        "for product_data, product_gold_sentiment in zip(products_xlmroberta_data, products_gold_sentiment):\n",
        "    product_sentiment = []\n",
        "    product_embeddings = []\n",
        "    for text_data, gold_sentiment in zip(product_data, product_gold_sentiment):\n",
        "        predicted_sentiment, aspects_embeddings = get_nli_sentiment('xlm', model, tokenizer, text_data)\n",
        "        product_sentiment.append(predicted_sentiment)\n",
        "        for pred_sent, gold_sent in zip(predicted_sentiment, gold_sentiment):\n",
        "            if pred_sent and gold_sent:\n",
        "                sentiment_references.append(gold_sent)\n",
        "                sentiment_predictions.append(pred_sent)\n",
        "        product_embeddings.append(aspects_embeddings)\n",
        "    xlmroberta_products_sentiments.append(product_sentiment)\n",
        "    xlmroberta_products_embeddings.append(product_embeddings)"
      ],
      "metadata": {
        "id": "9h2jXdnT3GGC"
      },
      "execution_count": 115,
      "outputs": []
    },
    {
      "cell_type": "code",
      "source": [
        "for aspect, sentiment in zip(products_aspects[0][2], xlmroberta_products_sentiments[0][2]):\n",
        "    print(aspect[0], sentiment)"
      ],
      "metadata": {
        "id": "faCj7D8K3GGD",
        "colab": {
          "base_uri": "https://localhost:8080/"
        },
        "outputId": "894be80d-d8a2-4108-864b-0a271641c27c"
      },
      "execution_count": 116,
      "outputs": [
        {
          "output_type": "stream",
          "name": "stdout",
          "text": [
            "алюминий positive\n",
            "алюминий, марка positive\n",
            "алюминий, марка, батарейка positive\n",
            "марка positive\n",
            "батарейка positive\n",
            "батарейка, экран positive\n",
            "батарейка, экран, вес positive\n",
            "экран positive\n",
            "вес, звук positive\n",
            "софт negative\n",
            "многое negative\n",
            "ВАУ neutral\n",
            "ВАУ negative\n",
            "Софт negative\n",
            "весь negative\n",
            "стоит negative\n",
            "весь negative\n",
            "многое negative\n",
            "Банальный dropbox negative\n",
            "Банальный dropbox нет в appstore negative\n",
            "dropbox нет в appstore negative\n",
            "dropbox нет в appstore . Родной negative\n",
            "appstore . Родной negative\n",
            "appstore . Родной quicktime negative\n",
            "quicktime player negative\n",
            "quicktime player это вообще negative\n",
            "player это вообще negative\n",
            "player это вообще тупость negative\n",
            "винде он определенный файл negative\n",
            "Elmedia на ура positive\n",
            "Elmedia на ура. Туповатое positive\n",
            "стоит negative\n",
            "скачать positive\n",
            "mail облако neutral\n",
            "mail облако, так это отдельно negative\n",
            "скачать positive\n"
          ]
        }
      ]
    },
    {
      "cell_type": "code",
      "source": [
        "len(xlmroberta_products_embeddings[0][2])"
      ],
      "metadata": {
        "id": "Ini6RupSeKek",
        "colab": {
          "base_uri": "https://localhost:8080/"
        },
        "outputId": "d4d9be21-737e-4f64-9aed-3574226da4af"
      },
      "execution_count": 117,
      "outputs": [
        {
          "output_type": "execute_result",
          "data": {
            "text/plain": [
              "36"
            ]
          },
          "metadata": {},
          "execution_count": 117
        }
      ]
    },
    {
      "cell_type": "code",
      "source": [
        "print(classification_report(sentiment_references, sentiment_predictions))"
      ],
      "metadata": {
        "id": "nDnvhkV8LtEb",
        "colab": {
          "base_uri": "https://localhost:8080/"
        },
        "outputId": "6c384c52-912d-455b-fc10-7df7c1344361"
      },
      "execution_count": 118,
      "outputs": [
        {
          "output_type": "stream",
          "name": "stdout",
          "text": [
            "              precision    recall  f1-score   support\n",
            "\n",
            "    negative       0.67      0.66      0.67       334\n",
            "     neutral       0.33      0.32      0.33       142\n",
            "    positive       0.81      0.82      0.82       590\n",
            "\n",
            "    accuracy                           0.71      1066\n",
            "   macro avg       0.61      0.60      0.60      1066\n",
            "weighted avg       0.70      0.71      0.71      1066\n",
            "\n"
          ]
        }
      ]
    },
    {
      "cell_type": "markdown",
      "source": [
        "## Summarization"
      ],
      "metadata": {
        "id": "IMGFQpt5uDMd"
      }
    },
    {
      "cell_type": "code",
      "source": [
        "laptop_summarization = pd.read_excel('/content/drive/MyDrive/Summarization/laptop data/datasets/summarization.xlsx')\n",
        "\n",
        "laptop_summarization.head()"
      ],
      "metadata": {
        "id": "EtCeGoQSRJNY",
        "colab": {
          "base_uri": "https://localhost:8080/",
          "height": 206
        },
        "outputId": "aeda7cc1-098a-41bd-bbe7-1c5440dea6ce"
      },
      "execution_count": 119,
      "outputs": [
        {
          "output_type": "execute_result",
          "data": {
            "text/plain": [
              "   id  product_id         term sentiment\n",
              "0   0           1       тачпад  positive\n",
              "1   1           1        экран  positive\n",
              "2   2           1  аккумулятор  positive\n",
              "3   3           1      колонки  positive\n",
              "4   4           1       сборка  positive"
            ],
            "text/html": [
              "\n",
              "  <div id=\"df-ffa18ce8-aeae-4705-814e-4a8c54a767cf\">\n",
              "    <div class=\"colab-df-container\">\n",
              "      <div>\n",
              "<style scoped>\n",
              "    .dataframe tbody tr th:only-of-type {\n",
              "        vertical-align: middle;\n",
              "    }\n",
              "\n",
              "    .dataframe tbody tr th {\n",
              "        vertical-align: top;\n",
              "    }\n",
              "\n",
              "    .dataframe thead th {\n",
              "        text-align: right;\n",
              "    }\n",
              "</style>\n",
              "<table border=\"1\" class=\"dataframe\">\n",
              "  <thead>\n",
              "    <tr style=\"text-align: right;\">\n",
              "      <th></th>\n",
              "      <th>id</th>\n",
              "      <th>product_id</th>\n",
              "      <th>term</th>\n",
              "      <th>sentiment</th>\n",
              "    </tr>\n",
              "  </thead>\n",
              "  <tbody>\n",
              "    <tr>\n",
              "      <th>0</th>\n",
              "      <td>0</td>\n",
              "      <td>1</td>\n",
              "      <td>тачпад</td>\n",
              "      <td>positive</td>\n",
              "    </tr>\n",
              "    <tr>\n",
              "      <th>1</th>\n",
              "      <td>1</td>\n",
              "      <td>1</td>\n",
              "      <td>экран</td>\n",
              "      <td>positive</td>\n",
              "    </tr>\n",
              "    <tr>\n",
              "      <th>2</th>\n",
              "      <td>2</td>\n",
              "      <td>1</td>\n",
              "      <td>аккумулятор</td>\n",
              "      <td>positive</td>\n",
              "    </tr>\n",
              "    <tr>\n",
              "      <th>3</th>\n",
              "      <td>3</td>\n",
              "      <td>1</td>\n",
              "      <td>колонки</td>\n",
              "      <td>positive</td>\n",
              "    </tr>\n",
              "    <tr>\n",
              "      <th>4</th>\n",
              "      <td>4</td>\n",
              "      <td>1</td>\n",
              "      <td>сборка</td>\n",
              "      <td>positive</td>\n",
              "    </tr>\n",
              "  </tbody>\n",
              "</table>\n",
              "</div>\n",
              "      <button class=\"colab-df-convert\" onclick=\"convertToInteractive('df-ffa18ce8-aeae-4705-814e-4a8c54a767cf')\"\n",
              "              title=\"Convert this dataframe to an interactive table.\"\n",
              "              style=\"display:none;\">\n",
              "        \n",
              "  <svg xmlns=\"http://www.w3.org/2000/svg\" height=\"24px\"viewBox=\"0 0 24 24\"\n",
              "       width=\"24px\">\n",
              "    <path d=\"M0 0h24v24H0V0z\" fill=\"none\"/>\n",
              "    <path d=\"M18.56 5.44l.94 2.06.94-2.06 2.06-.94-2.06-.94-.94-2.06-.94 2.06-2.06.94zm-11 1L8.5 8.5l.94-2.06 2.06-.94-2.06-.94L8.5 2.5l-.94 2.06-2.06.94zm10 10l.94 2.06.94-2.06 2.06-.94-2.06-.94-.94-2.06-.94 2.06-2.06.94z\"/><path d=\"M17.41 7.96l-1.37-1.37c-.4-.4-.92-.59-1.43-.59-.52 0-1.04.2-1.43.59L10.3 9.45l-7.72 7.72c-.78.78-.78 2.05 0 2.83L4 21.41c.39.39.9.59 1.41.59.51 0 1.02-.2 1.41-.59l7.78-7.78 2.81-2.81c.8-.78.8-2.07 0-2.86zM5.41 20L4 18.59l7.72-7.72 1.47 1.35L5.41 20z\"/>\n",
              "  </svg>\n",
              "      </button>\n",
              "      \n",
              "  <style>\n",
              "    .colab-df-container {\n",
              "      display:flex;\n",
              "      flex-wrap:wrap;\n",
              "      gap: 12px;\n",
              "    }\n",
              "\n",
              "    .colab-df-convert {\n",
              "      background-color: #E8F0FE;\n",
              "      border: none;\n",
              "      border-radius: 50%;\n",
              "      cursor: pointer;\n",
              "      display: none;\n",
              "      fill: #1967D2;\n",
              "      height: 32px;\n",
              "      padding: 0 0 0 0;\n",
              "      width: 32px;\n",
              "    }\n",
              "\n",
              "    .colab-df-convert:hover {\n",
              "      background-color: #E2EBFA;\n",
              "      box-shadow: 0px 1px 2px rgba(60, 64, 67, 0.3), 0px 1px 3px 1px rgba(60, 64, 67, 0.15);\n",
              "      fill: #174EA6;\n",
              "    }\n",
              "\n",
              "    [theme=dark] .colab-df-convert {\n",
              "      background-color: #3B4455;\n",
              "      fill: #D2E3FC;\n",
              "    }\n",
              "\n",
              "    [theme=dark] .colab-df-convert:hover {\n",
              "      background-color: #434B5C;\n",
              "      box-shadow: 0px 1px 3px 1px rgba(0, 0, 0, 0.15);\n",
              "      filter: drop-shadow(0px 1px 2px rgba(0, 0, 0, 0.3));\n",
              "      fill: #FFFFFF;\n",
              "    }\n",
              "  </style>\n",
              "\n",
              "      <script>\n",
              "        const buttonEl =\n",
              "          document.querySelector('#df-ffa18ce8-aeae-4705-814e-4a8c54a767cf button.colab-df-convert');\n",
              "        buttonEl.style.display =\n",
              "          google.colab.kernel.accessAllowed ? 'block' : 'none';\n",
              "\n",
              "        async function convertToInteractive(key) {\n",
              "          const element = document.querySelector('#df-ffa18ce8-aeae-4705-814e-4a8c54a767cf');\n",
              "          const dataTable =\n",
              "            await google.colab.kernel.invokeFunction('convertToInteractive',\n",
              "                                                     [key], {});\n",
              "          if (!dataTable) return;\n",
              "\n",
              "          const docLinkHtml = 'Like what you see? Visit the ' +\n",
              "            '<a target=\"_blank\" href=https://colab.research.google.com/notebooks/data_table.ipynb>data table notebook</a>'\n",
              "            + ' to learn more about interactive tables.';\n",
              "          element.innerHTML = '';\n",
              "          dataTable['output_type'] = 'display_data';\n",
              "          await google.colab.output.renderOutput(dataTable, element);\n",
              "          const docLink = document.createElement('div');\n",
              "          docLink.innerHTML = docLinkHtml;\n",
              "          element.appendChild(docLink);\n",
              "        }\n",
              "      </script>\n",
              "    </div>\n",
              "  </div>\n",
              "  "
            ]
          },
          "metadata": {},
          "execution_count": 119
        }
      ]
    },
    {
      "cell_type": "code",
      "source": [
        "class Clusterisator(ABC):\n",
        "\n",
        "    def __init__(self, n_clusters=None, random_state=42):\n",
        "        self.n_clusters = n_clusters\n",
        "        self.random_state = random_state\n",
        "\n",
        "    @abstractmethod\n",
        "    def _clusterisation(self):\n",
        "        pass\n",
        "\n",
        "    def _get_aspects(self, embeddings: list):\n",
        "        '''\n",
        "        Identify aspects after clusterisation.\n",
        "        '''\n",
        "        \n",
        "        labels, centers = self._clusterisation(embeddings)\n",
        "\n",
        "        labels = list(labels)\n",
        "\n",
        "        min_dist_states = {}\n",
        "\n",
        "        for idx, (label, embedding) in enumerate(zip(labels, embeddings)):\n",
        "            if label not in min_dist_states:\n",
        "                min_dist_states[label] = {'min_dist': 1, 'min_idx': None, 'embedding': None}\n",
        "            # get embedding with minimum cosine distance\n",
        "            # from center of cluster\n",
        "            dist = distance.cosine(embedding, centers[label])\n",
        "            min_dist = min_dist_states[label].get('min_dist', None)\n",
        "            if min_dist:\n",
        "                if min_dist > dist:\n",
        "                    if min_dist_states[label]['embedding'] is not None:\n",
        "                        # return previous embedding with minimum distance into the list\n",
        "                        emb_idx = min_dist_states[label]['min_idx']\n",
        "                        emb = min_dist_states[label]['embedding']\n",
        "                        embeddings[emb_idx] = emb\n",
        "\n",
        "                    min_dist_states[label]['min_dist'] = dist\n",
        "                    min_dist_states[label]['min_idx'] = idx\n",
        "                    min_dist_states[label]['embedding'] = embedding\n",
        "\n",
        "                    # remove main aspect and it's embedding from clusters\n",
        "                    # leave other embeddings of clusters\n",
        "                    # to get summarized polarity\n",
        "                    embeddings[idx] = None\n",
        "\n",
        "        return labels, embeddings\n",
        "\n",
        "    def get_summarized_aspects(self, embeddings: list, mentions: list, sentiment: list):\n",
        "        '''\n",
        "        Summarize sentiment by aspect in the clusters.\n",
        "        '''\n",
        "        embeddings = deepcopy(embeddings)\n",
        "        labels, embeddings = self._get_aspects(embeddings)\n",
        "\n",
        "        labels = [i - 1 for i in deepcopy(labels)]\n",
        "\n",
        "        aspects = [0 for _ in range(len(set(labels)))]\n",
        "        other_sentiment = [Counter() for _ in range(len(set(labels)))]\n",
        "        # other_mentions = [[] for _ in range(len(set(labels)))]\n",
        "\n",
        "        for idx, (label, embedding) in enumerate(zip(labels, embeddings)):\n",
        "\n",
        "            # get main aspect\n",
        "            if embedding is None:\n",
        "                aspects[label] = mentions[idx]\n",
        "                # print('Aspect', mentions[idx])\n",
        "            other_sentiment[label][sentiment[idx]] += 1\n",
        "            # other_mentions[label].append(mentions[idx])\n",
        "\n",
        "        # for aspect, mentions, sentiment in zip(aspects, other_mentions, other_sentiment):\n",
        "        #     print(aspect, mentions, sentiment)\n",
        "\n",
        "        sentiments = [sentiment.most_common()[0][0] for sentiment in other_sentiment]\n",
        "\n",
        "        return aspects, sentiments"
      ],
      "metadata": {
        "id": "HA77eiyuIbEJ"
      },
      "execution_count": 150,
      "outputs": []
    },
    {
      "cell_type": "code",
      "source": [
        "class AffinityPropagationClusterisator(Clusterisator):\n",
        "\n",
        "    def _clusterisation(self, embeddings):\n",
        "\n",
        "        affp = AffinityPropagation(random_state=self.random_state, damping=0.7).fit(embeddings)\n",
        "        labels = affp.labels_\n",
        "        centers = affp.cluster_centers_\n",
        "\n",
        "        return labels, centers"
      ],
      "metadata": {
        "id": "MIBiT285YsVU"
      },
      "execution_count": 151,
      "outputs": []
    },
    {
      "cell_type": "code",
      "source": [
        "affp_clusterisator = AffinityPropagationClusterisator()"
      ],
      "metadata": {
        "id": "H193laZZYteD"
      },
      "execution_count": 152,
      "outputs": []
    },
    {
      "cell_type": "code",
      "source": [
        "gold_summarization = laptop_summarization[laptop_summarization['product_id'] == 1]\n",
        "\n",
        "gold_summarization.head()"
      ],
      "metadata": {
        "colab": {
          "base_uri": "https://localhost:8080/",
          "height": 206
        },
        "id": "X36SVeZxU39C",
        "outputId": "5234e97c-af5c-4c9d-a1b9-db5ed5824905"
      },
      "execution_count": 153,
      "outputs": [
        {
          "output_type": "execute_result",
          "data": {
            "text/plain": [
              "   id  product_id         term sentiment\n",
              "0   0           1       тачпад  positive\n",
              "1   1           1        экран  positive\n",
              "2   2           1  аккумулятор  positive\n",
              "3   3           1      колонки  positive\n",
              "4   4           1       сборка  positive"
            ],
            "text/html": [
              "\n",
              "  <div id=\"df-84ca635b-13f0-4fda-8e29-4cd11e3d149e\">\n",
              "    <div class=\"colab-df-container\">\n",
              "      <div>\n",
              "<style scoped>\n",
              "    .dataframe tbody tr th:only-of-type {\n",
              "        vertical-align: middle;\n",
              "    }\n",
              "\n",
              "    .dataframe tbody tr th {\n",
              "        vertical-align: top;\n",
              "    }\n",
              "\n",
              "    .dataframe thead th {\n",
              "        text-align: right;\n",
              "    }\n",
              "</style>\n",
              "<table border=\"1\" class=\"dataframe\">\n",
              "  <thead>\n",
              "    <tr style=\"text-align: right;\">\n",
              "      <th></th>\n",
              "      <th>id</th>\n",
              "      <th>product_id</th>\n",
              "      <th>term</th>\n",
              "      <th>sentiment</th>\n",
              "    </tr>\n",
              "  </thead>\n",
              "  <tbody>\n",
              "    <tr>\n",
              "      <th>0</th>\n",
              "      <td>0</td>\n",
              "      <td>1</td>\n",
              "      <td>тачпад</td>\n",
              "      <td>positive</td>\n",
              "    </tr>\n",
              "    <tr>\n",
              "      <th>1</th>\n",
              "      <td>1</td>\n",
              "      <td>1</td>\n",
              "      <td>экран</td>\n",
              "      <td>positive</td>\n",
              "    </tr>\n",
              "    <tr>\n",
              "      <th>2</th>\n",
              "      <td>2</td>\n",
              "      <td>1</td>\n",
              "      <td>аккумулятор</td>\n",
              "      <td>positive</td>\n",
              "    </tr>\n",
              "    <tr>\n",
              "      <th>3</th>\n",
              "      <td>3</td>\n",
              "      <td>1</td>\n",
              "      <td>колонки</td>\n",
              "      <td>positive</td>\n",
              "    </tr>\n",
              "    <tr>\n",
              "      <th>4</th>\n",
              "      <td>4</td>\n",
              "      <td>1</td>\n",
              "      <td>сборка</td>\n",
              "      <td>positive</td>\n",
              "    </tr>\n",
              "  </tbody>\n",
              "</table>\n",
              "</div>\n",
              "      <button class=\"colab-df-convert\" onclick=\"convertToInteractive('df-84ca635b-13f0-4fda-8e29-4cd11e3d149e')\"\n",
              "              title=\"Convert this dataframe to an interactive table.\"\n",
              "              style=\"display:none;\">\n",
              "        \n",
              "  <svg xmlns=\"http://www.w3.org/2000/svg\" height=\"24px\"viewBox=\"0 0 24 24\"\n",
              "       width=\"24px\">\n",
              "    <path d=\"M0 0h24v24H0V0z\" fill=\"none\"/>\n",
              "    <path d=\"M18.56 5.44l.94 2.06.94-2.06 2.06-.94-2.06-.94-.94-2.06-.94 2.06-2.06.94zm-11 1L8.5 8.5l.94-2.06 2.06-.94-2.06-.94L8.5 2.5l-.94 2.06-2.06.94zm10 10l.94 2.06.94-2.06 2.06-.94-2.06-.94-.94-2.06-.94 2.06-2.06.94z\"/><path d=\"M17.41 7.96l-1.37-1.37c-.4-.4-.92-.59-1.43-.59-.52 0-1.04.2-1.43.59L10.3 9.45l-7.72 7.72c-.78.78-.78 2.05 0 2.83L4 21.41c.39.39.9.59 1.41.59.51 0 1.02-.2 1.41-.59l7.78-7.78 2.81-2.81c.8-.78.8-2.07 0-2.86zM5.41 20L4 18.59l7.72-7.72 1.47 1.35L5.41 20z\"/>\n",
              "  </svg>\n",
              "      </button>\n",
              "      \n",
              "  <style>\n",
              "    .colab-df-container {\n",
              "      display:flex;\n",
              "      flex-wrap:wrap;\n",
              "      gap: 12px;\n",
              "    }\n",
              "\n",
              "    .colab-df-convert {\n",
              "      background-color: #E8F0FE;\n",
              "      border: none;\n",
              "      border-radius: 50%;\n",
              "      cursor: pointer;\n",
              "      display: none;\n",
              "      fill: #1967D2;\n",
              "      height: 32px;\n",
              "      padding: 0 0 0 0;\n",
              "      width: 32px;\n",
              "    }\n",
              "\n",
              "    .colab-df-convert:hover {\n",
              "      background-color: #E2EBFA;\n",
              "      box-shadow: 0px 1px 2px rgba(60, 64, 67, 0.3), 0px 1px 3px 1px rgba(60, 64, 67, 0.15);\n",
              "      fill: #174EA6;\n",
              "    }\n",
              "\n",
              "    [theme=dark] .colab-df-convert {\n",
              "      background-color: #3B4455;\n",
              "      fill: #D2E3FC;\n",
              "    }\n",
              "\n",
              "    [theme=dark] .colab-df-convert:hover {\n",
              "      background-color: #434B5C;\n",
              "      box-shadow: 0px 1px 3px 1px rgba(0, 0, 0, 0.15);\n",
              "      filter: drop-shadow(0px 1px 2px rgba(0, 0, 0, 0.3));\n",
              "      fill: #FFFFFF;\n",
              "    }\n",
              "  </style>\n",
              "\n",
              "      <script>\n",
              "        const buttonEl =\n",
              "          document.querySelector('#df-84ca635b-13f0-4fda-8e29-4cd11e3d149e button.colab-df-convert');\n",
              "        buttonEl.style.display =\n",
              "          google.colab.kernel.accessAllowed ? 'block' : 'none';\n",
              "\n",
              "        async function convertToInteractive(key) {\n",
              "          const element = document.querySelector('#df-84ca635b-13f0-4fda-8e29-4cd11e3d149e');\n",
              "          const dataTable =\n",
              "            await google.colab.kernel.invokeFunction('convertToInteractive',\n",
              "                                                     [key], {});\n",
              "          if (!dataTable) return;\n",
              "\n",
              "          const docLinkHtml = 'Like what you see? Visit the ' +\n",
              "            '<a target=\"_blank\" href=https://colab.research.google.com/notebooks/data_table.ipynb>data table notebook</a>'\n",
              "            + ' to learn more about interactive tables.';\n",
              "          element.innerHTML = '';\n",
              "          dataTable['output_type'] = 'display_data';\n",
              "          await google.colab.output.renderOutput(dataTable, element);\n",
              "          const docLink = document.createElement('div');\n",
              "          docLink.innerHTML = docLinkHtml;\n",
              "          element.appendChild(docLink);\n",
              "        }\n",
              "      </script>\n",
              "    </div>\n",
              "  </div>\n",
              "  "
            ]
          },
          "metadata": {},
          "execution_count": 153
        }
      ]
    },
    {
      "cell_type": "code",
      "source": [
        "gold_summarization.groupby('sentiment')['term'].apply(lambda x: x.tolist()).to_dict()"
      ],
      "metadata": {
        "colab": {
          "base_uri": "https://localhost:8080/"
        },
        "id": "NMA9wUe_VeaQ",
        "outputId": "854cad86-3a58-4f0a-e7e5-7fbba0aa9d24"
      },
      "execution_count": 154,
      "outputs": [
        {
          "output_type": "execute_result",
          "data": {
            "text/plain": [
              "{'negative': ['алюминий',\n",
              "  'корпус',\n",
              "  'вентиляторы',\n",
              "  'Отсутствие Ethernet порта',\n",
              "  'Отсутствие поддержки NTFS',\n",
              "  'ремонтопригодность',\n",
              "  '2 usb',\n",
              "  'кулер',\n",
              "  'цена',\n",
              "  'тепловыделению'],\n",
              " 'neutral': ['Клавиатура', 'наворотики'],\n",
              " 'positive': ['тачпад',\n",
              "  'экран',\n",
              "  'аккумулятор',\n",
              "  'колонки',\n",
              "  'сборка',\n",
              "  'ноутбук',\n",
              "  'операционная система',\n",
              "  'ssd',\n",
              "  'разъемы',\n",
              "  'датчика света',\n",
              "  'можно класть ноутбук на любой бок',\n",
              "  'есть самые нужные разъемы',\n",
              "  'марка',\n",
              "  'вес',\n",
              "  'звук',\n",
              "  'железо',\n",
              "  'габаритах',\n",
              "  'производительность',\n",
              "  'Thunderbolt',\n",
              "  'дизайн',\n",
              "  'Эргономичность',\n",
              "  'открывания одной рукой',\n",
              "  'отклик']}"
            ]
          },
          "metadata": {},
          "execution_count": 154
        }
      ]
    },
    {
      "cell_type": "code",
      "source": [
        "def evaluate_summarization(summarization: list, gold_summarization: list) -> None:\n",
        "    '''\n",
        "    Evaluate summarization by exact and partial match.\n",
        "    '''\n",
        "\n",
        "    gold_summarization = [gold_coll.lower() for gold_coll in gold_summarization]\n",
        "    # print(gold_summarization)\n",
        "    exact_match = len([coll for coll in summarization if coll.lower() in gold_summarization])\n",
        "    # print(exact_match)\n",
        "\n",
        "    partial_match = []\n",
        "    for coll in summarization:\n",
        "        coll = coll.lower()\n",
        "        for gold_coll in gold_summarization:\n",
        "            if coll in gold_coll or gold_coll in coll:\n",
        "                if coll not in partial_match:\n",
        "                    partial_match.append(coll)\n",
        "    partial_match = len(partial_match)\n",
        "\n",
        "    return exact_match, partial_match"
      ],
      "metadata": {
        "id": "2Qe_qEa9W468"
      },
      "execution_count": 155,
      "outputs": []
    },
    {
      "cell_type": "markdown",
      "source": [
        "### ruBERT"
      ],
      "metadata": {
        "id": "lmJpkq7QZ5mc"
      }
    },
    {
      "cell_type": "code",
      "source": [
        "rubert_summarization = []\n",
        "\n",
        "summarization_length = 0\n",
        "exact_match = 0\n",
        "partial_match = 0\n",
        "\n",
        "for product_embeddings, product_aspects, product_sentiment, product_id in\\\n",
        "zip(rubert_products_embeddings, products_aspects, rubert_products_sentiments, range(1, 11)):\n",
        "\n",
        "    predicted_embeddings = reduce(lambda x, y: x + y, product_embeddings)\n",
        "    predicted_aspects = reduce(lambda x, y: x + y, product_aspects)\n",
        "    predicted_mentions = [aspect[0] for aspect in predicted_aspects]\n",
        "    predicted_sentiment = reduce(lambda x, y: x + y, product_sentiment)\n",
        "\n",
        "    aspects, sentiments = affp_clusterisator.get_summarized_aspects(\n",
        "        predicted_embeddings,\n",
        "        predicted_mentions,\n",
        "        predicted_sentiment\n",
        "        )\n",
        "    \n",
        "    summarization = defaultdict(list)\n",
        "    for aspect, sentiment in zip(aspects, sentiments):\n",
        "        summarization[sentiment].append(aspect)\n",
        "\n",
        "    g_sum = gold_summarization.groupby('sentiment')['term'].apply(lambda x: x.tolist()).to_dict()\n",
        "\n",
        "    for sent in ['positive', 'negative', 'neutral']:\n",
        "        gold_colls = g_sum.get(sent, None)\n",
        "        colls = summarization.get(sent, None)\n",
        "        if gold_colls and colls:\n",
        "            summarization_length += len(colls)\n",
        "            sent_exact_match, sent_partial_match = evaluate_summarization(colls, gold_colls)\n",
        "            exact_match += sent_exact_match\n",
        "            partial_match += sent_partial_match\n",
        "\n",
        "    rubert_summarization.append(summarization)\n",
        "\n",
        "    break"
      ],
      "metadata": {
        "id": "kpWglEB9Yuth",
        "colab": {
          "base_uri": "https://localhost:8080/"
        },
        "outputId": "e7cf93bf-62ff-47f4-b6fc-e29ba2fa39c6"
      },
      "execution_count": 148,
      "outputs": [
        {
          "output_type": "stream",
          "name": "stdout",
          "text": [
            "Aspect работы\n",
            "Aspect разработчиком\n",
            "Aspect пользовался\n",
            "Aspect Unix\n",
            "Aspect ноутбук\n",
            "Aspect начал\n",
            "Aspect верхнем правом\n",
            "Aspect просто\n",
            "Aspect очень\n",
            "Aspect USB, HDMI и отверстие\n",
            "Aspect USB-С устройства\n",
            "Aspect очень\n",
            "Aspect expresscard слотов и прочего\n",
            "Aspect 4 ядерная\n",
            "Aspect софту\n",
            "Aspect просто\n",
            "Aspect буфер обмена, можно принимать\n",
            "Aspect все\n",
            "Aspect софт\n",
            "Aspect Софт\n",
            "Aspect Банальный dropbox\n",
            "Aspect dropbox нет в appstore\n",
            "Aspect quicktime player\n",
            "Aspect quicktime player это вообще\n",
            "Aspect Elmedia на ура\n",
            "Aspect Elmedia на ура. Туповатое\n",
            "Aspect Тачпад\n",
            "Aspect ноутбук\n",
            "Aspect время\n",
            "Aspect Ctrl, а точка\n",
            "Aspect Ctrl, а точка и запятой\n",
            "Aspect 7, буква ё\n",
            "Aspect ethernet\n",
            "Aspect ноутбуке\n",
            "Aspect быстрый ssd диск\n",
            "Aspect временем\n",
            "Aspect 2 usb\n",
            "Aspect Модель\n",
            "Aspect батареи хватает\n",
            "Aspect активной работы, что для меня не является\n",
            "Aspect 70к. Во-вторых SSD\n",
            "Aspect SSD впаяна\n",
            "Aspect SSD впаяна, при выходе\n",
            "Aspect возле коннектора, появились\n",
            "Aspect проблемы\n",
            "Aspect пользовался\n",
            "Aspect версией по проще, но решил\n",
            "Aspect 59к сверху\n",
            "Aspect бренд...хотя\n",
            "Aspect бизнес\n",
            "Aspect завидуют, стимулирует так сказать\n",
            "Aspect дисплей\n",
            "Aspect бубном по настройки\n",
            "Aspect обычной\n",
            "Aspect Force Touch -- это причина\n",
            "Aspect Touch -- это причина по которой\n",
            "Aspect mac, и любые лишние\n",
            "Aspect Колонки\n",
            "Aspect колонки\n",
            "Aspect вполне\n",
            "Aspect часто\n",
            "Aspect кулер\n",
            "Aspect лучшая\n",
            "Aspect среди\n",
            "Aspect среди\n",
            "Aspect год\n",
            "Aspect знаю, в магазинах их уже нет, в сервис\n",
            "Aspect Мышка\n",
            "Aspect год\n",
            "Aspect запятая на русской\n",
            "Aspect пользованию\n",
            "Aspect 1 usb\n",
            "разработчиком ['разработчиком', 'разработчиков'] Counter({'neutral': 1, 'positive': 1})\n",
            "пользовался ['пользовался', 'время', 'владения порвалась изоляция'] Counter({'negative': 2, 'neutral': 1})\n",
            "Unix ['Unix', 'Unix'] Counter({'neutral': 1, 'positive': 1})\n",
            "ноутбук ['ноутбук', 'ноутбук', 'ноутбуком', 'ноутбук', 'HDMI и отверстие', 'экране', 'appstore . Родной', 'OS', 'Apple'] Counter({'positive': 4, 'negative': 3, 'neutral': 2})\n",
            "начал ['начал', 'начал'] Counter({'negative': 2})\n",
            "верхнем правом ['верхнем правом', 'верхнем правом углу'] Counter({'neutral': 1, 'negative': 1})\n",
            "просто ['просто', 'просто'] Counter({'positive': 2})\n",
            "очень ['очень', 'thinkpad w510'] Counter({'positive': 1, 'neutral': 1})\n",
            "USB, HDMI и отверстие ['USB, HDMI и отверстие', 'нормальная'] Counter({'positive': 2})\n",
            "USB-С устройства ['SD карточек', 'USB-С устройства', 'пока', 'ноутбуков', 'MagSafe2 до открывания одной рукой'] Counter({'positive': 4, 'neutral': 1})\n",
            "очень ['корпус', 'корпус', 'экран', 'очень', '6 и 7', 'ethernet нужен переходник'] Counter({'negative': 3, 'positive': 2, 'neutral': 1})\n",
            "expresscard слотов и прочего ['пока', 'expresscard слотов и прочего'] Counter({'positive': 2})\n",
            "4 ядерная ['аккумулятора Отличный', 'аккумулятора Отличный звук', 'вминается, если уронить/ударить', 'сделать из более прочного материала', 'вмятину на крышке', 'просто', 'очень', '4 ядерная', '4 ядерная 15', '15 дюймовая', '15 дюймовая машина', 'Корпус', 'корпус', 'player это вообще тупость', 'года', 'года', 'производительности', 'года', 'экран', '30 000 рублей', '30 000 рублей, то я выгодно', 'версий Apple'] Counter({'positive': 12, 'negative': 6, 'neutral': 4})\n",
            "софту ['софту', 'RDP клиент'] Counter({'positive': 2})\n",
            "просто ['просто', 'нормальная'] Counter({'positive': 2})\n",
            "буфер обмена, можно принимать ['нужные', 'экране', 'алюминиевый, прилегает хорошо и воздух', 'буфер обмена, можно принимать'] Counter({'positive': 4})\n",
            "все ['все', 'все', 'аутлук, корявый офис'] Counter({'negative': 1, 'positive': 1, 'neutral': 1})\n",
            "софт ['софт', 'софт'] Counter({'positive': 1, 'negative': 1})\n",
            "Софт ['многое', 'Софт'] Counter({'negative': 2})\n",
            "Банальный dropbox ['Банальный dropbox', 'стоит'] Counter({'negative': 1, 'neutral': 1})\n",
            "dropbox нет в appstore ['dropbox нет в appstore', 'dropbox нет в appstore . Родной', 'включения режима модема', 'самый', 'ноутбук'] Counter({'positive': 3, 'negative': 2})\n",
            "quicktime player ['HDMI и отверстие для SD', 'ноутбук', 'весь', 'appstore . Родной quicktime', 'quicktime player', 'взял именно'] Counter({'negative': 4, 'positive': 2})\n",
            "quicktime player это вообще ['quicktime player это вообще', 'mail облако'] Counter({'negative': 1, 'neutral': 1})\n",
            "Elmedia на ура ['весь', 'Elmedia на ура', 'mail облако, так это отдельно'] Counter({'negative': 2, 'positive': 1})\n",
            "Elmedia на ура. Туповатое ['OS X', 'многое', 'Elmedia на ура. Туповатое', 'скачать'] Counter({'positive': 2, 'negative': 2})\n",
            "Тачпад ['Тачпад', 'Купил'] Counter({'positive': 2})\n",
            "ноутбук ['нормальным', 'экрана', 'ethernet', 'ноутбук', 'экраном', 'экран', 'времени', 'тачпадом', 'проблемы', 'лет'] Counter({'negative': 6, 'positive': 3, 'neutral': 1})\n",
            "время ['информации под macOS и OS', 'macOS и OS', 'macOS и OS X', 'доведенный до ума без его болячек', 'болячек, вроде', 'болячек, вроде того, что что-нибудь', 'вроде того, что что-нибудь', 'вроде того, что что-нибудь отвалится', 'вмятину на крышке. - не знаю', 'экрана', 'нормальные', 'нужна', 'нормальная', 'Очень', 'ноутбук', 'Экран', 'RDP клиент) выпускается', 'нужен', 'Весь', 'софт', 'алюминий', 'алюминий, марка', 'алюминий, марка, батарейка', 'марка', 'батарейка', 'батарейка, экран', 'батарейка, экран, вес', 'вес, звук', 'винде он определенный файл', 'Mac', 'OS', 'продуктами', 'Apple', 'Ethernet', 'iPhone прямо', 'Mac', 'времени', 'Mac', 'OS', 'время', 'самое', 'Cmd вместо Ctrl', '2 usb, для подключения', 'ethernet нужен', 'версией по проще', 'покупки', 'вообще покупаю', '150 было бы оправданой', 'поменяли', 'P.S', 'P.S. На пятый', 'S. На пятый', 'всех', 'ноутбуков', 'мышки'] Counter({'positive': 24, 'neutral': 16, 'negative': 15})\n",
            "Ctrl, а точка ['Ctrl, а точка', 'ацки тяжелый'] Counter({'negative': 1, 'positive': 1})\n",
            "Ctrl, а точка и запятой ['Качественный', 'качественный', 'Ctrl, а точка и запятой', '6 и 7, буква'] Counter({'positive': 2, 'negative': 2})\n",
            "ethernet ['ethernet'] Counter({'neutral': 1})\n",
            "7, буква ё ['7, буква ё', 'быстро что-то'] Counter({'negative': 1, 'positive': 1})\n",
            "ноутбуке ['ноутбуке', 'ssd диск, и при этом он не ацки'] Counter({'positive': 2})\n",
            "быстрый ssd диск ['месяца', 'быстрый ssd диск', 'ssd диск', 'самый', 'конкретно точка и запятая', '1 usb), а после 1,5'] Counter({'negative': 3, 'positive': 3})\n",
            "временем ['7, буква', 'временем', 'батареи хватает всего на пару', 'активной работы'] Counter({'negative': 2, 'positive': 2})\n",
            "2 usb ['Экран', '2 usb', 'моделью'] Counter({'neutral': 2, 'positive': 1})\n",
            "Модель ['Модель'] Counter({'positive': 1})\n",
            "батареи хватает ['буква ё и вопросительный', 'батареи хватает'] Counter({'negative': 1, 'positive': 1})\n",
            "активной работы, что для меня не является ['Банальный dropbox нет в appstore', 'скачать', 'вместо Ctrl, а точка', 'активной работы, что для меня не является', 'всех'] Counter({'negative': 2, 'positive': 2, 'neutral': 1})\n",
            "70к. Во-вторых SSD ['70к. Во-вторых SSD'] Counter({'negative': 1})\n",
            "SSD впаяна ['SSD впаяна', 'корпусы'] Counter({'negative': 2})\n",
            "SSD впаяна, при выходе ['Пользуюсь', 'SSD впаяна, при выходе'] Counter({'neutral': 1, 'negative': 1})\n",
            "возле коннектора, появились ['кабеля', 'возле коннектора, появились', 'битые'] Counter({'negative': 3})\n",
            "проблемы ['проблемы', 'пользуюсь'] Counter({'positive': 1, 'neutral': 1})\n",
            "пользовался ['время', 'пользовался'] Counter({'negative': 1, 'neutral': 1})\n",
            "версией по проще, но решил ['версией по проще, но решил', 'Цена'] Counter({'neutral': 1, 'negative': 1})\n",
            "59к сверху ['Трекпад', 'Трекпад', 'трекпад', 'стоит', '59к сверху', 'выходят как айфоны'] Counter({'negative': 4, 'positive': 1, 'neutral': 1})\n",
            "бренд...хотя ['ноутбук', 'корпус', 'экран', '59к сверху за бренд', 'бренд...хотя', 'бренд...хотя в принципе', 'Думаю', 'Отличный', '2'] Counter({'neutral': 5, 'positive': 3, 'negative': 1})\n",
            "бизнес ['бизнес', 'Дисплей'] Counter({'positive': 2})\n",
            "завидуют, стимулирует так сказать ['завидуют, стимулирует так сказать', 'дальнейший успех ))) Так что даже это и помощник'] Counter({'negative': 1, 'positive': 1})\n",
            "дисплей ['бизнесе', 'дисплей'] Counter({'positive': 2})\n",
            "бубном по настройки ['бубном по настройки', 'обычные'] Counter({'positive': 1, 'negative': 1})\n",
            "обычной ['Thinkpad x220', 'ssd - авторегулировка яркости', 'USB, HDMI', 'player это вообще', 'продукты', 'Cmd вместо', 'корпус', 'проблема', 'временем', 'битые', 'пиксели', 'кабель', 'Во-первых та же матрица', '70к. Во-вторых', 'Во-вторых SSD', 'Во-вторых SSD впаяна', 'высше уровне', 'Купила', 'Цена', 'Цена', '+. Своих', '+. Своих сразу', '150 было бы оправданой тратой', 'денег, 59к сверху', 'hd мониторы. Шум', 'обычной', 'Трекпад', 'Force Touch', 'часто', 'mac, и любые', 'зарядки MagSafe2', 'зарядки MagSafe2 до открывания', 'MagSafe2 до открывания', 'просто', 'лучший', 'ноутбуков', 'писал', 'думать до сих', 'думать до сих пор', 'Количество звёзд на отзыве: 5', 'звёзд на отзыве: 5'] Counter({'positive': 18, 'negative': 13, 'neutral': 10})\n",
            "Force Touch -- это причина ['пока', 'Force Touch -- это причина'] Counter({'positive': 2})\n",
            "Touch -- это причина по которой ['hd мониторы', 'Touch -- это причина по которой'] Counter({'negative': 1, 'positive': 1})\n",
            "mac, и любые лишние ['mac, и любые лишние'] Counter({'positive': 1})\n",
            "вполне ['вполне', 'сервис', 'решил'] Counter({'positive': 2, 'neutral': 1})\n",
            "часто ['часто', 'пишут'] Counter({'negative': 2})\n",
            "Колонки ['Колонки', 'вполне'] Counter({'neutral': 1, 'positive': 1})\n",
            "колонки ['колонки', 'кулер'] Counter({'neutral': 1, 'negative': 1})\n",
            "кулер ['кулер', 'Клавиатура'] Counter({'negative': 1, 'neutral': 1})\n",
            "лучшая ['вминается, если уронить', 'сделать из более прочного', 'ssd - авторегулировка', 'expresscard слотов', 'ВАУ', 'ВАУ', 'буква ё', 'Apple', 'производительность', 'качественный', 'качественный', 'все конкуренты', 'все конкуренты с такой же начинкой', 'владения порвалась', 'пиксели', 'проблем', 'apple', 'apple, внем', 'внем', 'самом', 'высше', '4 месяц', 'пользуются', 'думаю', 'года на три точно. В поездках', 'покупки', 'самое', 'злит,многие завидуют, стимулирует', 'бубном по настройки цвета', 'Touch -- это причина', 'взял именно эту модель', 'трекпадом', 'S. На пятый месяц', 'экране', 'сервисе', 'аналогичного ноутбука', 'аналогичного ноутбука с подобной', 'лучшая', 'бесит, так это то, что через полгода', 'крышке, обусловлен он дешевым', 'дешевым подпружиненым', 'дешевым подпружиненым днищем', 'решить', 'знаю, в магазинах', 'просто', '3 usb'] Counter({'positive': 24, 'negative': 20, 'neutral': 2})\n",
            "среди ['среди'] Counter({'positive': 1})\n",
            "среди ['среди'] Counter({'positive': 1})\n",
            "год ['месяц', 'поменяли', 'лучший', 'год'] Counter({'negative': 2, 'neutral': 1, 'positive': 1})\n",
            "знаю, в магазинах их уже нет, в сервис ['знаю, в магазинах их уже нет, в сервис'] Counter({'negative': 1})\n",
            "Мышка ['Мышка'] Counter({'negative': 1})\n",
            "год ['год'] Counter({'negative': 1})\n",
            "запятая на русской ['быстро что-то скопировать', 'Ноутбук', 'желтых подтеках от клея', 'Клавиатура', 'запятая на русской', 'запятая на русской раскладке'] Counter({'negative': 4, 'positive': 2})\n",
            "пользованию ['большой в линейке', 'нравится', 'Дико', 'рад', 'пользованию', 'данным', 'компьютером'] Counter({'positive': 7})\n",
            "1 usb ['желтых подтеках', 'год', '1 usb'] Counter({'positive': 2, 'negative': 1})\n",
            "работы ['работы', 'работы', 'работы', 'работе'] Counter({'positive': 3, 'negative': 1})\n",
            "['тачпад', 'экран', 'аккумулятор', 'колонки', 'сборка', 'ноутбук', 'операционная система', 'ssd', 'разъемы', 'датчика света', 'можно класть ноутбук на любой бок', 'есть самые нужные разъемы', 'марка', 'вес', 'звук', 'железо', 'габаритах', 'производительность', 'thunderbolt', 'дизайн', 'эргономичность', 'открывания одной рукой', 'отклик']\n",
            "2\n",
            "['алюминий', 'корпус', 'вентиляторы', 'отсутствие ethernet порта', 'отсутствие поддержки ntfs', 'ремонтопригодность', '2 usb', 'кулер', 'цена', 'тепловыделению']\n",
            "1\n",
            "['клавиатура', 'наворотики']\n",
            "0\n"
          ]
        }
      ]
    },
    {
      "cell_type": "code",
      "source": [
        "rubert_summarization = []\n",
        "\n",
        "summarization_length = 0\n",
        "exact_match = 0\n",
        "partial_match = 0\n",
        "\n",
        "for product_embeddings, product_aspects, product_sentiment, product_id in\\\n",
        "zip(rubert_products_embeddings, products_aspects, rubert_products_sentiments, range(1, 8)):\n",
        "\n",
        "    predicted_embeddings = reduce(lambda x, y: x + y, product_embeddings)\n",
        "    predicted_aspects = reduce(lambda x, y: x + y, product_aspects)\n",
        "    predicted_mentions = [aspect[0] for aspect in predicted_aspects]\n",
        "    predicted_sentiment = reduce(lambda x, y: x + y, product_sentiment)\n",
        "\n",
        "    aspects, sentiments = affp_clusterisator.get_summarized_aspects(\n",
        "        predicted_embeddings,\n",
        "        predicted_mentions,\n",
        "        predicted_sentiment\n",
        "        )\n",
        "    \n",
        "    summarization = defaultdict(list)\n",
        "    for aspect, sentiment in zip(aspects, sentiments):\n",
        "        summarization[sentiment].append(aspect)\n",
        "\n",
        "    g_sum = gold_summarization.groupby('sentiment')['term'].apply(lambda x: x.tolist()).to_dict()\n",
        "\n",
        "    for sent in ['positive', 'negative', 'neutral']:\n",
        "        gold_colls = g_sum.get(sent, None)\n",
        "        colls = summarization.get(sent, None)\n",
        "        if gold_colls and colls:\n",
        "            summarization_length += len(colls)\n",
        "            sent_exact_match, sent_partial_match = evaluate_summarization(colls, gold_colls)\n",
        "            exact_match += sent_exact_match\n",
        "            partial_match += sent_partial_match\n",
        "\n",
        "    rubert_summarization.append(summarization)"
      ],
      "metadata": {
        "id": "hnafvkKZjgo-"
      },
      "execution_count": 156,
      "outputs": []
    },
    {
      "cell_type": "code",
      "source": [
        "rubert_summarization[0]"
      ],
      "metadata": {
        "colab": {
          "base_uri": "https://localhost:8080/"
        },
        "id": "nIdVBDyXYWLX",
        "outputId": "5de3cedd-2b72-453f-e5e2-9aa816bb715d"
      },
      "execution_count": 157,
      "outputs": [
        {
          "output_type": "execute_result",
          "data": {
            "text/plain": [
              "defaultdict(list,\n",
              "            {'neutral': ['разработчиком',\n",
              "              'Unix',\n",
              "              'верхнем правом',\n",
              "              'ethernet',\n",
              "              '2 usb',\n",
              "              'SSD впаяна, при выходе',\n",
              "              'версией по проще, но решил',\n",
              "              'бренд...хотя',\n",
              "              'Колонки',\n",
              "              'колонки'],\n",
              "             'negative': ['пользовался',\n",
              "              'начал',\n",
              "              'очень',\n",
              "              'все',\n",
              "              'Софт',\n",
              "              'Банальный dropbox',\n",
              "              'quicktime player',\n",
              "              'quicktime player это вообще',\n",
              "              'Elmedia на ура',\n",
              "              'ноутбук',\n",
              "              'Ctrl, а точка',\n",
              "              '7, буква ё',\n",
              "              'быстрый ssd диск',\n",
              "              'временем',\n",
              "              'батареи хватает',\n",
              "              'активной работы, что для меня не является',\n",
              "              '70к. Во-вторых SSD',\n",
              "              'SSD впаяна',\n",
              "              'возле коннектора, появились',\n",
              "              'пользовался',\n",
              "              '59к сверху',\n",
              "              'завидуют, стимулирует так сказать',\n",
              "              'Touch -- это причина по которой',\n",
              "              'часто',\n",
              "              'кулер',\n",
              "              'год',\n",
              "              'знаю, в магазинах их уже нет, в сервис',\n",
              "              'Мышка',\n",
              "              'год',\n",
              "              'запятая на русской'],\n",
              "             'positive': ['ноутбук',\n",
              "              'просто',\n",
              "              'очень',\n",
              "              'USB, HDMI и отверстие',\n",
              "              'USB-С устройства',\n",
              "              'expresscard слотов и прочего',\n",
              "              '4 ядерная',\n",
              "              'софту',\n",
              "              'просто',\n",
              "              'буфер обмена, можно принимать',\n",
              "              'софт',\n",
              "              'dropbox нет в appstore',\n",
              "              'Elmedia на ура. Туповатое',\n",
              "              'Тачпад',\n",
              "              'время',\n",
              "              'Ctrl, а точка и запятой',\n",
              "              'ноутбуке',\n",
              "              'Модель',\n",
              "              'проблемы',\n",
              "              'бизнес',\n",
              "              'дисплей',\n",
              "              'бубном по настройки',\n",
              "              'обычной',\n",
              "              'Force Touch -- это причина',\n",
              "              'mac, и любые лишние',\n",
              "              'вполне',\n",
              "              'лучшая',\n",
              "              'среди',\n",
              "              'среди',\n",
              "              'пользованию',\n",
              "              '1 usb',\n",
              "              'работы']})"
            ]
          },
          "metadata": {},
          "execution_count": 157
        }
      ]
    },
    {
      "cell_type": "code",
      "source": [
        "print('Exact match:', exact_match / summarization_length)\n",
        "print('Partial match:', partial_match / summarization_length)"
      ],
      "metadata": {
        "colab": {
          "base_uri": "https://localhost:8080/"
        },
        "id": "oFuuuwBpqN8j",
        "outputId": "f07b405c-a32b-4671-c381-aca79a72b61d"
      },
      "execution_count": 158,
      "outputs": [
        {
          "output_type": "stream",
          "name": "stdout",
          "text": [
            "Exact match: 0.024291497975708502\n",
            "Partial match: 0.058704453441295545\n"
          ]
        }
      ]
    },
    {
      "cell_type": "markdown",
      "source": [
        "### mBERT"
      ],
      "metadata": {
        "id": "nY2KRpj0Z_Hk"
      }
    },
    {
      "cell_type": "code",
      "source": [
        "mbert_summarization = []\n",
        "\n",
        "summarization_length = 0\n",
        "exact_match = 0\n",
        "partial_match = 0\n",
        "\n",
        "for product_embeddings, product_aspects, product_sentiment, product_id in\\\n",
        "zip(mbert_products_embeddings, products_aspects, mbert_products_sentiments, range(1, 8)):\n",
        "\n",
        "    predicted_embeddings = reduce(lambda x, y: x + y, product_embeddings)\n",
        "    predicted_aspects = reduce(lambda x, y: x + y, product_aspects)\n",
        "    predicted_mentions = [aspect[0] for aspect in predicted_aspects]\n",
        "    predicted_sentiment = reduce(lambda x, y: x + y, product_sentiment)\n",
        "\n",
        "    aspects, sentiments = affp_clusterisator.get_summarized_aspects(\n",
        "        predicted_embeddings,\n",
        "        predicted_mentions,\n",
        "        predicted_sentiment\n",
        "        )\n",
        "    \n",
        "    summarization = defaultdict(list)\n",
        "    for aspect, sentiment in zip(aspects, sentiments):\n",
        "        summarization[sentiment].append(aspect)\n",
        "\n",
        "    g_sum = gold_summarization.groupby('sentiment')['term'].apply(lambda x: x.tolist()).to_dict()\n",
        "\n",
        "    for sent in ['positive', 'negative', 'neutral']:\n",
        "        gold_colls = g_sum.get(sent, None)\n",
        "        colls = summarization.get(sent, None)\n",
        "        if gold_colls and colls:\n",
        "            summarization_length += len(colls)\n",
        "            sent_exact_match, sent_partial_match = evaluate_summarization(colls, gold_colls)\n",
        "            exact_match += sent_exact_match\n",
        "            partial_match += sent_partial_match\n",
        "\n",
        "    mbert_summarization.append(summarization)"
      ],
      "metadata": {
        "id": "QDb0phuzMWwJ"
      },
      "execution_count": 159,
      "outputs": []
    },
    {
      "cell_type": "code",
      "source": [
        "mbert_summarization[0]"
      ],
      "metadata": {
        "colab": {
          "base_uri": "https://localhost:8080/"
        },
        "id": "u67MZKCVaxCp",
        "outputId": "2ce7e0f6-9e8c-4142-b2e1-8640c0d49438"
      },
      "execution_count": 160,
      "outputs": [
        {
          "output_type": "execute_result",
          "data": {
            "text/plain": [
              "defaultdict(list,\n",
              "            {'positive': ['Трекпад',\n",
              "              'пользовался',\n",
              "              'Unix',\n",
              "              'macOS и OS X',\n",
              "              'экране',\n",
              "              '4 ядерная',\n",
              "              'нормальная',\n",
              "              'софт',\n",
              "              'аутлук, корявый офис',\n",
              "              'RDP клиент',\n",
              "              'софт',\n",
              "              'марка',\n",
              "              'большой в линейке',\n",
              "              'качественный',\n",
              "              'ethernet нужен',\n",
              "              'Модель',\n",
              "              'все конкуренты',\n",
              "              'самом',\n",
              "              'пользуюсь',\n",
              "              'версией по проще',\n",
              "              'пользуются',\n",
              "              '150 было бы оправданой тратой',\n",
              "              'злит,многие завидуют, стимулирует',\n",
              "              'завидуют, стимулирует так сказать',\n",
              "              'Дисплей',\n",
              "              'дисплей',\n",
              "              '30 000 рублей, то я выгодно',\n",
              "              'аналогичного ноутбука с подобной',\n",
              "              'всех',\n",
              "              'среди',\n",
              "              'всех',\n",
              "              'MagSafe2 до открывания одной рукой',\n",
              "              'решил',\n",
              "              'работы'],\n",
              "             'negative': ['начал',\n",
              "              'месяца',\n",
              "              'корпус',\n",
              "              'работе',\n",
              "              'очень',\n",
              "              'ssd - авторегулировка',\n",
              "              'нормальная',\n",
              "              'нужна',\n",
              "              'expresscard слотов и прочего',\n",
              "              'весь',\n",
              "              'dropbox нет в appstore . Родной',\n",
              "              'appstore . Родной quicktime',\n",
              "              'quicktime player это вообще',\n",
              "              'стоит',\n",
              "              'скачать',\n",
              "              'ноутбук',\n",
              "              'экраном',\n",
              "              'времени',\n",
              "              '6 и 7, буква',\n",
              "              'ноутбук',\n",
              "              'думаю',\n",
              "              'Думаю',\n",
              "              'hd мониторы. Шум',\n",
              "              'Трекпад',\n",
              "              'взял именно эту модель',\n",
              "              'кулер',\n",
              "              'P.S. На пятый',\n",
              "              'сервисе',\n",
              "              'решить'],\n",
              "             'neutral': ['месяц',\n",
              "              'винде он определенный файл',\n",
              "              'Apple',\n",
              "              'Колонки',\n",
              "              'поменяли']})"
            ]
          },
          "metadata": {},
          "execution_count": 160
        }
      ]
    },
    {
      "cell_type": "code",
      "source": [
        "print('Exact match:', exact_match / summarization_length)\n",
        "print('Partial match:', partial_match / summarization_length)"
      ],
      "metadata": {
        "colab": {
          "base_uri": "https://localhost:8080/"
        },
        "id": "mExHvOMAq5C7",
        "outputId": "c326241a-af92-4b82-f779-fa172394ddf5"
      },
      "execution_count": 161,
      "outputs": [
        {
          "output_type": "stream",
          "name": "stdout",
          "text": [
            "Exact match: 0.022821576763485476\n",
            "Partial match: 0.04979253112033195\n"
          ]
        }
      ]
    },
    {
      "cell_type": "markdown",
      "source": [
        "### XLM-RoBERTa"
      ],
      "metadata": {
        "id": "d-etODzfZ7Qa"
      }
    },
    {
      "cell_type": "code",
      "source": [
        "xlmroberta_summarization = []\n",
        "\n",
        "summarization_length = 0\n",
        "exact_match = 0\n",
        "partial_match = 0\n",
        "\n",
        "for product_embeddings, product_aspects, product_sentiment, product_id in\\\n",
        "zip(xlmroberta_products_embeddings, products_aspects, xlmroberta_products_sentiments, range(1, 8)):\n",
        "\n",
        "    predicted_embeddings = reduce(lambda x, y: x + y, product_embeddings)\n",
        "    predicted_aspects = reduce(lambda x, y: x + y, product_aspects)\n",
        "    predicted_mentions = [aspect[0] for aspect in predicted_aspects]\n",
        "    predicted_sentiment = reduce(lambda x, y: x + y, product_sentiment)\n",
        "\n",
        "    aspects, sentiments = affp_clusterisator.get_summarized_aspects(\n",
        "        predicted_embeddings,\n",
        "        predicted_mentions,\n",
        "        predicted_sentiment\n",
        "        )\n",
        "    \n",
        "    summarization = defaultdict(list)\n",
        "    for aspect, sentiment in zip(aspects, sentiments):\n",
        "        summarization[sentiment].append(aspect)\n",
        "\n",
        "    g_sum = gold_summarization.groupby('sentiment')['term'].apply(lambda x: x.tolist()).to_dict()\n",
        "\n",
        "    for sent in ['positive', 'negative', 'neutral']:\n",
        "        gold_colls = g_sum.get(sent, None)\n",
        "        colls = summarization.get(sent, None)\n",
        "        if gold_colls and colls:\n",
        "            summarization_length += len(colls)\n",
        "            sent_exact_match, sent_partial_match = evaluate_summarization(colls, gold_colls)\n",
        "            exact_match += sent_exact_match\n",
        "            partial_match += sent_partial_match\n",
        "\n",
        "    xlmroberta_summarization.append(summarization)"
      ],
      "metadata": {
        "id": "o8tcUmIMMXQv"
      },
      "execution_count": 162,
      "outputs": []
    },
    {
      "cell_type": "code",
      "source": [
        "xlmroberta_summarization[0]"
      ],
      "metadata": {
        "colab": {
          "base_uri": "https://localhost:8080/"
        },
        "id": "wdgOtCHGdwZv",
        "outputId": "656a2cd2-152d-4bbe-9a67-3f917ca1e2d8"
      },
      "execution_count": 163,
      "outputs": [
        {
          "output_type": "execute_result",
          "data": {
            "text/plain": [
              "defaultdict(list,\n",
              "            {'positive': ['Трекпад',\n",
              "              'macOS и OS X',\n",
              "              'работы',\n",
              "              'просто',\n",
              "              'очень',\n",
              "              'ssd - авторегулировка',\n",
              "              'USB, HDMI и отверстие',\n",
              "              'HDMI и отверстие для SD',\n",
              "              'expresscard слотов и прочего',\n",
              "              '4 ядерная 15',\n",
              "              'алюминиевый, прилегает хорошо и воздух',\n",
              "              'софту',\n",
              "              'нормальная',\n",
              "              'все',\n",
              "              'софт',\n",
              "              'софт',\n",
              "              'вес, звук',\n",
              "              'Elmedia на ура',\n",
              "              'скачать',\n",
              "              'время',\n",
              "              'вместо Ctrl, а точка',\n",
              "              'быстро что-то скопировать',\n",
              "              'качественный',\n",
              "              'проблема',\n",
              "              'батареи хватает всего на пару',\n",
              "              'версией по проще',\n",
              "              'бизнес',\n",
              "              'бизнесе',\n",
              "              'hd мониторы',\n",
              "              'Трекпад',\n",
              "              'взял именно эту модель',\n",
              "              'аналогичного ноутбука',\n",
              "              'дешевым подпружиненым',\n",
              "              'запятая на русской раскладке',\n",
              "              'Количество звёзд на отзыве: 5',\n",
              "              'Дико',\n",
              "              'Отличный',\n",
              "              'Unix'],\n",
              "             'negative': ['начал',\n",
              "              'экране',\n",
              "              'очень',\n",
              "              'нужна',\n",
              "              'многое',\n",
              "              'Банальный dropbox нет в appstore',\n",
              "              'appstore . Родной quicktime',\n",
              "              'скачать',\n",
              "              'mail облако',\n",
              "              'Ethernet',\n",
              "              'Cmd вместо',\n",
              "              '6 и 7, буква',\n",
              "              '7, буква ё',\n",
              "              'временем',\n",
              "              'проблемы',\n",
              "              'все конкуренты',\n",
              "              'корпусы',\n",
              "              'кабеля',\n",
              "              'самое',\n",
              "              'трекпадом',\n",
              "              'Колонки',\n",
              "              'поменяли',\n",
              "              'P.S. На пятый',\n",
              "              'Клавиатура',\n",
              "              'зарядки MagSafe2 до открывания',\n",
              "              'решить',\n",
              "              'мышки'],\n",
              "             'neutral': ['часто']})"
            ]
          },
          "metadata": {},
          "execution_count": 163
        }
      ]
    },
    {
      "cell_type": "code",
      "source": [
        "print('Exact match:', exact_match / summarization_length)\n",
        "print('Partial match:', partial_match / summarization_length)"
      ],
      "metadata": {
        "colab": {
          "base_uri": "https://localhost:8080/"
        },
        "id": "KxmAB09rq7Zi",
        "outputId": "c8121854-9c94-483c-a215-31f8003d143c"
      },
      "execution_count": 164,
      "outputs": [
        {
          "output_type": "stream",
          "name": "stdout",
          "text": [
            "Exact match: 0.018480492813141684\n",
            "Partial match: 0.053388090349075976\n"
          ]
        }
      ]
    }
  ]
}