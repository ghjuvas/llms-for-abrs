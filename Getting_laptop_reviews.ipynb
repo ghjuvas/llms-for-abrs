{
  "cells": [
    {
      "cell_type": "markdown",
      "metadata": {
        "id": "L05yN3FD5Vv_"
      },
      "source": [
        "Выкачиваем отзывы на ноутбуки. Для этого нам понадобится:"
      ]
    },
    {
      "cell_type": "code",
      "execution_count": null,
      "metadata": {
        "colab": {
          "base_uri": "https://localhost:8080/"
        },
        "id": "3OC6bA7h6eb-",
        "outputId": "a17e2475-21ca-413d-ff0c-e0eb67d6ecc1"
      },
      "outputs": [
        {
          "name": "stdout",
          "output_type": "stream",
          "text": [
            "Looking in indexes: https://pypi.org/simple, https://us-python.pkg.dev/colab-wheels/public/simple/\n",
            "Requirement already satisfied: bs4 in /usr/local/lib/python3.8/dist-packages (0.0.1)\n",
            "Requirement already satisfied: beautifulsoup4 in /usr/local/lib/python3.8/dist-packages (from bs4) (4.6.3)\n"
          ]
        }
      ],
      "source": [
        "!pip3 install bs4"
      ]
    },
    {
      "cell_type": "code",
      "execution_count": null,
      "metadata": {
        "id": "JVbkNgB-5VwD"
      },
      "outputs": [],
      "source": [
        "import time\n",
        "from tqdm.auto import tqdm\n",
        "import random\n",
        "import re\n",
        "from bs4 import BeautifulSoup\n",
        "import requests"
      ]
    },
    {
      "cell_type": "markdown",
      "metadata": {
        "id": "wwBzT3iJ5VwI"
      },
      "source": [
        "Парсим:"
      ]
    },
    {
      "cell_type": "code",
      "execution_count": null,
      "metadata": {
        "id": "iUMxYkim5VwJ"
      },
      "outputs": [],
      "source": [
        "def parse_site(url: str, ua: str):\n",
        "    '''\n",
        "    Parsing of site (html) using BeautifulSoup.\n",
        "    Returns bs4 object.\n",
        "    '''\n",
        "\n",
        "    res = requests.get(url, headers={'User-Agent': ua})\n",
        "    page = res.text\n",
        "    soup = BeautifulSoup(page, 'html.parser')\n",
        "\n",
        "    return soup"
      ]
    },
    {
      "cell_type": "code",
      "execution_count": null,
      "metadata": {
        "id": "KF-oEfyE5VwK"
      },
      "outputs": [],
      "source": [
        "USER_AGENTS = ['Mozilla/5.0 (Windows NT 6.1; WOW64; rv:40.0) Gecko/20100101 Firefox/89.0',\n",
        "'Mozilla/5.0 (Windows NT 6.1; WOW64; rv:91.0) Gecko/20100101 Firefox/91.0',\n",
        "'Mozilla/5.0 (Windows NT 6.3; Win64; x64; rv:90.0) Gecko/20100101 Firefox/90.0',\n",
        "'Mozilla/5.0 (Windows NT 6.1; Win64; x64) AppleWebKit/537.36 (KHTML, like Gecko) Chrome/91.0.4472.164 Safari/537.36',\n",
        "'Mozilla/5.0 (Windows NT 6.1; Win64; x64) AppleWebKit/537.43 (KHTML, like Gecko) Chrome/91.0.4472.164 Safari/537.36 OPR/77.0.4054.277',\n",
        "'Mozilla/5.0 (Windows NT 6.1; WOW64) AppleWebKit/537.36 (KHTML, like Gecko) Chrome/99.0.4844.51 Safari/537.36',\n",
        "'Mozilla/5.0 (Windows NT 6.3) AppleWebKit/537.43 (KHTML, like Gecko) Chrome/98.0.4758.109 Safari/537.36 OPR/84.0.4316.31']"
      ]
    },
    {
      "cell_type": "code",
      "execution_count": null,
      "metadata": {
        "id": "TOlW6rbY5VwL"
      },
      "outputs": [],
      "source": [
        "def parse_prod_urls(ctlg_url: str, ua: str) -> list:\n",
        "    '''\n",
        "    Function that parse references on the products.\n",
        "    '''\n",
        "\n",
        "    soup_list_prod = parse_site(ctlg_url, ua)\n",
        "    list_main_sent = soup_list_prod.find('div', {'class': 'main-sentences-list'})\n",
        "    picture_blocks = list_main_sent.find_all('div', {'class': 'left-item-block'})\n",
        "    list_prods_hrefs = [block.find('a').attrs['href'] for block in picture_blocks]\n",
        "\n",
        "    return list_prods_hrefs"
      ]
    },
    {
      "cell_type": "markdown",
      "source": [
        "Without stars:"
      ],
      "metadata": {
        "id": "MA2xNsMjm18K"
      }
    },
    {
      "cell_type": "code",
      "execution_count": null,
      "metadata": {
        "id": "Imn_9b2M5VwM"
      },
      "outputs": [],
      "source": [
        "def parse_revs_for_prod(list_prods: list, list_uas: list) -> list:\n",
        "    '''\n",
        "    Function that parse reviews from references.\n",
        "    '''\n",
        "\n",
        "    list_reviews = []\n",
        "\n",
        "    for prod in list_prods:\n",
        "\n",
        "        match = re.search('/(.+?)/$', prod)\n",
        "        product = match.group(0)  # имя продукта\n",
        "\n",
        "        revs = [product]\n",
        "\n",
        "        time.sleep(random.randint(3, 6))\n",
        "\n",
        "        prod_url = 'https://otzivi-tut.ru' + prod\n",
        "        soup_prod = parse_site(prod_url, random.choice(list_uas))\n",
        "        rev_blocks = soup_prod.find_all('div', {'class': 'rew-item'})\n",
        "        # print(prod_url)\n",
        "\n",
        "        if rev_blocks:\n",
        "\n",
        "            for rev_block in rev_blocks:\n",
        "\n",
        "                list_rev = []\n",
        "\n",
        "                # stars_block = rev_block.find('span', {'class': 'stars'})\n",
        "                # list_full_stars = stars_block.find_all('span', {'class': 'star full'})\n",
        "                # count_stars = len(list_full_stars)\n",
        "\n",
        "                rev_text_block = rev_block.find('div', {'class': 'text-s'})\n",
        "                rev_text = rev_text_block.text\n",
        "\n",
        "                # list_rev.append(count_stars)\n",
        "                # list_rev.append(rev_text)\n",
        "\n",
        "                revs.append(rev_text)\n",
        "\n",
        "        list_reviews.append(revs)\n",
        "\n",
        "    return list_reviews"
      ]
    },
    {
      "cell_type": "markdown",
      "metadata": {
        "id": "JefAjo5IQauH"
      },
      "source": [
        "With stars:"
      ]
    },
    {
      "cell_type": "code",
      "execution_count": null,
      "metadata": {
        "id": "BokXwA3t5VwO"
      },
      "outputs": [],
      "source": [
        "def parse_reviews(list_prods: list, list_uas: list) -> list:\n",
        "    '''\n",
        "    Функция, собирающая отзывы на продукты по ссылкам с сайта.\n",
        "    Возвращаем список отзывов на продукты.\n",
        "    '''\n",
        "\n",
        "    # список отзывов без разделения на продукты\n",
        "    list_reviews = []\n",
        "\n",
        "    for prod in list_prods:\n",
        "\n",
        "        revs = []\n",
        "\n",
        "        time.sleep(random.randint(3, 8))  # спим, чтобы не забанили за частые запросы\n",
        "\n",
        "        prod_url = 'https://otzivi-tut.ru' + prod\n",
        "        soup_prod = parse_site(prod_url, random.choice(list_uas))\n",
        "        rev_blocks = soup_prod.find_all('div', {'class': 'rew-item'})\n",
        "        # print(prod_url)\n",
        "\n",
        "        if rev_blocks:\n",
        "\n",
        "            for rev_block in rev_blocks:\n",
        "\n",
        "                try:\n",
        "\n",
        "                    # считаем количество звёздочек\n",
        "                    # которые поставил пользователь на продукт\n",
        "                    stars_block = rev_block.find('span', {'class': 'stars'})\n",
        "                    list_full_stars = stars_block.find_all('span', {'class': 'star full'})\n",
        "                    count_stars = len(list_full_stars)\n",
        "\n",
        "                    # отзыв\n",
        "                    rev_text_block = rev_block.find('div', {'class': 'text-s'})\n",
        "                    rev_text = rev_text_block.text\n",
        "\n",
        "                    if rev_text:  # бывает, парсятся пустыми\n",
        "                        # print('Не пусто')\n",
        "                        match_1 = re.search('Достоинства', rev_text)\n",
        "                        match_2 = re.search('Плюсы', rev_text)\n",
        "\n",
        "                        if match_1 or match_2:\n",
        "\n",
        "                            final_rev_text = rev_text + '\\n' + f'Количество звёзд на отзыве: {count_stars}'\n",
        "                            revs.append(final_rev_text)\n",
        "\n",
        "                except:\n",
        "                    print('Что-то пошло не так с парсингом отзыва!', prod)\n",
        "\n",
        "        if len(revs) >= 10:\n",
        "\n",
        "            list_reviews += revs[:10]\n",
        "\n",
        "    return list_reviews"
      ]
    },
    {
      "cell_type": "markdown",
      "metadata": {
        "id": "juKLwf4nQVGE"
      },
      "source": [
        "One product:"
      ]
    },
    {
      "cell_type": "code",
      "execution_count": null,
      "metadata": {
        "id": "6-X086lsmqvk"
      },
      "outputs": [],
      "source": [
        "def preprocess_review(review: str) -> str:\n",
        "    '''\n",
        "    Предобработка текста отзыва перед записью в корпус.\n",
        "    '''\n",
        "    review = re.sub('\\s+', ' ', review)\n",
        "    review = re.sub('^\\s', '', review)\n",
        "    review = re.sub('\\s$', '', review)\n",
        "    review = re.sub('<br>', '', review)\n",
        "    review = re.sub('Минусы', ' Минусы', review)\n",
        "    review = re.sub('Отзыв', ' Отзыв', review)\n",
        "\n",
        "    return review"
      ]
    },
    {
      "cell_type": "code",
      "execution_count": null,
      "metadata": {
        "id": "eaGifV3MKZKS"
      },
      "outputs": [],
      "source": [
        "def parse_reviews_for_product(href: str, ua: str) -> list:\n",
        "    '''\n",
        "    Функция, которая собирает 10 отзывов для определённого продукта,\n",
        "    которые находятся по ссылке.\n",
        "    '''\n",
        "    \n",
        "    revs = []\n",
        "\n",
        "    time.sleep(random.randint(3, 8))  # спим, чтобы не забанили за частые запросы\n",
        "\n",
        "    prod_url = 'https://otzivi-tut.ru' + href\n",
        "    soup_prod = parse_site(prod_url, ua)\n",
        "    rev_blocks = soup_prod.find_all('div', {'class': 'rew-item'})\n",
        "    # print(prod_url)\n",
        "\n",
        "    if rev_blocks:\n",
        "        for rev_block in rev_blocks:\n",
        "\n",
        "            try:\n",
        "                # считаем количество звёздочек\n",
        "                # которые поставил пользователь на продукт\n",
        "                stars_block = rev_block.find('span', {'class': 'stars'})\n",
        "                list_full_stars = stars_block.find_all('span', {'class': 'star full '})\n",
        "                count_stars = len(list_full_stars)\n",
        "\n",
        "                # отзыв\n",
        "                rev_text_block = rev_block.find('div', {'class': 'text-s'})\n",
        "                rev_text = rev_text_block.text\n",
        "\n",
        "                if rev_text:  # бывает, парсятся пустыми\n",
        "                    # print('Не пусто')\n",
        "\n",
        "                    # проверяем, что есть хотя бы плюсы\n",
        "                    match_1 = re.search('Достоинства:', rev_text)\n",
        "                    match_2 = re.search('Плюсы:', rev_text)\n",
        "\n",
        "                    if match_1 or match_2:\n",
        "\n",
        "                        final_rev_text = rev_text + ' ' + f'Количество звёзд на отзыве: {count_stars}'\n",
        "                        final_rev_text = preprocess_review(final_rev_text)\n",
        "                        revs.append(final_rev_text)\n",
        "\n",
        "            except:\n",
        "                print('Что-то пошло не так с парсингом отзыва на', href)\n",
        "\n",
        "    if len(revs) >= 10:  # если десять или больше выбираем 10\n",
        "        chosen = revs[:10]\n",
        "        return chosen"
      ]
    },
    {
      "cell_type": "code",
      "execution_count": null,
      "metadata": {
        "colab": {
          "base_uri": "https://localhost:8080/"
        },
        "id": "izBHi4Qr5VwP",
        "outputId": "9a0d1650-1de5-4a0e-f80a-0b519d9c6ea2"
      },
      "outputs": [
        {
          "name": "stdout",
          "output_type": "stream",
          "text": [
            "['/products/10401/noutbuki/apple-macbook-air-13-mid-2012/', '/products/115971/noutbuki/lenovo-g580-core-i3-3120m-2500-mhz1561366x76840gb320gbdvd-rwnvidia-geforce-gt-610mwi-fibluetoothdos/', '/products/108322/noutbuki/lenovo-g580-pentium-b960-2200-mhz1561366x76840gb1000gbdvd-rwnvidia-geforce-gt-635mwi-fidos/', '/products/101505/noutbuki/lenovo-g580-core-i5-3230m-2600-mhz1561366x76840gb1000gbdvd-rwnvidia-geforce-gt-610mwi-fibluetoothwin-8-64/', '/products/98493/noutbuki/lenovo-g580-pentium-2020m-2400-mhz1561366x76820gb320gbdvd-rwnvidia-geforce-710mwi-fibluetoothwin-8-64/', '/products/103423/noutbuki/lenovo-g580-pentium-b960-2200-mhz1561366x76840gb500gbdvd-rwwi-fiwin-8-64/', '/products/100437/noutbuki/lenovo-g580-celeron-1000m-1800-mhz1561366x76830gb500gbdvd-rwintel-hd-graphics-2000wi-fibluetoothdos/', '/products/113293/noutbuki/lenovo-g580-core-i3-3110m-2400-mhz1561366x76840gb500gbdvd-rwnvidia-geforce-gt-635mwi-fidos/', '/products/11158/noutbuki/acer-aspire-5-a517-51g/', '/products/112585/noutbuki/lenovo-g580-core-i3-3110m-2400-mhz1561366x76840gb1000gbdvd-rwintel-hd-graphics-4000wi-fidos/', '/products/110264/noutbuki/lenovo-g580-core-i3-3110m-2400-mhz1561366x76840gb1000gbdvd-rwnvidia-geforce-gt-635mwi-fibluetoothwin-8/', '/products/87798/noutbuki/acer-aspire-3-a315-21/', '/products/102013/noutbuki/lenovo-g580-pentium-2020m-2400-mhz1561366x76840gb500gbdvd-rwnvidia-geforce-gt-610mwi-fibluetoothdos/', '/products/102591/noutbuki/lenovo-g580-core-i5-3210m-2500-mhz1561366x76840gb750gbdvd-rwwi-fibluetoothwin-8-64/', '/products/108319/noutbuki/lenovo-g580-celeron-b820-1700-mhz1561366x76820gb500gbdvd-rwwi-fidos/', '/products/91594/noutbuki/hp-17-y000ur/', '/products/97977/noutbuki/lenovo-g580-core-i5-3230m-2600-mhz1561366x76840gb500gbdvd-rwnvidia-geforce-gt-635mwi-fibluetoothwin-8-64/', '/products/112919/noutbuki/lenovo-g580-pentium-b960-2200-mhz1561366x76840gb500gbdvd-rwnvidia-geforce-gt-635mwi-fidos/', '/products/110944/noutbuki/lenovo-g580-celeron-b830-1800-mhz1561366x76820gb500gbdvd-rwwi-fiwin-8/', '/products/102593/noutbuki/lenovo-g580-pentium-b960-2200-mhz1561366x76840gb500gbdvd-rwnvidia-geforce-gt-610mwi-fibluetoothbez-os/']\n"
          ]
        }
      ],
      "source": [
        "# list_hrefs = []\n",
        "\n",
        "# for i in range(2, 7):\n",
        "time.sleep(random.randint(1, 5))\n",
        "asc = f'https://otzivi-tut.ru/category/kompyutery/noutbuki/?sort=cnt_asc&PAGEN_1=3'\n",
        "# print('Новая страница', asc)\n",
        "list_asc_hrefs = parse_prod_urls(asc, random.choice(USER_AGENTS))\n",
        "# list_hrefs.extend(list_asc_hrefs)\n",
        "print(list_asc_hrefs)"
      ]
    },
    {
      "cell_type": "code",
      "execution_count": null,
      "metadata": {
        "colab": {
          "base_uri": "https://localhost:8080/"
        },
        "id": "yNqOZj0LWBZt",
        "outputId": "b28b825b-9e8d-4a28-dbac-7fbd19cf036c"
      },
      "outputs": [
        {
          "data": {
            "text/plain": [
              "['Плюсы: – Легкий – Мощный – Вместительный – Стабильный – Нет DVD привода – SSD винт - грузится моментально – Долго держит зарядку Минусы: – Матрица – Клавиатура отпечатывается на экране – Нет HDMI – Микрофон сбоку Отзыв: Ноутбук корпоративный, я за него денег не платил, поэтому не сильно требователен в оценке. Качество и удобство ОС полностью устраивает. Но для Apple качество сборки оставляет желать лучшего. А именно... Во-первых на моем макбуке и на аналогичных макбуках коллег на экране отпечатывается клавиатура. Со временем она так сильно отпечаталась, что уже ничем не стирается. Во-вторых под разными углами (в том числе даже если смотреть прямо) на экране видны более яркие пятна разного размера. Под определенным углом в ценре проходит \"млечный путь\". Возможно это брак именно моей модели. Там где расположены магнитики постоянно скапливается пыль. На практически идеальном корпусе постоянно видны несколько прямоугольников этой самой пыли. Часто приходится проводить онлайн конференции, но из-за расположения микрофона сбоку приходится изворачиваться, чтобы собеседник хорошо слышал. Ноутбук почему-то плохо работает с переходниками на HDMI, а мне для конференций очень часто нужен именно HDMI порт, которого в нем нет. В остальном качество достойное Apple. Очень удобный, быстрый, легкий, всегда беру везде с собой. Количество звёзд на отзыве: 4',\n",
              " 'Плюсы: Мощность! Легкость! Удобство транспортировки! Mac OS X! Отличное разрешение экрана! Подсветка клавиатуры! Скорость работы и загрузки! Жесты на тачпаде! Минусы: С таким разрешением, на таком экране все очень мелкое, надо привыкать! При установке более низкого разрешения элементы интерфейса становятся крупнее, но четкость похожая на retina пропадает, все становится замыленным! приходится выбирать, либо красивый дисплей, либо крупный удобный интерфейс! Отзыв: Купил за 37 тысяч из Германии! Переходил с windows на mac os, очень доволен, Mac OS X - Лучше! Раньше не мог работать на ноутбуках без мышки и ненавидел тачпад! Теперь мне мышка не нужна вообще, тачпад с жестами идеален! Те кто орут про завышенный ценник, попробуйте найдите, такой же легкий, мощный, стильный, тонкий ультрабук на винде дешевле! Те же зенбуки стоят дороже! Количество звёзд на отзыве: 5',\n",
              " 'Плюсы: Буду банален, но в первую очередь - дизайн! Во вторых, как это не покажется странным - цена. Ультрабук от Samsung с идентичным железом стоит дороже на 3000-4000 рублей. Быстродействие, система стабильна, работает практически безшумно. Главный плюс - экосистема Apple. Thunderbolt. Много софта из коробки. USB 3.0, bluetooth 4.0, очень хорошая батарея. SSD. Минусы: Нет HDMI и ethernet, но Thunderbolt это компенсирует, есть переходники для этого. Отзыв: Он просто великолепен! Если перед Вами стоит выбор какой ультрабук купить - берите именно MacBook Air, не пожалеете. А если нужен Windows, то установить эту ось на мак совсем не трудно. Но ставить форточки на мак не советую, во первых после винды привыкаешь к новой оси практически мгновенно, у меня этот процесс занял примерно два часа (возможно сказался опыт работы с линухом). Во вторых, все задачи выполняемые в винде, можно выполнить и на маке. Такшта, рэкомендую! Количество звёзд на отзыве: 5',\n",
              " 'Достоинства: Легкость, автономность, качествоПО, алюминиевый корпус шикарный тачпад Недостатки: Стоимость аксессуаров и софта Комментарий: Покупал такой в конце2012. Обошелся в 1500 долларов (оригинал для укр. Рынка). Не пожалел, пока кошка не перегрызла зарядку и новая обошлась в 100 баксов. На оф. Софт денег тоже пожалел, благо пиратского на торрентах хватает. А так в удобстве работы он далеко впереди виндовых конкурентов. Для айтишника работающего в облачном софте мощности хватает с головой. Количество звёзд на отзыве: 5',\n",
              " 'Достоинства: Отличный дизайнКачество сборкиСтабильная работаТАЧПЭД! С ним совсем забыл о том что существуют мышиБесшумностьПолная поддержка гарнитур от эплСинхронизация всего через облако с моим айфоном и айпэдомЗвук из колонок мне понравился, по мне так достаточно громкийПродуманное зарядное устройствоОчень быстрый USB 3.0 Недостатки: При нагрузке кулер начинает шуметь, а корпус сильно нагревается.Нет hdmi выхода, но решается переходником за 200р. Комментарий: Покупкой очень доволен! Этот ноутбук действительно стоит своих денег.Особенно если вы владелец айфона\\\\айпэда вам очень понравится синхронизация ВСЕГО.Конечно и на всемогущей мак ос бывают тормоза но они появляются очень редко.Даже в не особо ресурсоемкие игры не поиграешь, немного обидно конечно понимаю что ноут совсем не игровой но иногда хочется поиграться, использую для этого айпэд:)Думал между про и этим, в про много не нужных мне портов и дисковод, а по начинке они не отличаются практически, поэтому выбрал его и не пожалел. Количество звёзд на отзыве: 5',\n",
              " 'Достоинства: вес, SSD диск, макось, аккумулятор, ход клавиш, мультитач Комментарий: Многие тут писали про вес, дизайн и толщину. Аппарат действительно очень тонкий и легкий, а аллюминиевый корпус придает ему солидности. Помещается практически в любую папку-сумку для документов. Нормально держит заряд. После этого макбука печатать на старых виндовых клавиатурах просто нереально сложно и неудобно. Работаю за ним по 7-10 часов в день. Обхожусь без мышки.О покупке ни капли не жалею. Количество звёзд на отзыве: 5',\n",
              " 'Достоинства: Оченнь удобно работать.Экран с отличным качеством изображения.Хороший дизайн и по моим меркам прочный корпус.Очень быстро работает процессор.Почти бесшумно работает что немаловажно. Недостатки: За все время пользования, пока что не обнаружил. Комментарий: Давно искал хороший MacBook, и вот его нашел. Отлично работает. По цене, не все могут его себе позволить, но он стоит этих денег, качество действительно соответствует. Так что советую для всех кому нужен хороший рабочий компьютер. Количество звёзд на отзыве: 5',\n",
              " 'Достоинства: Хороший монитор. Ясно легкий, удобная клава и тач пад. Хороший друг:) Недостатки: Очерь не хватает памяти! Шумит при нагрузке (раньше нп замечал). Комментарий: Купил в штатах, в главном в н-йорке. Тогда вроде дешево, счас в Москве дешевле(брал в мае 12го). Этот аппарат как хорошее вино начинаешь ценитьсо временем - открывается новыми гранями. Еще масса нужных приложений! Но пока ты не в курсах кажется очередной игрушкоф. Изучайте и воздастся! Количество звёзд на отзыве: 5',\n",
              " 'Достоинства: Стильность, удобство управления, быстрота реагирования на все ваши команды.Дело в том, что когда вы начинаете работать на этом и подобном ему ноуте, вы через несколько минут забываете о том, что имеете дело с машиной. С любыми иными, даже очень продвинутыми моделями и с Виндоус вы никогда не забудете, что перед вами - машинка, которая может в какой-то момент закапризничать, начать зависать. Виндоус тупеет со временем. Ось - нет. У меня второй ноутбук. Первый - с Core i7, с диагональю 15. Я работала на нем без перерыва около года, используя все его возможности. Чтобы возникла хоть одна проблема...:) Чтобы хоть на секунду затупила система от частого повторения одних и тех же команд...:) Недостатки: Нет Комментарий: По поводу конкретно этой модели и Маков вообще, а также - в целом - марки, высказались уже очень многие. Ясно, что арсенал отзывов будет только пополняться. Но хочу вставить и свои пять копеек.Этот ноут, несмотря на то, что моделька у меня самая младшая (i5, 4Гб, 128 - диск), даже, мне кажется, немножко шустрее, чем первый. Итак, ответственно заявляю: все предыдущие компы, с которыми я намучалась и за которые, с учетом ремонта и нервов, переплатила уже втридорого, остались в прошлом навсегда! Два Мака - мобильные, надежные и удобные во всем, плюс Айпад 4 - заменили мне все, что было у меня раньше. Они связаны между собой в облачном пространстве, легко синхронизируют данные, и мне не нужны больше все эти флешки и провода! Я не беспокоюсь за свои данные и за то, что кто-то чужой влезет и начнет хозяйничать - защита, которая предусмотрена в системе, исключит неприятности.Все предустановленные программы обеспечат нормальную работу, и вы сможете начинать делать все необходимые дела без всяких раскачек и проблем, уже через пять минут после включения ноутбука. Система удобна. Ноутбук мобилен, батарея держит зарят отлично, клавиатура - то, что нужно! Работая над этой и другими моделями, в компании продумали все до мелочей. И получилось в точности по формуле: \"Все гениальное просто\". Желаю всем удачных приобретений и рекомендую остановить свой выбор именно на Мас! Количество звёзд на отзыве: 5',\n",
              " 'Достоинства: Самый большой плюс - это ось. Безумно радует ее продуманность и стабильность - компьютер я последний раз выключал еще перед новым годом.Ну и всякие приятные мелочи вроде магсейфа, крайне удобных кнопок контроля громкости, яркости и воспроизведения музыки и многопальцевого мультитача. Недостатки: Пару месяцев назад сломалась кнопка выключения. Просто вот сломалась. Мне-то ничего, я его и так не выключаю. А вот когда он внезапно заглючил... В общем, пришлось идти в сервис и просить, чтоб включили. Хорошо еще, что денег не взяли.Дальше - хуже. На днях отказали 75% стрелочек: правая, верхняя и нижняя.И самое ужасное то, что заменить просто кнопку нельзя: нужно менять всю клавиатуру целиком, а обойдется это от 9 до 15 тысяч, в зависимости от наглости сервис-центра.И еще - очень мякгий корпус. Если вы не самый аккуратный человек - лучше купите хардкейс. Мои боевые раны: вмятина на правом верхнем углу - нес сложенным в одной руки, упал с высоты колена;Вмятина слева вверху - неудачно поставил на край стола, результат - ноутбук грохнулся плашмя. Хорошо, что петли экрана выдержали;Вмятина на верхней грани - нес сложенным, случайно задел край стола.Ах, да, и еще вентиляция - он либо абсолютно бесшумен и холоден, либо шумит и греется похлеще закипающего чайника.И еще вспомнил. Корпус крайне маркий - я уже сбился со счета, сколько салфеточек для компьютеров я потратил. Комментарий: Несомтря на ранее перечисленные недостатки, впечатления от пользования исключительно положительные: теперь я знаю, компьютер какой марки я буду покупать в случае будущего апгрейда. Количество звёзд на отзыве: 5']"
            ]
          },
          "execution_count": 11,
          "metadata": {},
          "output_type": "execute_result"
        }
      ],
      "source": [
        "parse_reviews_for_product(list_asc_hrefs[0], random.choice(USER_AGENTS))"
      ]
    },
    {
      "cell_type": "markdown",
      "metadata": {
        "id": "xRHclmS55Vwi"
      },
      "source": [
        "References:"
      ]
    },
    {
      "cell_type": "code",
      "execution_count": null,
      "metadata": {
        "id": "VNHy-q0rzwNO"
      },
      "outputs": [],
      "source": [
        "with open('/content/drive/MyDrive/Summarization/laptop data/final_pc_hrefs', 'r', encoding='utf-8') as ff:\n",
        "    hr = ff.read().split('\\n')"
      ]
    },
    {
      "cell_type": "code",
      "execution_count": null,
      "metadata": {
        "colab": {
          "base_uri": "https://localhost:8080/"
        },
        "id": "97vX8J490UU4",
        "outputId": "972dd6ef-f4d9-416d-88ca-fe19728765cc"
      },
      "outputs": [
        {
          "name": "stdout",
          "output_type": "stream",
          "text": [
            "1480\n"
          ]
        }
      ],
      "source": [
        "print(len(hr))"
      ]
    },
    {
      "cell_type": "code",
      "execution_count": null,
      "metadata": {
        "colab": {
          "base_uri": "https://localhost:8080/"
        },
        "id": "X9XNRwja5Vwi",
        "outputId": "ae303e37-2033-424c-bf81-620070bd1024"
      },
      "outputs": [
        {
          "name": "stdout",
          "output_type": "stream",
          "text": [
            "['apple macbook pro 15', 'asus zenbook ux52vs', 'hp pavilion dv6', 'acer aspire one aod270', 'asus k52f']\n",
            "['/products/117174/noutbuki/apple-macbook-pro-15-with-retina-display-mid-2015-mjlq2-core-i7-2200-mhz1542880x1800160gb256gbdvd-netintel-iris-pro-graphics-5200wi-fibluetoothmacos-x/', '/products/117442/noutbuki/asus-zenbook-ux52vs-core-i7-3517u-1900-mhz1561920x10804096mb500gbdvd-rwwi-fibluetoothwin-8-64/', '/products/115892/noutbuki/hp-pavilion-dv6-2045el-core-i7-720qm-1600-mhz1561366x7684096mb320gbdvd-rwwi-fibluetoothwin-7-hp/', '/products/117935/noutbuki/acer-aspire-one-aod270-268kk/', '/products/123502/noutbuki/asus-k52f-pentium-p6100-2000-mhz1561366x7682048mb3200gbdvd-rwwi-fidos/']\n",
            "\n",
            "\n",
            "Итого продуктов в корпусе 1480\n"
          ]
        }
      ],
      "source": [
        "hrs = []\n",
        "short_names = []\n",
        "\n",
        "for h in hr:\n",
        "    # print('Имя', name)\n",
        "    h_name = h.split('/')[-2]\n",
        "    name_words = []\n",
        "    ind = True\n",
        "    for word in h_name.split('-'):\n",
        "        if ind:\n",
        "            # print('Слово в имени', word)\n",
        "            name_words.append(word)\n",
        "            if re.search('\\d+', word) and re.search('\\w+', word):\n",
        "                # print('Нашли цифры и буквы', word)\n",
        "                ind = False\n",
        "    # print(name_words)\n",
        "    short_name = ' '.join(name_words)\n",
        "    if short_names not in short_names:\n",
        "        short_names.append(short_name)\n",
        "        hrs.append(h)\n",
        "\n",
        "print(short_names[:5])\n",
        "print(hrs[:5])\n",
        "print('\\n')\n",
        "print('Итого продуктов в корпусе', len(hrs))"
      ]
    },
    {
      "cell_type": "markdown",
      "metadata": {
        "id": "LYMVy4poCKwO"
      },
      "source": [
        "**Unique products with names and references:**"
      ]
    },
    {
      "cell_type": "code",
      "execution_count": null,
      "metadata": {
        "id": "3Jbasz3KwTf-"
      },
      "outputs": [],
      "source": [
        "with open('/content/drive/MyDrive/Summarization/laptop data/laptop_hrefs_before_parsing.txt', 'w', encoding='utf-8') as bp:\n",
        "    bp.write('\\n'.join(hrs))"
      ]
    },
    {
      "cell_type": "code",
      "execution_count": null,
      "metadata": {
        "id": "Si_noDMJ0e4Z"
      },
      "outputs": [],
      "source": [
        "with open('/content/drive/MyDrive/Summarization/laptop data/laptop_names_before_parsing.txt', 'w', encoding='utf-8') as nbp:\n",
        "    nbp.write('\\n'.join(short_names))"
      ]
    },
    {
      "cell_type": "markdown",
      "metadata": {
        "id": "0nHlBeDE5Vwj"
      },
      "source": [
        "In several stages:"
      ]
    },
    {
      "cell_type": "code",
      "execution_count": null,
      "metadata": {
        "id": "dji89F6-5Vwj"
      },
      "outputs": [],
      "source": [
        "with open('/content/drive/MyDrive/Summarization/laptop data/laptop_hrefs_before_parsing.txt', 'r', encoding='utf-8') as h_f:\n",
        "    hrs = h_f.read().split('\\n')"
      ]
    },
    {
      "cell_type": "code",
      "execution_count": null,
      "metadata": {
        "colab": {
          "base_uri": "https://localhost:8080/"
        },
        "id": "-7AmXaKP5Vwj",
        "outputId": "e2e9f8e3-ae4f-4719-deae-c96b678e8865"
      },
      "outputs": [
        {
          "name": "stdout",
          "output_type": "stream",
          "text": [
            "['/products/117174/noutbuki/apple-macbook-pro-15-with-retina-display-mid-2015-mjlq2-core-i7-2200-mhz1542880x1800160gb256gbdvd-netintel-iris-pro-graphics-5200wi-fibluetoothmacos-x/', '/products/117442/noutbuki/asus-zenbook-ux52vs-core-i7-3517u-1900-mhz1561920x10804096mb500gbdvd-rwwi-fibluetoothwin-8-64/', '/products/115892/noutbuki/hp-pavilion-dv6-2045el-core-i7-720qm-1600-mhz1561366x7684096mb320gbdvd-rwwi-fibluetoothwin-7-hp/']\n"
          ]
        }
      ],
      "source": [
        "hrs_3 = hrs[:3]\n",
        "print(hrs_3)"
      ]
    },
    {
      "cell_type": "markdown",
      "metadata": {
        "id": "HZ5Hr9fD5Vwj"
      },
      "source": [
        "Sample:"
      ]
    },
    {
      "cell_type": "code",
      "execution_count": null,
      "metadata": {
        "colab": {
          "base_uri": "https://localhost:8080/"
        },
        "id": "i-eE3_UI5Vwj",
        "outputId": "bec23088-bbed-4930-9830-8a3013211ee7"
      },
      "outputs": [
        {
          "name": "stdout",
          "output_type": "stream",
          "text": [
            "Длина списка отзывов: 30\n",
            "Три первых отзыва: ['\\n\\nПлюсы: Unix\\r\\nТрекпад\\r\\nКачественный экран\\r\\nКачество сборки\\r\\nДолгое время работы от аккумулятора\\r\\nОтличный звук от колонокМинусы: Трекпад начал пощелкивать спустя 3 месяца после покупки\\r\\nАллюминиевый корпус вминается, если уронить/ударить ноутбук Отзыв: Я работаю разработчиком и покупал ноутбук именно для работы.\\r\\nПользуюсь ноутбуком уже 5-й месяц. \\r\\nДо этого пару лет пользовался Thinkpad x220 и Linux. Очень радует то, что операционная система семейства Unix, а также то, что в интернете огромное количество информации под macOS и OS X для разработчиков, когда нужно что-то скомпилировать/собрать и т.д.\\r\\nЭто как Linux, только очень качественный и доведенный до ума без его болячек, вроде того, что что-нибудь отвалится в процессе работы само по себе и т.д.\\r\\nИз недостатков:\\r\\n- корпус можно было бы сделать из более прочного материала - я один раз уронил ноутбук на кафель и получил неплохую вмятину на крышке.\\r\\n- не знаю с чем это связано, но трекпад начал немного потрескивать при касании в верхнем правом углу, работе не мешает, но портит общее впечатление\\n                                                                                                \\n\\n\\nКоличество звёзд на отзыве: 0', '\\n\\nПлюсы: - качество картинки на мониторе\\n- тачпад просто нечто!\\n- очень шустрый ssd\\n- авторегулировка яркости и экрана и подсветки клавиатуры\\n- нормальные разъемы USB, HDMI и отверстие для SD карточек, пока я считаю это плюс, лет 5 наверное станет скорее минусом, но через столько лет я наверное новый уже куплю, а пока у меня нет ни одного USB-С устройства\\n- аккумулятор\\n- нормальная POSIX операционная система, прям как Linux только с нормальным графическим интерфейсом\\n- прекрасная интеграция с айфоном\\n- выхлоп вентиляторов в сторону экрана - можно класть ноутбук на любой бокМинусы: - корпус хрупковат, чуть ударил - вмятина на алюминии\\n- экран глянцевый все таки в определенных условиях отражает\\n- отпечатки пальцев на экране и рамке очень хорошо видны\\n- подвывает вентиляторами под нагрузкойОтзыв: Успел купить пару месяцев назад, сейчас смотрю как то из продажи стали резко исчезать, кому нужна действительно нормальная прошка - хватайте пока не поздно. До этого был thinkpad w510 и пользовался я различными линуксами. По сравнению с монстрообразным синкпадом в макбуке нет ничего лишнего, никаких диалап модемов, expresscard слотов и прочего. Зато есть самые нужные разъемы и наворотики типа датчика света. Чувствуется что когда модель разрабатывали реально думали каково будет житься пользователям и не лепили абы как все что можно влепить. Очень продуманный ноутбук до самых мелочей.\\nЭкран просто шикарен, по качеству картинки лучше монитора я не видел, немного портит все глянец на экране - легко залапывается и все таки отражает свет из окон. Тачпад с отдачей - просто простая и гениальная идея - им очень удобно пользоваться, даже мне, человеку привыкшему жить без мышки.\\nАккумулятор супер, тем более что 4 ядерная 15 дюймовая машина, я до 0 за два месяца использования разрядить не смог ни разу.\\nКорпус классный в плане внешнего вида и в плане оттереть любое загрязнение - не проблема вообще. Но если ставите ноутбук на коленки, то они быстро потеют, т.к. корпус алюминиевый, прилегает хорошо и воздух не циркулирует. Еще алюминий легко мнется, я уголок крышки немного подбил.\\nПо софту просто выше всяких похвал. Интерфейс шустрый, красивый, удобный. И при этом за ним нормальная POSIX совместимая ОС, в которой можно запустить терминал и использовать тот же ssh. Интеграция с айфоном великолепная - общий буфер обмена, можно принимать звонки, видны все смски. Еще плюс, то что софт от мелкомягких(скайп, аутлук, корявый офис, RDP клиент) выпускается для маков - как бы я его бы видеть не хотел бы, но по работе нужен, не смотря на глюченость эти продуктов работать можно. Весь опенсорс софт с линукса доступен так же и под маком.  \\n                                                                                                \\n\\n\\nКоличество звёзд на отзыве: 0', '\\n\\nПлюсы: алюминий, марка, батарейка, экран, вес, звукМинусы: софт ооооооооочень дорогой и многое нет!Отзыв: купил, первое впечатление ВАУ . Потом когда дома стал подробнее вникать, больше разочарование чем ВАУ . Софт весь дико дорого стоит . Крякнутый под новую ось почти весь не идет и многое нет в наличии . Банальный dropbox нет в appstore . Родной quicktime player это вообще тупость какая то . На винде он определенный файл проигрывает, а тут НЕТ, зато сторонний Elmedia на ура. Туповатое организация фоток . В фото все хорошо, а стоит скажем скачать и синхронизировать mail облако, так это отдельно выходит и неудобно просматривать . Игры есть более менее, можно скачать и скоротать время.\\n                                                                                                \\n\\n\\nКоличество звёзд на отзыве: 0']\n"
          ]
        }
      ],
      "source": [
        "parse_3 = parse_reviews(hrs[:3], USER_AGENTS)\n",
        "print('Длина списка отзывов:', len(parse_3))\n",
        "print('Три первых отзыва:', parse_3[:3])"
      ]
    },
    {
      "cell_type": "markdown",
      "metadata": {
        "id": "H6Bv1QDaOcpD"
      },
      "source": [
        "Pipeline:\n",
        "* Get one link\n",
        "* Get reviews from the link"
      ]
    },
    {
      "cell_type": "code",
      "execution_count": null,
      "metadata": {
        "id": "z5XLDxYZ0VnC"
      },
      "outputs": [],
      "source": [
        "with open('/content/drive/MyDrive/Summarization/laptop data/laptop_names_before_parsing.txt', 'r', encoding='utf-8') as sf:\n",
        "    short_names = sf.read().split('\\n')\n",
        "with open('/content/drive/MyDrive/Summarization/laptop data/laptop_hrefs_before_parsing.txt', 'r', encoding='utf-8') as pf:\n",
        "    pc_hrefs = pf.read().split('\\n')"
      ]
    },
    {
      "cell_type": "code",
      "execution_count": null,
      "metadata": {
        "colab": {
          "base_uri": "https://localhost:8080/"
        },
        "id": "Hw7ILTF41JQj",
        "outputId": "4c439660-00f0-4594-8eba-3b39f97c0cae"
      },
      "outputs": [
        {
          "name": "stdout",
          "output_type": "stream",
          "text": [
            "apple macbook pro 15 /products/117174/noutbuki/apple-macbook-pro-15-with-retina-display-mid-2015-mjlq2-core-i7-2200-mhz1542880x1800160gb256gbdvd-netintel-iris-pro-graphics-5200wi-fibluetoothmacos-x/\n"
          ]
        }
      ],
      "source": [
        "for name, pc_href in zip(short_names, pc_hrefs):  # zip по двум итераторам\n",
        "    print(name, pc_href)\n",
        "    break"
      ]
    },
    {
      "cell_type": "markdown",
      "source": [
        "Sample:"
      ],
      "metadata": {
        "id": "AReNjziInnMH"
      }
    },
    {
      "cell_type": "code",
      "execution_count": null,
      "metadata": {
        "colab": {
          "base_uri": "https://localhost:8080/"
        },
        "id": "tAgRLM8U6_9m",
        "outputId": "e33584bf-5716-4219-9605-056cf5b89e9e"
      },
      "outputs": [
        {
          "name": "stdout",
          "output_type": "stream",
          "text": [
            "0\n",
            "apple macbook pro 15\n",
            "/products/117174/noutbuki/apple-macbook-pro-15-with-retina-display-mid-2015-mjlq2-core-i7-2200-mhz1542880x1800160gb256gbdvd-netintel-iris-pro-graphics-5200wi-fibluetoothmacos-x/\n",
            "0\n"
          ]
        }
      ],
      "source": [
        "for idx, (name, href) in enumerate(zip(short_names, pc_hrefs)):\n",
        "    print(idx)\n",
        "    print(name)\n",
        "    print(href)\n",
        "\n",
        "    time.sleep(random.randint(1, 5))\n",
        "\n",
        "    try:\n",
        "        product_reviews = parse_reviews_for_product(href, random.choice(USER_AGENTS))\n",
        "        # processing\n",
        "        if product_reviews:  # if there are less than 10 reviews on the product, nothing is returned\n",
        "\n",
        "            # reviews\n",
        "            with open('/content/drive/MyDrive/Summarization/laptop data/data/laptop_reviews.txt', 'a', encoding='utf-8') as cf:\n",
        "                # запись\n",
        "                cf.write('\\n'.join(product_reviews))\n",
        "                cf.write('\\n')\n",
        "\n",
        "            # name\n",
        "            with open('/content/drive/MyDrive/Summarization/laptop data/data/laptop_names.txt', 'a', encoding='utf-8') as cnf:\n",
        "                cnf.write(name)\n",
        "                cnf.write('\\n')\n",
        "\n",
        "            # link\n",
        "            with open('/content/drive/MyDrive/Summarization/laptop data/data/laptop_hrefs.txt', 'a', encoding='utf-8') as chf:\n",
        "                chf.write(href)\n",
        "                chf.write('\\n')\n",
        "    except:\n",
        "        print('There is an error!')\n",
        "\n",
        "    if idx % 100 == 0:\n",
        "        print(idx)\n",
        "\n",
        "    break"
      ]
    },
    {
      "cell_type": "code",
      "execution_count": null,
      "metadata": {
        "colab": {
          "base_uri": "https://localhost:8080/"
        },
        "id": "lh6CYrLQTAN8",
        "outputId": "0d07a3b2-3463-4dc4-9331-7aa628a7fe25"
      },
      "outputs": [
        {
          "metadata": {
            "tags": null
          },
          "name": "stdout",
          "output_type": "stream",
          "text": [
            "0\n",
            "100\n",
            "200\n",
            "300\n",
            "400\n",
            "500\n",
            "600\n",
            "700\n",
            "800\n",
            "900\n",
            "1000\n",
            "1100\n",
            "1200\n",
            "1300\n",
            "1400\n"
          ]
        }
      ],
      "source": [
        "for idx, (name, href) in enumerate(zip(short_names, pc_hrefs)):\n",
        "\n",
        "    time.sleep(random.randint(1, 5))\n",
        "\n",
        "    try:\n",
        "        product_reviews = parse_reviews_for_product(href, random.choice(USER_AGENTS))\n",
        "        # processing\n",
        "        if product_reviews:  # if there are less than 10 reviews on the product, nothing is returned\n",
        "\n",
        "            # reviews\n",
        "            with open('/content/drive/MyDrive/Summarization/laptop data/data/laptop_reviews.txt', 'a', encoding='utf-8') as cf:\n",
        "                # запись\n",
        "                cf.write('\\n'.join(product_reviews))\n",
        "                cf.write('\\n')\n",
        "\n",
        "            # name\n",
        "            with open('/content/drive/MyDrive/Summarization/laptop data/data/laptop_names.txt', 'a', encoding='utf-8') as cnf:\n",
        "                cnf.write(name)\n",
        "                cnf.write('\\n')\n",
        "\n",
        "            # link\n",
        "            with open('/content/drive/MyDrive/Summarization/laptop data/data/laptop_hrefs.txt', 'a', encoding='utf-8') as chf:\n",
        "                chf.write(href)\n",
        "                chf.write('\\n')\n",
        "    except:\n",
        "        print('There is an error!')\n",
        "\n",
        "    if idx % 100 == 0:\n",
        "        print(idx)"
      ]
    },
    {
      "cell_type": "code",
      "execution_count": null,
      "metadata": {
        "id": "3Lc6iQiPpR_T",
        "colab": {
          "base_uri": "https://localhost:8080/"
        },
        "outputId": "fc9fa486-bf78-43af-c053-3908f5524507"
      },
      "outputs": [
        {
          "output_type": "stream",
          "name": "stdout",
          "text": [
            "\n",
            "Плюсы: Unix Трекпад Качественный экран Качество сборки Долгое время работы от аккумулятора Отличный звук от колонок Минусы: Трекпад начал пощелкивать спустя 3 месяца после покупки Аллюминиевый корпус вминается, если уронить/ударить ноутбук  Отзыв: Я работаю разработчиком и покупал ноутбук именно для работы. Пользуюсь ноутбуком уже 5-й месяц. До этого пару лет пользовался Thinkpad x220 и Linux. Очень радует то, что операционная система семейства Unix, а также то, что в интернете огромное количество информации под macOS и OS X для разработчиков, когда нужно что-то скомпилировать/собрать и т.д. Это как Linux, только очень качественный и доведенный до ума без его болячек, вроде того, что что-нибудь отвалится в процессе работы само по себе и т.д. Из недостатков: - корпус можно было бы сделать из более прочного материала - я один раз уронил ноутбук на кафель и получил неплохую вмятину на крышке. - не знаю с чем это связано, но трекпад начал немного потрескивать при касании в верхнем правом углу, работе не мешает, но портит общее впечатление Количество звёзд на отзыве: 5\n",
            "12990\n"
          ]
        }
      ],
      "source": [
        "with open('/content/drive/MyDrive/Summarization/laptop data/data/laptop_reviews.txt', 'r', encoding='utf-8') as cf:\n",
        "    data = cf.read().split('\\n')\n",
        "\n",
        "print(data[-1])\n",
        "print(data[0])\n",
        "print(len(data[0:-1]))"
      ]
    },
    {
      "cell_type": "code",
      "execution_count": null,
      "metadata": {
        "id": "twl13P0ipVXe",
        "colab": {
          "base_uri": "https://localhost:8080/"
        },
        "outputId": "df128615-d5ee-40f5-941c-45aa2406398c"
      },
      "outputs": [
        {
          "output_type": "stream",
          "name": "stdout",
          "text": [
            "\n",
            "apple macbook pro 15\n",
            "1299\n"
          ]
        }
      ],
      "source": [
        "with open('/content/drive/MyDrive/Summarization/laptop data/data/laptop_names.txt', 'r', encoding='utf-8') as cf:\n",
        "    data = cf.read().split('\\n')\n",
        "\n",
        "print(data[-1])\n",
        "print(data[0])\n",
        "print(len(data[0:-1]))"
      ]
    }
  ],
  "metadata": {
    "colab": {
      "provenance": []
    },
    "interpreter": {
      "hash": "916dbcbb3f70747c44a77c7bcd40155683ae19c65e1c03b4aa3499c5328201f1"
    },
    "kernelspec": {
      "display_name": "Python 3.8.10 64-bit",
      "language": "python",
      "name": "python3"
    },
    "language_info": {
      "codemirror_mode": {
        "name": "ipython",
        "version": 3
      },
      "file_extension": ".py",
      "mimetype": "text/x-python",
      "name": "python",
      "nbconvert_exporter": "python",
      "pygments_lexer": "ipython3",
      "version": "3.8.10"
    }
  },
  "nbformat": 4,
  "nbformat_minor": 0
}