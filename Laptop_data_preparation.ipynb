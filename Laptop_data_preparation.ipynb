{
  "cells": [
    {
      "cell_type": "markdown",
      "metadata": {
        "id": "j4itbdkHgwWX"
      },
      "source": [
        "# Data preparation\n",
        "Prepare data and files for markup for project on the aspect-based summarization of reviews."
      ]
    },
    {
      "cell_type": "markdown",
      "metadata": {
        "id": "52nliURaKvj6"
      },
      "source": [
        "## Imports"
      ]
    },
    {
      "cell_type": "code",
      "execution_count": null,
      "metadata": {
        "id": "ZH1T7Ib7Ly2Y"
      },
      "outputs": [],
      "source": [
        "from copy import deepcopy\n",
        "import re\n",
        "import pandas as pd"
      ]
    },
    {
      "cell_type": "markdown",
      "metadata": {
        "id": "z3--kdZDwJZB"
      },
      "source": [
        "## Data"
      ]
    },
    {
      "cell_type": "code",
      "execution_count": null,
      "metadata": {
        "id": "rj3pm1QHwKYk"
      },
      "outputs": [],
      "source": [
        "with open('/content/drive/MyDrive/Summarization/laptop data/data/laptop_hrefs.txt', 'r', encoding='utf-8') as h:\n",
        "    hrefs = h.read().split('\\n')[:-1]\n",
        "\n",
        "with open('/content/drive/MyDrive/Summarization/laptop data/data/laptop_names.txt', 'r', encoding='utf-8') as n:\n",
        "    names = n.read().split('\\n')[:-1]\n",
        "\n",
        "with open('/content/drive/MyDrive/Summarization/laptop data/data/laptop_reviews.txt', 'r', encoding='utf-8') as r:\n",
        "    reviews = r.read().split('\\n')[:-1]"
      ]
    },
    {
      "cell_type": "code",
      "execution_count": null,
      "metadata": {
        "colab": {
          "base_uri": "https://localhost:8080/"
        },
        "id": "dtNUC2KVh42I",
        "outputId": "28e83d4a-e566-46d8-b194-038bd0a035a2"
      },
      "outputs": [
        {
          "output_type": "stream",
          "name": "stdout",
          "text": [
            "1299\n",
            "1299\n",
            "12990\n"
          ]
        }
      ],
      "source": [
        "print(len(hrefs))\n",
        "print(len(names))\n",
        "print(len(reviews))"
      ]
    },
    {
      "cell_type": "code",
      "execution_count": null,
      "metadata": {
        "colab": {
          "base_uri": "https://localhost:8080/"
        },
        "id": "rYa3b7yp2zkz",
        "outputId": "e7b72140-a5e4-4862-f7a3-8761258bbbd6"
      },
      "outputs": [
        {
          "output_type": "stream",
          "name": "stdout",
          "text": [
            "Плюсы: -Хорошая видеокарта -Памяти 4гб, что очень хорошо -HDMI м eSATA Минусы: -Батарея слабая, фильм еле хватило посмотреть -Греется сильно -Жесткий диск маловат Отзыв: Купили в апреле прошлого года, работает отлично. Винчетре хотелось бы побольше, но есть внешний на 2тб, так что терпимо. Греется довольно сильно, думал взять подставку с охлаждением, но не нашел подходящей в городе. Решил проблему путем подкладывания широкой книги средней толщины, играть даже удобнее стало и экран стал чуть выше располагаться. Долго разбирался как настроить цвет на экране, все равно не получилось желаемого результата, цвета не очень естественные но не сильно бросается в глаза.  Минусы не так значительны, достоинств у него больше чем недостатков. Количество звёзд на отзыве: 4\n"
          ]
        }
      ],
      "source": [
        "print(reviews[30])"
      ]
    },
    {
      "cell_type": "markdown",
      "metadata": {
        "id": "d2VR14VwLzla"
      },
      "source": [
        "## Database initialization (base)"
      ]
    },
    {
      "cell_type": "markdown",
      "metadata": {
        "id": "XSLtx24JKN4O"
      },
      "source": [
        "It will be а database with both reviews and their markup. The guidelines were provided by the author of this notebook.\n",
        "* Aspect extraction and sentiment annotation markup: [here]()\n",
        "* Summarization markup: [here]()"
      ]
    },
    {
      "cell_type": "code",
      "execution_count": null,
      "metadata": {
        "id": "2OoGnsUMgrUG"
      },
      "outputs": [],
      "source": [
        "# products: id short_name href\n",
        "products_df = pd.DataFrame(\n",
        "    {\n",
        "        'id': range(len(names)),\n",
        "        'short_name': names,\n",
        "        'href': hrefs\n",
        "    }\n",
        ")\n",
        "\n",
        "products_df.to_csv('/content/drive/MyDrive/Summarization/laptop data/datasets/products.tsv', sep='\\t', index=False)"
      ]
    },
    {
      "cell_type": "code",
      "execution_count": null,
      "metadata": {
        "id": "xI8rQqS2jOz4"
      },
      "outputs": [],
      "source": [
        "PATTERN_PLUS = re.compile('\\s*Плюсы:\\s*')\n",
        "PATTERN_MINUS = re.compile('\\s*Минусы:\\s*')\n",
        "PATTERN_REVIEW = re.compile('\\s*Отзыв:\\s*')\n",
        "PATTERN_ADVANTAGES = re.compile('\\s*Достоинства:\\s*')\n",
        "PATTERN_DISADVANTAGES = re.compile('\\s*Недостатки:\\s*')\n",
        "PATTERN_COMMENT = re.compile('\\s*Комментарий:\\s*')\n",
        "PATTERN_STARS = re.compile('\\s*Количество звёзд на отзыве:\\s*')\n",
        "\n",
        "PATTERNS = [[PATTERN_PLUS, PATTERN_ADVANTAGES], [PATTERN_MINUS, PATTERN_DISADVANTAGES], [PATTERN_REVIEW, PATTERN_COMMENT]]"
      ]
    },
    {
      "cell_type": "code",
      "execution_count": null,
      "metadata": {
        "colab": {
          "base_uri": "https://localhost:8080/"
        },
        "id": "piYz9p8OvGT5",
        "outputId": "58bf511e-6618-4765-96d9-e2164b5769b7"
      },
      "outputs": [
        {
          "output_type": "execute_result",
          "data": {
            "text/plain": [
              "False"
            ]
          },
          "metadata": {},
          "execution_count": 8
        }
      ],
      "source": [
        "match_1 = 1\n",
        "match_2 = None\n",
        "\n",
        "bool(match_1 and match_2)"
      ]
    },
    {
      "cell_type": "code",
      "execution_count": null,
      "metadata": {
        "id": "jEgqPTnz68WB"
      },
      "outputs": [],
      "source": [
        "def get_parts(review: str) -> dict:\n",
        "    '''\n",
        "    Get parts of a review.\n",
        "    '''\n",
        "\n",
        "    parts = ['', '', '', '']  # pos, neg, rev, stars\n",
        "\n",
        "    # find relevant parts by regex\n",
        "\n",
        "    matches = [None, None, None]  # plus, minus, comment\n",
        "\n",
        "    for idx, (pattern_1, pattern_2) in enumerate(PATTERNS):\n",
        "        match_1 = re.search(pattern_1, review)\n",
        "        match_2 = re.search(pattern_2, review)\n",
        "        if match_1 and match_2:\n",
        "            if match_1.span()[0] < match_2.span()[0]:\n",
        "                matches[idx] = pattern_1\n",
        "            else:\n",
        "                matches[idx] = pattern_2\n",
        "        elif match_1:\n",
        "            matches[idx] = pattern_1\n",
        "        elif match_2:\n",
        "            matches[idx] = pattern_2\n",
        "\n",
        "    # print(matches)\n",
        "\n",
        "    # split sentiment parts (plus and minus) by patterns\n",
        "\n",
        "    matches_idx = [idx for idx, pattern in enumerate(matches) if pattern]\n",
        "\n",
        "    # print(matches_idx)\n",
        "\n",
        "    try:\n",
        "\n",
        "        if len(matches_idx) == 3:\n",
        "            _, part_1 = re.split(matches[0], review, maxsplit=1)\n",
        "            part_1, part_2 = re.split(matches[1], part_1, maxsplit=1)\n",
        "            part_2, part_3 = re.split(matches[2], part_2, maxsplit=1)\n",
        "            part_3, stars = re.split(PATTERN_STARS, part_3, maxsplit=1)\n",
        "\n",
        "            parts[0], parts[1], parts[2], parts[3] = part_1, part_2, part_3, stars\n",
        "\n",
        "        elif len(matches_idx) == 2:\n",
        "            _, part_1 = re.split(matches[matches_idx[0]], review, maxsplit=1)\n",
        "            part_1, part_2 = re.split(matches[matches_idx[1]], part_1, maxsplit=1)\n",
        "            part_2, stars = re.split(PATTERN_STARS, part_2, maxsplit=1)\n",
        "                \n",
        "            parts[matches_idx[0]], parts[matches_idx[1]], parts[3] = part_1, part_2, stars\n",
        "\n",
        "        elif len(matches_idx) == 1:\n",
        "            _, part_1 = re.split(matches[matches_idx[0]], review, maxsplit=1)\n",
        "            part_1, stars = re.split(PATTERN_STARS, part_1, maxsplit=1)\n",
        "\n",
        "            parts[matches_idx[0]], parts[3] = part_1, stars\n",
        "\n",
        "        elif len(matches_idx) == 0:\n",
        "            rev, stars = re.split(PATTERN_STARS, review, maxsplit=1)\n",
        "\n",
        "            parts[2], parts[3] = rev, stars\n",
        "\n",
        "    except ValueError:\n",
        "\n",
        "        rev, stars = re.split(PATTERN_STARS, review, maxsplit=1)\n",
        "\n",
        "        parts[2], parts[3] = rev, stars\n",
        "\n",
        "    return parts"
      ]
    },
    {
      "cell_type": "code",
      "execution_count": null,
      "metadata": {
        "id": "SJqMmFTQQGwQ"
      },
      "outputs": [],
      "source": [
        "# if matches[0]:\n",
        "#         pos = re.sub(matches[0], '', review)\n",
        "#         print(pos)\n",
        "#     if matches[1] and matches[0]:\n",
        "#         pos, neg = re.split(matches[1], pos, maxsplit=1)  # sometimes there are repeated start like 'Плюсы: Плюсы:'\n",
        "#         print(pos)\n",
        "#         print(neg)\n",
        "#     if matches[1] and not matches[0]:\n",
        "#         _, neg = re.split(matches[1], pos, maxsplit=1)\n",
        "#     if matches[2] and matches[1]:\n",
        "#         print(neg)\n",
        "#         neg, rev = re.split(matches[2], neg, maxsplit=1)\n",
        "#         print(rev)\n",
        "#     _, stars = re.split(PATTERN_STARS, review, maxsplit=1)"
      ]
    },
    {
      "cell_type": "code",
      "execution_count": null,
      "metadata": {
        "colab": {
          "base_uri": "https://localhost:8080/"
        },
        "id": "uImNJLhN3zti",
        "outputId": "80935936-92a4-4c2f-c8dc-25f629ee8063"
      },
      "outputs": [
        {
          "output_type": "stream",
          "name": "stdout",
          "text": [
            "Плюсы:Не выявил  Минусы:Windows Срок использования 2 дня Ноутбук даже не включился, точнее, виндовс не запустился, пишет ошибку и ничего сделать нельзя. Никакого установочного диска или флешки в комплекте нет, так что если произойдёт программный сбой, увы и ах на помойку. К сожалению, мы не проверили ноутбук в магазине, т.к. торопились к себе в город, а мы живем в другом городе где нет М.Видео, и попросту нет возможности доставить или забрать товар. Собираемся возвращать по гарантии, надеюсь, вернут. Количество звёзд на отзыве: 1\n",
            "['Не выявил']\n",
            "['Windows Срок использования 2 дня Ноутбук даже не включился, точнее, виндовс не запустился, пишет ошибку и ничего сделать нельзя. Никакого установочного диска или флешки в комплекте нет, так что если произойдёт программный сбой, увы и ах на помойку. К сожалению, мы не проверили ноутбук в магазине, т.к. торопились к себе в город, а мы живем в другом городе где нет М.Видео, и попросту нет возможности доставить или забрать товар. Собираемся возвращать по гарантии, надеюсь, вернут.']\n",
            "['']\n",
            "['1']\n"
          ]
        }
      ],
      "source": [
        "pos = []\n",
        "neg = []\n",
        "rev = []\n",
        "stars = []\n",
        "\n",
        "print(reviews[3937])\n",
        "parts = get_parts(reviews[3937])\n",
        "pos.append(parts[0])\n",
        "neg.append(parts[1])\n",
        "rev.append(parts[2])\n",
        "stars.append(parts[3])\n",
        "\n",
        "print(pos)\n",
        "print(neg)\n",
        "print(rev)\n",
        "print(stars)"
      ]
    },
    {
      "cell_type": "code",
      "execution_count": null,
      "metadata": {
        "colab": {
          "base_uri": "https://localhost:8080/",
          "height": 53
        },
        "id": "3x8rks22iS50",
        "outputId": "f616d876-be32-4061-865a-4df6ddd2d38c"
      },
      "outputs": [
        {
          "output_type": "execute_result",
          "data": {
            "text/plain": [
              "'/products/117174/noutbuki/apple-macbook-pro-15-with-retina-display-mid-2015-mjlq2-core-i7-2200-mhz1542880x1800160gb256gbdvd-netintel-iris-pro-graphics-5200wi-fibluetoothmacos-x/'"
            ],
            "application/vnd.google.colaboratory.intrinsic+json": {
              "type": "string"
            }
          },
          "metadata": {},
          "execution_count": 11
        }
      ],
      "source": [
        "hrefs[0]"
      ]
    },
    {
      "cell_type": "code",
      "execution_count": null,
      "metadata": {
        "id": "HRmWJo5b3aqm"
      },
      "outputs": [],
      "source": [
        "pos = []\n",
        "neg = []\n",
        "rev = []\n",
        "stars = []\n",
        "\n",
        "for idx, review in enumerate(reviews):\n",
        "    try:\n",
        "        parts = get_parts(review)\n",
        "        pos.append(parts[0])\n",
        "        neg.append(parts[1])\n",
        "        rev.append(parts[2])\n",
        "        stars.append(parts[3])\n",
        "    except (ValueError, UnboundLocalError, TypeError):\n",
        "        print(idx)\n",
        "        print(review)"
      ]
    },
    {
      "cell_type": "code",
      "execution_count": null,
      "metadata": {
        "id": "riGpQav5KNK8"
      },
      "outputs": [],
      "source": [
        "# reviews: id product_id text pluses minuses review stars\n",
        "reviews_df = pd.DataFrame(\n",
        "    {\n",
        "        'id': range(0, len(reviews)),\n",
        "        'product_id': [i for i in range(len(names)) for x in range(10)],\n",
        "        'text': reviews,\n",
        "        'pluses': pos,\n",
        "        'minuses': neg,\n",
        "        'review': rev,\n",
        "        'stars': stars\n",
        "    }\n",
        ")\n",
        "\n",
        "reviews_df.to_csv('/content/drive/MyDrive/Summarization/laptop data/datasets/reviews.tsv', sep='\\t', index=False)"
      ]
    },
    {
      "cell_type": "code",
      "execution_count": null,
      "metadata": {
        "id": "6WDtQ03jgvxh"
      },
      "outputs": [],
      "source": [
        "# aspects and sentiment: id text_id category sent_from sent_to sentiment sent sent_term normalized_sent_term term_from term_to term type\n",
        "aspects_df = pd.DataFrame(\n",
        "    {\n",
        "        'id': [],\n",
        "        'text_id': [],\n",
        "        'category': [],\n",
        "        'sent_from': [],\n",
        "        'sent_to': [],\n",
        "        'sentiment': [],\n",
        "        'sent': [],\n",
        "        'sent_term': [],\n",
        "        'normalized_sent_term': [],\n",
        "        'term_from': [],\n",
        "        'term_to': [],\n",
        "        'term': [],\n",
        "        'normalized_term': [],\n",
        "        'type': []\n",
        "    }\n",
        ")\n",
        "\n",
        "aspects_df.to_csv('/content/drive/MyDrive/Summarization/laptop data/datasets/aspects.tsv', sep='\\t', index=False)"
      ]
    },
    {
      "cell_type": "code",
      "execution_count": null,
      "metadata": {
        "id": "bpFOBZQ2MN9m"
      },
      "outputs": [],
      "source": [
        "# summarization: id product_id term sentiment\n",
        "summarization_df = pd.DataFrame(\n",
        "    {\n",
        "        'id': [],\n",
        "        'product_id': [],\n",
        "        'term': [],\n",
        "        'sentiment': []\n",
        "    }\n",
        ")\n",
        "\n",
        "summarization_df.to_csv('/content/drive/MyDrive/Summarization/laptop data/datasets/summarization.tsv', sep='\\t', index=False)"
      ]
    }
  ],
  "metadata": {
    "colab": {
      "provenance": []
    },
    "kernelspec": {
      "display_name": "Python 3",
      "name": "python3"
    },
    "language_info": {
      "name": "python"
    }
  },
  "nbformat": 4,
  "nbformat_minor": 0
}